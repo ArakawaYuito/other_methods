{
 "cells": [
  {
   "cell_type": "code",
   "execution_count": 1,
   "id": "b0a1f882",
   "metadata": {
    "scrolled": false
   },
   "outputs": [
    {
     "data": {
      "text/plain": [
       "['C:\\\\Users\\\\Arakawa\\\\Documents\\\\olab\\\\研究\\\\異常音判別\\\\knn\\\\another_data\\\\地点①_graph_6月22日12-18時.xlsx',\n",
       " 'C:\\\\Users\\\\Arakawa\\\\Documents\\\\olab\\\\研究\\\\異常音判別\\\\knn\\\\another_data\\\\地点①_graph_6月22日18-24時.xlsx',\n",
       " 'C:\\\\Users\\\\Arakawa\\\\Documents\\\\olab\\\\研究\\\\異常音判別\\\\knn\\\\another_data\\\\地点①_graph_6月23日0-6時.xlsx',\n",
       " 'C:\\\\Users\\\\Arakawa\\\\Documents\\\\olab\\\\研究\\\\異常音判別\\\\knn\\\\another_data\\\\地点①_graph_6月23日6-12時.xlsx',\n",
       " 'C:\\\\Users\\\\Arakawa\\\\Documents\\\\olab\\\\研究\\\\異常音判別\\\\knn\\\\another_data\\\\地点①_graph_6月28日12-18時.xlsx',\n",
       " 'C:\\\\Users\\\\Arakawa\\\\Documents\\\\olab\\\\研究\\\\異常音判別\\\\knn\\\\another_data\\\\地点①_graph_6月28日18-24時.xlsx',\n",
       " 'C:\\\\Users\\\\Arakawa\\\\Documents\\\\olab\\\\研究\\\\異常音判別\\\\knn\\\\another_data\\\\地点①_graph_6月29日0-6時.xlsx',\n",
       " 'C:\\\\Users\\\\Arakawa\\\\Documents\\\\olab\\\\研究\\\\異常音判別\\\\knn\\\\another_data\\\\地点①_graph_6月29日6-12時.xlsx']"
      ]
     },
     "execution_count": 1,
     "metadata": {},
     "output_type": "execute_result"
    }
   ],
   "source": [
    "import pandas as pd\n",
    "import os\n",
    "import glob\n",
    "\n",
    "data_dir='another_data'\n",
    "current_dir=os.getcwd()\n",
    "noise_data_dir=os.path.join(current_dir, data_dir)\n",
    "noise_data_file=os.path.join(noise_data_dir,'地点*.xlsx')\n",
    "noise_data_files=glob.glob(noise_data_file)\n",
    "learning_data_dir=os.path.join(current_dir, data_dir)\n",
    "noise_data_files"
   ]
  },
  {
   "cell_type": "code",
   "execution_count": 21,
   "id": "23bbf0db",
   "metadata": {},
   "outputs": [],
   "source": [
    "df_list=[]\n",
    "for i in range(int(len(noise_data_files)/4)):\n",
    "    noise_data=noise_data_files[i*4:(i+1)*4]\n",
    "    \n",
    "    file_list=[]\n",
    "    for j in range(len(noise_data)):\n",
    "        df=pd.read_excel(noise_data[j], sheet_name=1, header=None, usecols=[1, 2, 3, 4, 5, 6], skiprows=2)\n",
    "        file_list.append(df[:36000])\n",
    "    \n",
    "    column_list=[]\n",
    "    for j in range(len(file_list)):\n",
    "        tmp=file_list[j]\n",
    "\n",
    "        for k in tmp.columns:\n",
    "            column_list.append(tmp[k])\n",
    "\n",
    "    data=pd.concat(column_list, ignore_index=True)\n",
    "    data=pd.DataFrame(data, columns=['original'])\n",
    "    data['day']=i\n",
    "    df_list.append(data)"
   ]
  },
  {
   "cell_type": "code",
   "execution_count": 23,
   "id": "8b548006",
   "metadata": {},
   "outputs": [
    {
     "data": {
      "text/html": [
       "<div>\n",
       "<style scoped>\n",
       "    .dataframe tbody tr th:only-of-type {\n",
       "        vertical-align: middle;\n",
       "    }\n",
       "\n",
       "    .dataframe tbody tr th {\n",
       "        vertical-align: top;\n",
       "    }\n",
       "\n",
       "    .dataframe thead th {\n",
       "        text-align: right;\n",
       "    }\n",
       "</style>\n",
       "<table border=\"1\" class=\"dataframe\">\n",
       "  <thead>\n",
       "    <tr style=\"text-align: right;\">\n",
       "      <th></th>\n",
       "      <th>original</th>\n",
       "      <th>day</th>\n",
       "    </tr>\n",
       "  </thead>\n",
       "  <tbody>\n",
       "    <tr>\n",
       "      <th>0</th>\n",
       "      <td>67.6</td>\n",
       "      <td>0</td>\n",
       "    </tr>\n",
       "    <tr>\n",
       "      <th>1</th>\n",
       "      <td>68.0</td>\n",
       "      <td>0</td>\n",
       "    </tr>\n",
       "    <tr>\n",
       "      <th>2</th>\n",
       "      <td>68.1</td>\n",
       "      <td>0</td>\n",
       "    </tr>\n",
       "    <tr>\n",
       "      <th>3</th>\n",
       "      <td>68.3</td>\n",
       "      <td>0</td>\n",
       "    </tr>\n",
       "    <tr>\n",
       "      <th>4</th>\n",
       "      <td>68.9</td>\n",
       "      <td>0</td>\n",
       "    </tr>\n",
       "    <tr>\n",
       "      <th>...</th>\n",
       "      <td>...</td>\n",
       "      <td>...</td>\n",
       "    </tr>\n",
       "    <tr>\n",
       "      <th>1727995</th>\n",
       "      <td>75.1</td>\n",
       "      <td>1</td>\n",
       "    </tr>\n",
       "    <tr>\n",
       "      <th>1727996</th>\n",
       "      <td>74.1</td>\n",
       "      <td>1</td>\n",
       "    </tr>\n",
       "    <tr>\n",
       "      <th>1727997</th>\n",
       "      <td>73.8</td>\n",
       "      <td>1</td>\n",
       "    </tr>\n",
       "    <tr>\n",
       "      <th>1727998</th>\n",
       "      <td>74</td>\n",
       "      <td>1</td>\n",
       "    </tr>\n",
       "    <tr>\n",
       "      <th>1727999</th>\n",
       "      <td>73.7</td>\n",
       "      <td>1</td>\n",
       "    </tr>\n",
       "  </tbody>\n",
       "</table>\n",
       "<p>1728000 rows × 2 columns</p>\n",
       "</div>"
      ],
      "text/plain": [
       "        original  day\n",
       "0           67.6    0\n",
       "1           68.0    0\n",
       "2           68.1    0\n",
       "3           68.3    0\n",
       "4           68.9    0\n",
       "...          ...  ...\n",
       "1727995     75.1    1\n",
       "1727996     74.1    1\n",
       "1727997     73.8    1\n",
       "1727998       74    1\n",
       "1727999     73.7    1\n",
       "\n",
       "[1728000 rows x 2 columns]"
      ]
     },
     "execution_count": 23,
     "metadata": {},
     "output_type": "execute_result"
    }
   ],
   "source": [
    "df=pd.concat(df_list, ignore_index=True)\n",
    "df"
   ]
  },
  {
   "cell_type": "code",
   "execution_count": 4,
   "id": "7adc3537",
   "metadata": {},
   "outputs": [],
   "source": [
    "output_file=f'another_data.csv'\n",
    "df.to_csv(os.path.join(learning_data_dir, output_file), index=False)"
   ]
  },
  {
   "cell_type": "code",
   "execution_count": null,
   "id": "85b54120",
   "metadata": {},
   "outputs": [],
   "source": []
  },
  {
   "cell_type": "code",
   "execution_count": null,
   "id": "81c81d12",
   "metadata": {},
   "outputs": [],
   "source": []
  },
  {
   "cell_type": "code",
   "execution_count": null,
   "id": "ebee5d88",
   "metadata": {},
   "outputs": [],
   "source": []
  },
  {
   "cell_type": "code",
   "execution_count": null,
   "id": "1334e4ae",
   "metadata": {},
   "outputs": [],
   "source": []
  }
 ],
 "metadata": {
  "kernelspec": {
   "display_name": "Python 3 (ipykernel)",
   "language": "python",
   "name": "python3"
  },
  "language_info": {
   "codemirror_mode": {
    "name": "ipython",
    "version": 3
   },
   "file_extension": ".py",
   "mimetype": "text/x-python",
   "name": "python",
   "nbconvert_exporter": "python",
   "pygments_lexer": "ipython3",
   "version": "3.9.7"
  }
 },
 "nbformat": 4,
 "nbformat_minor": 5
}
