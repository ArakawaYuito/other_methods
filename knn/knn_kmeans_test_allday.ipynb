{
 "cells": [
  {
   "cell_type": "code",
   "execution_count": 1,
   "id": "cdc48f36",
   "metadata": {},
   "outputs": [],
   "source": [
    "import numpy as np\n",
    "import matplotlib.pyplot as plt\n",
    "from sklearn.neighbors import NearestNeighbors\n",
    "from sklearn.metrics import precision_score\n",
    "import pandas as pd\n",
    "import seaborn as sns\n",
    "from statsmodels import api as sm\n",
    "from matplotlib import pyplot as plt\n",
    "from pandas.plotting import register_matplotlib_converters\n",
    "import os\n",
    "import numpy as np\n",
    "import math\n",
    "import validate\n",
    "from sklearn.preprocessing import StandardScaler\n",
    "from sklearn.decomposition import PCA\n",
    "import PR_curve\n",
    "from sklearn.cluster import KMeans"
   ]
  },
  {
   "cell_type": "code",
   "execution_count": 2,
   "id": "16d92fbe",
   "metadata": {
    "scrolled": true
   },
   "outputs": [
    {
     "data": {
      "text/html": [
       "<div>\n",
       "<style scoped>\n",
       "    .dataframe tbody tr th:only-of-type {\n",
       "        vertical-align: middle;\n",
       "    }\n",
       "\n",
       "    .dataframe tbody tr th {\n",
       "        vertical-align: top;\n",
       "    }\n",
       "\n",
       "    .dataframe thead th {\n",
       "        text-align: right;\n",
       "    }\n",
       "</style>\n",
       "<table border=\"1\" class=\"dataframe\">\n",
       "  <thead>\n",
       "    <tr style=\"text-align: right;\">\n",
       "      <th></th>\n",
       "      <th>original</th>\n",
       "      <th>label</th>\n",
       "      <th>time</th>\n",
       "      <th>day</th>\n",
       "    </tr>\n",
       "  </thead>\n",
       "  <tbody>\n",
       "    <tr>\n",
       "      <th>0</th>\n",
       "      <td>53.4</td>\n",
       "      <td>0</td>\n",
       "      <td>15</td>\n",
       "      <td>0</td>\n",
       "    </tr>\n",
       "    <tr>\n",
       "      <th>1</th>\n",
       "      <td>52.8</td>\n",
       "      <td>0</td>\n",
       "      <td>15</td>\n",
       "      <td>0</td>\n",
       "    </tr>\n",
       "    <tr>\n",
       "      <th>2</th>\n",
       "      <td>52.8</td>\n",
       "      <td>0</td>\n",
       "      <td>15</td>\n",
       "      <td>0</td>\n",
       "    </tr>\n",
       "    <tr>\n",
       "      <th>3</th>\n",
       "      <td>53.2</td>\n",
       "      <td>0</td>\n",
       "      <td>15</td>\n",
       "      <td>0</td>\n",
       "    </tr>\n",
       "    <tr>\n",
       "      <th>4</th>\n",
       "      <td>53.6</td>\n",
       "      <td>0</td>\n",
       "      <td>15</td>\n",
       "      <td>0</td>\n",
       "    </tr>\n",
       "    <tr>\n",
       "      <th>...</th>\n",
       "      <td>...</td>\n",
       "      <td>...</td>\n",
       "      <td>...</td>\n",
       "      <td>...</td>\n",
       "    </tr>\n",
       "    <tr>\n",
       "      <th>3995345</th>\n",
       "      <td>45.9</td>\n",
       "      <td>0</td>\n",
       "      <td>5</td>\n",
       "      <td>9</td>\n",
       "    </tr>\n",
       "    <tr>\n",
       "      <th>3995346</th>\n",
       "      <td>45.6</td>\n",
       "      <td>0</td>\n",
       "      <td>5</td>\n",
       "      <td>9</td>\n",
       "    </tr>\n",
       "    <tr>\n",
       "      <th>3995347</th>\n",
       "      <td>45.8</td>\n",
       "      <td>0</td>\n",
       "      <td>5</td>\n",
       "      <td>9</td>\n",
       "    </tr>\n",
       "    <tr>\n",
       "      <th>3995348</th>\n",
       "      <td>45.7</td>\n",
       "      <td>0</td>\n",
       "      <td>5</td>\n",
       "      <td>9</td>\n",
       "    </tr>\n",
       "    <tr>\n",
       "      <th>3995349</th>\n",
       "      <td>45.9</td>\n",
       "      <td>0</td>\n",
       "      <td>5</td>\n",
       "      <td>9</td>\n",
       "    </tr>\n",
       "  </tbody>\n",
       "</table>\n",
       "<p>3995350 rows × 4 columns</p>\n",
       "</div>"
      ],
      "text/plain": [
       "         original  label  time  day\n",
       "0            53.4      0    15    0\n",
       "1            52.8      0    15    0\n",
       "2            52.8      0    15    0\n",
       "3            53.2      0    15    0\n",
       "4            53.6      0    15    0\n",
       "...           ...    ...   ...  ...\n",
       "3995345      45.9      0     5    9\n",
       "3995346      45.6      0     5    9\n",
       "3995347      45.8      0     5    9\n",
       "3995348      45.7      0     5    9\n",
       "3995349      45.9      0     5    9\n",
       "\n",
       "[3995350 rows x 4 columns]"
      ]
     },
     "execution_count": 2,
     "metadata": {},
     "output_type": "execute_result"
    }
   ],
   "source": [
    "data_dir='fixed_csv_label_ver2'\n",
    "original = pd.read_csv( os.path.join(data_dir, 'learning_data_10.csv') )\n",
    "df = pd.read_csv( os.path.join(data_dir, 'learning_data_10.csv') )\n",
    "df=df[df['day']<=9]\n",
    "df"
   ]
  },
  {
   "cell_type": "code",
   "execution_count": 3,
   "id": "cf857e04",
   "metadata": {
    "scrolled": true
   },
   "outputs": [
    {
     "data": {
      "text/html": [
       "<div>\n",
       "<style scoped>\n",
       "    .dataframe tbody tr th:only-of-type {\n",
       "        vertical-align: middle;\n",
       "    }\n",
       "\n",
       "    .dataframe tbody tr th {\n",
       "        vertical-align: top;\n",
       "    }\n",
       "\n",
       "    .dataframe thead th {\n",
       "        text-align: right;\n",
       "    }\n",
       "</style>\n",
       "<table border=\"1\" class=\"dataframe\">\n",
       "  <thead>\n",
       "    <tr style=\"text-align: right;\">\n",
       "      <th></th>\n",
       "      <th>original</th>\n",
       "      <th>original_lag1</th>\n",
       "      <th>original_lag2</th>\n",
       "      <th>original_lag3</th>\n",
       "      <th>original_lag4</th>\n",
       "      <th>day</th>\n",
       "      <th>d</th>\n",
       "      <th>z</th>\n",
       "    </tr>\n",
       "  </thead>\n",
       "  <tbody>\n",
       "    <tr>\n",
       "      <th>0</th>\n",
       "      <td>53.6</td>\n",
       "      <td>53.2</td>\n",
       "      <td>52.8</td>\n",
       "      <td>52.8</td>\n",
       "      <td>53.4</td>\n",
       "      <td>0</td>\n",
       "      <td>0</td>\n",
       "      <td>0</td>\n",
       "    </tr>\n",
       "    <tr>\n",
       "      <th>1</th>\n",
       "      <td>54.0</td>\n",
       "      <td>53.6</td>\n",
       "      <td>53.2</td>\n",
       "      <td>52.8</td>\n",
       "      <td>52.8</td>\n",
       "      <td>0</td>\n",
       "      <td>0</td>\n",
       "      <td>0</td>\n",
       "    </tr>\n",
       "    <tr>\n",
       "      <th>2</th>\n",
       "      <td>54.7</td>\n",
       "      <td>54.0</td>\n",
       "      <td>53.6</td>\n",
       "      <td>53.2</td>\n",
       "      <td>52.8</td>\n",
       "      <td>0</td>\n",
       "      <td>0</td>\n",
       "      <td>0</td>\n",
       "    </tr>\n",
       "    <tr>\n",
       "      <th>3</th>\n",
       "      <td>55.7</td>\n",
       "      <td>54.7</td>\n",
       "      <td>54.0</td>\n",
       "      <td>53.6</td>\n",
       "      <td>53.2</td>\n",
       "      <td>0</td>\n",
       "      <td>0</td>\n",
       "      <td>0</td>\n",
       "    </tr>\n",
       "    <tr>\n",
       "      <th>4</th>\n",
       "      <td>55.5</td>\n",
       "      <td>55.7</td>\n",
       "      <td>54.7</td>\n",
       "      <td>54.0</td>\n",
       "      <td>53.6</td>\n",
       "      <td>0</td>\n",
       "      <td>0</td>\n",
       "      <td>0</td>\n",
       "    </tr>\n",
       "    <tr>\n",
       "      <th>...</th>\n",
       "      <td>...</td>\n",
       "      <td>...</td>\n",
       "      <td>...</td>\n",
       "      <td>...</td>\n",
       "      <td>...</td>\n",
       "      <td>...</td>\n",
       "      <td>...</td>\n",
       "      <td>...</td>\n",
       "    </tr>\n",
       "    <tr>\n",
       "      <th>3995305</th>\n",
       "      <td>45.9</td>\n",
       "      <td>45.6</td>\n",
       "      <td>45.4</td>\n",
       "      <td>45.9</td>\n",
       "      <td>46.0</td>\n",
       "      <td>9</td>\n",
       "      <td>0</td>\n",
       "      <td>0</td>\n",
       "    </tr>\n",
       "    <tr>\n",
       "      <th>3995306</th>\n",
       "      <td>45.6</td>\n",
       "      <td>45.9</td>\n",
       "      <td>45.6</td>\n",
       "      <td>45.4</td>\n",
       "      <td>45.9</td>\n",
       "      <td>9</td>\n",
       "      <td>0</td>\n",
       "      <td>0</td>\n",
       "    </tr>\n",
       "    <tr>\n",
       "      <th>3995307</th>\n",
       "      <td>45.8</td>\n",
       "      <td>45.6</td>\n",
       "      <td>45.9</td>\n",
       "      <td>45.6</td>\n",
       "      <td>45.4</td>\n",
       "      <td>9</td>\n",
       "      <td>0</td>\n",
       "      <td>0</td>\n",
       "    </tr>\n",
       "    <tr>\n",
       "      <th>3995308</th>\n",
       "      <td>45.7</td>\n",
       "      <td>45.8</td>\n",
       "      <td>45.6</td>\n",
       "      <td>45.9</td>\n",
       "      <td>45.6</td>\n",
       "      <td>9</td>\n",
       "      <td>0</td>\n",
       "      <td>0</td>\n",
       "    </tr>\n",
       "    <tr>\n",
       "      <th>3995309</th>\n",
       "      <td>45.9</td>\n",
       "      <td>45.7</td>\n",
       "      <td>45.8</td>\n",
       "      <td>45.6</td>\n",
       "      <td>45.9</td>\n",
       "      <td>9</td>\n",
       "      <td>0</td>\n",
       "      <td>0</td>\n",
       "    </tr>\n",
       "  </tbody>\n",
       "</table>\n",
       "<p>3995310 rows × 8 columns</p>\n",
       "</div>"
      ],
      "text/plain": [
       "         original  original_lag1  original_lag2  original_lag3  original_lag4  \\\n",
       "0            53.6           53.2           52.8           52.8           53.4   \n",
       "1            54.0           53.6           53.2           52.8           52.8   \n",
       "2            54.7           54.0           53.6           53.2           52.8   \n",
       "3            55.7           54.7           54.0           53.6           53.2   \n",
       "4            55.5           55.7           54.7           54.0           53.6   \n",
       "...           ...            ...            ...            ...            ...   \n",
       "3995305      45.9           45.6           45.4           45.9           46.0   \n",
       "3995306      45.6           45.9           45.6           45.4           45.9   \n",
       "3995307      45.8           45.6           45.9           45.6           45.4   \n",
       "3995308      45.7           45.8           45.6           45.9           45.6   \n",
       "3995309      45.9           45.7           45.8           45.6           45.9   \n",
       "\n",
       "         day  d  z  \n",
       "0          0  0  0  \n",
       "1          0  0  0  \n",
       "2          0  0  0  \n",
       "3          0  0  0  \n",
       "4          0  0  0  \n",
       "...      ... .. ..  \n",
       "3995305    9  0  0  \n",
       "3995306    9  0  0  \n",
       "3995307    9  0  0  \n",
       "3995308    9  0  0  \n",
       "3995309    9  0  0  \n",
       "\n",
       "[3995310 rows x 8 columns]"
      ]
     },
     "execution_count": 3,
     "metadata": {},
     "output_type": "execute_result"
    }
   ],
   "source": [
    "def make_data(x, str,w):\n",
    "    x=pd.DataFrame(x)\n",
    "    window=w\n",
    "    for i in range(1, window):\n",
    "        column=f'{str}_lag{i}'\n",
    "        x[column]=x[str].shift(i)\n",
    "    return x\n",
    "\n",
    "def make_label(x, w):\n",
    "    window=w\n",
    "    x['label_all']=x['label']\n",
    "    for i in range(1, window):\n",
    "        x.loc[(x['label_all']==1)|(x['label'].shift(i)==1), 'label_all']=1\n",
    "        x.loc[(x['label_all']==0)&(x['label'].shift(i)==0), 'label_all']=0\n",
    "    \n",
    "    x['label']=x['label_all']\n",
    "    return x[['label']]\n",
    "\n",
    "df_list=[]\n",
    "for i in set(df['day']):\n",
    "    lag=[] \n",
    "    window=5\n",
    "    lag.append(make_data(df.loc[df['day']==i, ['original']], 'original', window))\n",
    "    lag.append(df.loc[df['day']==i, ['day']])\n",
    "    df_add_lag=pd.concat(lag, axis=1)\n",
    "    df_list.append(df_add_lag)\n",
    "df=pd.concat(df_list)\n",
    "df=df.dropna().reset_index(drop=True)\n",
    "df['d']=0\n",
    "df['z']=0\n",
    "df"
   ]
  },
  {
   "cell_type": "markdown",
   "id": "bd85ac97",
   "metadata": {},
   "source": [
    "## 異常ラベル付与"
   ]
  },
  {
   "cell_type": "code",
   "execution_count": 4,
   "id": "d158aa15",
   "metadata": {
    "scrolled": false
   },
   "outputs": [
    {
     "name": "stdout",
     "output_type": "stream",
     "text": [
      "0日目\n",
      "閾値0.22251273394366253\n",
      "適合率：0.9201954397394136\n",
      "再現率：0.7264957264957265\n",
      "f値：0.8119531679276385\n",
      "-----------------------------------------------\n",
      "1日目\n",
      "閾値0.22136451980569774\n",
      "適合率：0.9450841452612931\n",
      "再現率：0.8953488372093024\n",
      "f値：0.9195444752231456\n",
      "-----------------------------------------------\n",
      "2日目\n",
      "閾値0.12012500791025607\n",
      "適合率：0.8727876106194691\n",
      "再現率：0.84375\n",
      "f値：0.8580231996133398\n",
      "-----------------------------------------------\n",
      "3日目\n",
      "閾値0.20336772287714008\n",
      "適合率：0.7720286885245902\n",
      "再現率：0.9655172413793104\n",
      "f値：0.8579997763295684\n",
      "-----------------------------------------------\n",
      "4日目\n",
      "閾値0.12824636816738072\n",
      "適合率：0.9206521739130434\n",
      "再現率：0.890625\n",
      "f値：0.9053896931963092\n",
      "-----------------------------------------------\n",
      "5日目\n",
      "閾値0.19978562960438057\n",
      "適合率：0.8425531914893617\n",
      "再現率：0.9714285714285714\n",
      "f値：0.9024128686327078\n",
      "-----------------------------------------------\n",
      "6日目\n",
      "閾値0.1637998172344294\n",
      "適合率：0.7688073394495413\n",
      "再現率：0.8611111111111112\n",
      "f値：0.8123456018011821\n",
      "-----------------------------------------------\n",
      "7日目\n",
      "閾値0.13900612709668375\n",
      "適合率：0.9955555555555555\n",
      "再現率：0.66\n",
      "f値：0.793771812080537\n",
      "-----------------------------------------------\n",
      "8日目\n",
      "閾値0.1542457857614639\n",
      "適合率：0.9507751937984497\n",
      "再現率：1.0\n",
      "f値：0.9747665408305186\n",
      "-----------------------------------------------\n",
      "9日目\n",
      "閾値0.17700056198415207\n",
      "適合率：0.9543795620437956\n",
      "再現率：1.0\n",
      "f値：0.976657329598506\n",
      "-----------------------------------------------\n",
      "f値平均：0.8812864465233453\n"
     ]
    }
   ],
   "source": [
    "f_score_sum=0\n",
    "for i in set(df['day']):\n",
    "    print(f'{i}日目')\n",
    "\n",
    "    test_day=[i]\n",
    "    train=df[(~df['day'].isin(test_day))][df.columns[:-3]].reset_index(drop=True)\n",
    "    test=df[(df['day'].isin(test_day))][df.columns[:-3]].reset_index(drop=True)\n",
    "\n",
    "    nk = 21\n",
    "    neigh = NearestNeighbors(n_neighbors=nk)\n",
    "    neigh.fit(train)\n",
    "    d = neigh.kneighbors(test)[0]\n",
    "    d = np.mean(d, axis=1)\n",
    "    mx = np.max(d)\n",
    "    d = d / mx\n",
    "\n",
    "    test_v=original[original['day'].isin(test_day)][['original', 'label']].reset_index(drop=True)\n",
    "    test_v['d']=d[0]\n",
    "    test_v.loc[window-1:, 'd']=d\n",
    " \n",
    "    #kmeans\n",
    "    n_clusters=4\n",
    "    model = KMeans(n_clusters=n_clusters)  \n",
    "    model.fit(d.reshape((-1, 1)))\n",
    "    clusters = model.predict(d.reshape((-1, 1)))  \n",
    "    result=pd.DataFrame({'d':d, 'cluster':clusters})\n",
    "    thr_list=[]\n",
    "    for j in range(n_clusters):\n",
    "        thr_list.append(result.loc[result['cluster']==j, 'd'].max())\n",
    "    thr=sorted(thr_list)[-2]\n",
    "    print(f'閾値{thr}')\n",
    "    \n",
    "    d_test=test_v['d'].values\n",
    "    precision, recall=validate.validate(test_v, d_test, thr)\n",
    "    f_score=(2*precision*recall)/(precision+recall)\n",
    "    print(f'適合率：{precision}')\n",
    "    print(f'再現率：{recall}')\n",
    "    print(f'f値：{f_score}')\n",
    "    f_score_sum+=f_score\n",
    "\n",
    "    z=np.where(d>=thr, 1, 0)\n",
    "    df.loc[(df['day'].isin(test_day)), 'd']=d\n",
    "    df.loc[(df['day'].isin(test_day)), 'z']=z\n",
    "    print('-----------------------------------------------')\n",
    "f_mean=f_score_sum/len(set(df['day']))\n",
    "print(f'f値平均：{f_mean}')"
   ]
  },
  {
   "cell_type": "code",
   "execution_count": null,
   "id": "f86f8627",
   "metadata": {},
   "outputs": [],
   "source": []
  },
  {
   "cell_type": "code",
   "execution_count": null,
   "id": "fe0af013",
   "metadata": {},
   "outputs": [],
   "source": []
  },
  {
   "cell_type": "markdown",
   "id": "cebd083f",
   "metadata": {},
   "source": [
    "# kmeansによる閾値"
   ]
  },
  {
   "cell_type": "code",
   "execution_count": 5,
   "id": "c1b6a5bd",
   "metadata": {
    "scrolled": true
   },
   "outputs": [
    {
     "name": "stdout",
     "output_type": "stream",
     "text": [
      "0日目閾値0.22280878743579904\n",
      "1日目閾値0.22135304729424793\n",
      "2日目閾値0.12028423034351117\n",
      "3日目閾値0.20344710895437346\n",
      "4日目閾値0.12859112365954584\n",
      "5日目閾値0.2021276472771629\n",
      "6日目閾値0.16386467997083498\n",
      "7日目閾値0.1391221999294059\n",
      "8日目閾値0.15028568388767186\n",
      "9日目閾値0.18130753970147157\n"
     ]
    }
   ],
   "source": [
    "from sklearn.cluster import KMeans\n",
    "n_clusters=4\n",
    "for i in df['day'].unique():\n",
    "    day=i\n",
    "    model = KMeans(n_clusters=n_clusters, random_state=0)  # initを省略すると、k-means++法が適応される(randomではk-means法が適応)\n",
    "    model.fit(df.loc[df['day']==day, ['d']].values)\n",
    "    clusters = model.predict(df.loc[df['day']==0, ['d']].values)  \n",
    "    result=pd.DataFrame({'d':df.loc[df['day']==0, 'd'].values, 'cluster':clusters})\n",
    "    thr_list=[]\n",
    "    for j in range(n_clusters):\n",
    "        thr_list.append(result.loc[result['cluster']==j, 'd'].min())\n",
    "    thr=sorted(thr_list)[-1]\n",
    "    print(f'{i}日目閾値{thr}')"
   ]
  },
  {
   "cell_type": "code",
   "execution_count": 6,
   "id": "b600cb25",
   "metadata": {},
   "outputs": [
    {
     "name": "stdout",
     "output_type": "stream",
     "text": [
      "0日目閾値0.19442624211088805\n",
      "1日目閾値0.2109589977341114\n",
      "2日目閾値0.11759890733110245\n",
      "3日目閾値0.1862821240816419\n",
      "4日目閾値0.12678075436256547\n",
      "5日目閾値0.18025860666228724\n",
      "6日目閾値0.14394360403723394\n",
      "7日目閾値0.13591443118045507\n",
      "8日目閾値0.14893229768467148\n",
      "9日目閾値0.17731257901634206\n"
     ]
    }
   ],
   "source": [
    "from sklearn.cluster import KMeans\n",
    "n_clusters=4\n",
    "for i in df['day'].unique():\n",
    "    day=i\n",
    "    model = KMeans(n_clusters=n_clusters, random_state=0)  # initを省略すると、k-means++法が適応される(randomではk-means法が適応)\n",
    "    model.fit(df.loc[df['day']==day, ['d']].values)\n",
    "    clusters = model.predict(df.loc[df['day']==0, ['d']].values)  \n",
    "    result=pd.DataFrame({'d':df.loc[df['day']==0, 'd'].values, 'cluster':clusters})\n",
    "    thr_list=[]\n",
    "    for j in range(n_clusters):\n",
    "        thr_list.append(result.loc[result['cluster']==j, 'd'].min())\n",
    "    thr_min=sorted(thr_list)[-2]\n",
    "    thr_max=sorted(thr_list)[-1]\n",
    "    thr_range=result.loc[(result['d']>=thr_min)&(result['d']<=thr_max), ['d']]\n",
    "    Q1 = thr_range.quantile(0.25)\n",
    "    Q3 = thr_range.quantile(0.75)\n",
    "    IQR = Q3 - Q1\n",
    "    thr = min(float(Q3 + 1.5 * IQR), thr_max)\n",
    "    print(f'{i}日目閾値{thr}')"
   ]
  },
  {
   "cell_type": "code",
   "execution_count": 7,
   "id": "20dea521",
   "metadata": {},
   "outputs": [],
   "source": [
    "d_range=result.loc[(result['d']>=sorted(thr_list)[-2])&(result['d']<=sorted(thr_list)[-1]), 'd'].values"
   ]
  },
  {
   "cell_type": "code",
   "execution_count": 8,
   "id": "017cb773",
   "metadata": {
    "scrolled": true
   },
   "outputs": [
    {
     "data": {
      "text/plain": [
       "{'whiskers': [<matplotlib.lines.Line2D at 0x17181ece190>,\n",
       "  <matplotlib.lines.Line2D at 0x17182baf610>],\n",
       " 'caps': [<matplotlib.lines.Line2D at 0x17182baf2b0>,\n",
       "  <matplotlib.lines.Line2D at 0x17182baf760>],\n",
       " 'boxes': [<matplotlib.lines.Line2D at 0x171824b5310>],\n",
       " 'medians': [<matplotlib.lines.Line2D at 0x17182bafb20>],\n",
       " 'fliers': [<matplotlib.lines.Line2D at 0x17181eca8e0>],\n",
       " 'means': []}"
      ]
     },
     "execution_count": 8,
     "metadata": {},
     "output_type": "execute_result"
    },
    {
     "data": {
      "image/png": "[encoded data removed]",
      "text/plain": [
       "<Figure size 432x288 with 1 Axes>"
      ]
     },
     "metadata": {
      "needs_background": "light"
     },
     "output_type": "display_data"
    }
   ],
   "source": [
    "plt.boxplot(d_range)"
   ]
  },
  {
   "cell_type": "code",
   "execution_count": 9,
   "id": "a110c778",
   "metadata": {},
   "outputs": [
    {
     "name": "stdout",
     "output_type": "stream",
     "text": [
      "0日目閾値0.06530100203130428\n",
      "1日目閾値0.09288009957679284\n",
      "2日目閾値0.06441211408135689\n",
      "3日目閾値0.0732538004578138\n",
      "4日目閾値0.06091197845100788\n",
      "5日目閾値0.07308268632579155\n",
      "6日目閾値0.03952110580676834\n",
      "7日目閾値0.05440096970072625\n",
      "8日目閾値0.06149247062141193\n",
      "9日目閾値0.06541971059595729\n"
     ]
    }
   ],
   "source": [
    "from sklearn.cluster import KMeans\n",
    "n_clusters=4\n",
    "for i in df['day'].unique():\n",
    "    day=i\n",
    "    d_df=df.loc[df['day']==day, ['d']].copy()\n",
    "    d_sample=d_df.sample(n=54000)\n",
    "    model = KMeans(n_clusters=n_clusters, random_state=0)  # initを省略すると、k-means++法が適応される(randomではk-means法が適応)\n",
    "    model.fit(d_sample.values)\n",
    "    clusters = model.predict(d_sample.values)  \n",
    "    result=pd.DataFrame({'d':d_sample.values.flatten(), 'cluster':clusters})\n",
    "    thr_list=[]\n",
    "    for j in range(n_clusters):\n",
    "        thr_list.append(result.loc[result['cluster']==j, 'd'].min())\n",
    "    print(f'{i}日目閾値{sorted(thr_list)[-2]}')"
   ]
  },
  {
   "cell_type": "code",
   "execution_count": 10,
   "id": "39200b93",
   "metadata": {},
   "outputs": [
    {
     "name": "stdout",
     "output_type": "stream",
     "text": [
      "2クラスタ\n"
     ]
    },
    {
     "data": {
      "image/png": "[encoded data removed]",
      "text/plain": [
       "<Figure size 432x288 with 1 Axes>"
      ]
     },
     "metadata": {
      "needs_background": "light"
     },
     "output_type": "display_data"
    },
    {
     "name": "stdout",
     "output_type": "stream",
     "text": [
      "3クラスタ\n"
     ]
    },
    {
     "data": {
      "image/png": "[encoded data removed]",
      "text/plain": [
       "<Figure size 432x288 with 1 Axes>"
      ]
     },
     "metadata": {
      "needs_background": "light"
     },
     "output_type": "display_data"
    },
    {
     "name": "stdout",
     "output_type": "stream",
     "text": [
      "4クラスタ\n"
     ]
    },
    {
     "data": {
      "image/png": "[encoded data removed]",
      "text/plain": [
       "<Figure size 432x288 with 1 Axes>"
      ]
     },
     "metadata": {
      "needs_background": "light"
     },
     "output_type": "display_data"
    },
    {
     "name": "stdout",
     "output_type": "stream",
     "text": [
      "5クラスタ\n"
     ]
    },
    {
     "data": {
      "image/png": "[encoded data removed]",
      "text/plain": [
       "<Figure size 432x288 with 1 Axes>"
      ]
     },
     "metadata": {
      "needs_background": "light"
     },
     "output_type": "display_data"
    },
    {
     "name": "stdout",
     "output_type": "stream",
     "text": [
      "6クラスタ\n"
     ]
    },
    {
     "data": {
      "image/png": "[encoded data removed]",
      "text/plain": [
       "<Figure size 432x288 with 1 Axes>"
      ]
     },
     "metadata": {
      "needs_background": "light"
     },
     "output_type": "display_data"
    },
    {
     "name": "stdout",
     "output_type": "stream",
     "text": [
      "7クラスタ\n"
     ]
    },
    {
     "data": {
      "image/png": "[encoded data removed]",
      "text/plain": [
       "<Figure size 432x288 with 1 Axes>"
      ]
     },
     "metadata": {
      "needs_background": "light"
     },
     "output_type": "display_data"
    }
   ],
   "source": [
    "day=1\n",
    "for j  in range(2,8):  \n",
    "    print(f'{j}クラスタ')\n",
    "    model = KMeans(n_clusters=j, random_state=0)  # initを省略すると、k-means++法が適応される(randomではk-means法が適応)\n",
    "    model.fit(df.loc[df['day']==day, ['d']].values)\n",
    "    clusters = model.predict(df.loc[df['day']==0, ['d']].values)  \n",
    "    result=pd.DataFrame({'d':df.loc[df['day']==0, 'd'].values, 'cluster':clusters})\n",
    "    thr_list=[]\n",
    "    for j in range(j):\n",
    "        thr_list.append(result.loc[result['cluster']==j, 'd'].min())\n",
    "    plt.hist(df.loc[df['day']==day, 'd'], bins=500)\n",
    "    plt.xticks([0, 0.1, 0.2, 0.3, 0.5, sorted(thr_list)[-1]], [\"0\", \"0.1\", \"0.2\", \"0.3\", \"0.5\", \"thr\"])\n",
    "    plt.xlim(0, 0.5)\n",
    "    plt.show()"
   ]
  },
  {
   "cell_type": "code",
   "execution_count": 11,
   "id": "2ce67239",
   "metadata": {
    "scrolled": false
   },
   "outputs": [
    {
     "name": "stdout",
     "output_type": "stream",
     "text": [
      "0日目\n"
     ]
    },
    {
     "data": {
      "image/png": "[encoded data removed]",
      "text/plain": [
       "<Figure size 432x288 with 1 Axes>"
      ]
     },
     "metadata": {
      "needs_background": "light"
     },
     "output_type": "display_data"
    },
    {
     "name": "stdout",
     "output_type": "stream",
     "text": [
      "1日目\n"
     ]
    },
    {
     "data": {
      "image/png": "[encoded data removed]",
      "text/plain": [
       "<Figure size 432x288 with 1 Axes>"
      ]
     },
     "metadata": {
      "needs_background": "light"
     },
     "output_type": "display_data"
    },
    {
     "name": "stdout",
     "output_type": "stream",
     "text": [
      "2日目\n"
     ]
    },
    {
     "data": {
      "image/png": "[encoded data removed]",
      "text/plain": [
       "<Figure size 432x288 with 1 Axes>"
      ]
     },
     "metadata": {
      "needs_background": "light"
     },
     "output_type": "display_data"
    },
    {
     "name": "stdout",
     "output_type": "stream",
     "text": [
      "3日目\n"
     ]
    },
    {
     "data": {
      "image/png": "[encoded data removed]",
      "text/plain": [
       "<Figure size 432x288 with 1 Axes>"
      ]
     },
     "metadata": {
      "needs_background": "light"
     },
     "output_type": "display_data"
    },
    {
     "name": "stdout",
     "output_type": "stream",
     "text": [
      "4日目\n"
     ]
    },
    {
     "data": {
      "image/png": "[encoded data removed]",
      "text/plain": [
       "<Figure size 432x288 with 1 Axes>"
      ]
     },
     "metadata": {
      "needs_background": "light"
     },
     "output_type": "display_data"
    },
    {
     "name": "stdout",
     "output_type": "stream",
     "text": [
      "5日目\n"
     ]
    },
    {
     "data": {
      "image/png": "[encoded data removed]",
      "text/plain": [
       "<Figure size 432x288 with 1 Axes>"
      ]
     },
     "metadata": {
      "needs_background": "light"
     },
     "output_type": "display_data"
    },
    {
     "name": "stdout",
     "output_type": "stream",
     "text": [
      "6日目\n"
     ]
    },
    {
     "data": {
      "image/png": "[encoded data removed]",
      "text/plain": [
       "<Figure size 432x288 with 1 Axes>"
      ]
     },
     "metadata": {
      "needs_background": "light"
     },
     "output_type": "display_data"
    },
    {
     "name": "stdout",
     "output_type": "stream",
     "text": [
      "7日目\n"
     ]
    },
    {
     "data": {
      "image/png": "[encoded data removed]",
      "text/plain": [
       "<Figure size 432x288 with 1 Axes>"
      ]
     },
     "metadata": {
      "needs_background": "light"
     },
     "output_type": "display_data"
    },
    {
     "name": "stdout",
     "output_type": "stream",
     "text": [
      "8日目\n"
     ]
    },
    {
     "data": {
      "image/png": "[encoded data removed]",
      "text/plain": [
       "<Figure size 432x288 with 1 Axes>"
      ]
     },
     "metadata": {
      "needs_background": "light"
     },
     "output_type": "display_data"
    },
    {
     "name": "stdout",
     "output_type": "stream",
     "text": [
      "9日目\n"
     ]
    },
    {
     "data": {
      "image/png": "[encoded data removed]",
      "text/plain": [
       "<Figure size 432x288 with 1 Axes>"
      ]
     },
     "metadata": {
      "needs_background": "light"
     },
     "output_type": "display_data"
    }
   ],
   "source": [
    "for i in df['day'].unique():\n",
    "    day=i\n",
    "    distortions = []\n",
    "    print(f'{i}日目')\n",
    "    for j  in range(2,8):  \n",
    "        model = KMeans(n_clusters=j, random_state=0)  # initを省略すると、k-means++法が適応される(randomではk-means法が適応)\n",
    "        model.fit(df.loc[df['day']==day, ['d']].values)\n",
    "        distortions.append(model.inertia_)\n",
    "    plt.plot(range(2,8),distortions,marker='o')\n",
    "    plt.xlabel('Number of clusters')\n",
    "    plt.ylabel('Distortion')\n",
    "    plt.show()\n",
    "        "
   ]
  },
  {
   "cell_type": "code",
   "execution_count": 12,
   "id": "94984859",
   "metadata": {},
   "outputs": [
    {
     "ename": "NameError",
     "evalue": "name 'X' is not defined",
     "output_type": "error",
     "traceback": [
      "\u001b[1;31m---------------------------------------------------------------------------\u001b[0m",
      "\u001b[1;31mNameError\u001b[0m                                 Traceback (most recent call last)",
      "\u001b[1;32m~\\AppData\\Local\\Temp/ipykernel_16436/4073099974.py\u001b[0m in \u001b[0;36m<module>\u001b[1;34m\u001b[0m\n\u001b[0;32m      5\u001b[0m                 init='k-means++')    # k-means++法によりクラスタ中心を選択\n\u001b[0;32m      6\u001b[0m \u001b[1;33m\u001b[0m\u001b[0m\n\u001b[1;32m----> 7\u001b[1;33m     \u001b[0mkm\u001b[0m\u001b[1;33m.\u001b[0m\u001b[0mfit\u001b[0m\u001b[1;33m(\u001b[0m\u001b[0mX\u001b[0m\u001b[1;33m)\u001b[0m                         \u001b[1;31m# クラスタリングの計算を実行\u001b[0m\u001b[1;33m\u001b[0m\u001b[1;33m\u001b[0m\u001b[0m\n\u001b[0m\u001b[0;32m      8\u001b[0m     \u001b[0mdistortions\u001b[0m\u001b[1;33m.\u001b[0m\u001b[0mappend\u001b[0m\u001b[1;33m(\u001b[0m\u001b[0mkm\u001b[0m\u001b[1;33m.\u001b[0m\u001b[0minertia_\u001b[0m\u001b[1;33m)\u001b[0m   \u001b[1;31m# km.fitするとkm.inertia_が得られる\u001b[0m\u001b[1;33m\u001b[0m\u001b[1;33m\u001b[0m\u001b[0m\n\u001b[0;32m      9\u001b[0m \u001b[1;33m\u001b[0m\u001b[0m\n",
      "\u001b[1;31mNameError\u001b[0m: name 'X' is not defined"
     ]
    }
   ],
   "source": [
    "distortions = []\n",
    "\n",
    "for i  in range(1,11):                # 1~10クラスタまで一気に計算 \n",
    "    km = KMeans(n_clusters=i,\n",
    "                init='k-means++')    # k-means++法によりクラスタ中心を選択\n",
    "\n",
    "    km.fit(X)                         # クラスタリングの計算を実行\n",
    "    distortions.append(km.inertia_)   # km.fitするとkm.inertia_が得られる\n",
    "\n",
    "plt.plot(range(1,11),distortions,marker='o')\n",
    "plt.xlabel('Number of clusters')\n",
    "plt.ylabel('Distortion')\n",
    "plt.show()"
   ]
  },
  {
   "cell_type": "code",
   "execution_count": null,
   "id": "72687697",
   "metadata": {},
   "outputs": [],
   "source": []
  },
  {
   "cell_type": "code",
   "execution_count": null,
   "id": "a83f3dbc",
   "metadata": {},
   "outputs": [],
   "source": [
    "from sklearn.cluster import KMeans\n",
    "n_clusters=8\n",
    "for i in df['day'].unique():\n",
    "    day=i\n",
    "    model = KMeans(n_clusters=n_clusters, random_state=0)  # initを省略すると、k-means++法が適応される(randomではk-means法が適応)\n",
    "    model.fit(df.loc[df['day']==day, ['d']].values)\n",
    "    clusters = model.predict(df.loc[df['day']==0, ['d']].values)  \n",
    "    result=pd.DataFrame({'d':df.loc[df['day']==0, 'd'].values, 'cluster':clusters})\n",
    "    thr_list=[]\n",
    "    for j in range(n_clusters):\n",
    "        thr_list.append(result.loc[result['cluster']==j, 'd'].max())\n",
    "    print(f'{i}日目閾値\\n{sorted(thr_list)}')"
   ]
  },
  {
   "cell_type": "code",
   "execution_count": null,
   "id": "6e25d5cd",
   "metadata": {},
   "outputs": [],
   "source": []
  }
 ],
 "metadata": {
  "kernelspec": {
   "display_name": "Python 3 (ipykernel)",
   "language": "python",
   "name": "python3"
  },
  "language_info": {
   "codemirror_mode": {
    "name": "ipython",
    "version": 3
   },
   "file_extension": ".py",
   "mimetype": "text/x-python",
   "name": "python",
   "nbconvert_exporter": "python",
   "pygments_lexer": "ipython3",
   "version": "3.9.7"
  }
 },
 "nbformat": 4,
 "nbformat_minor": 5
}
