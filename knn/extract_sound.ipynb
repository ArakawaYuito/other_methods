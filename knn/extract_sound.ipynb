{
 "cells": [
  {
   "cell_type": "code",
   "execution_count": 3,
   "id": "fe864e93",
   "metadata": {},
   "outputs": [],
   "source": [
    "import numpy as np\n",
    "import pandas as pd\n",
    "import librosa as lb\n",
    "import os\n",
    "import matplotlib.pyplot as plt\n",
    "import glob\n",
    "import wave\n",
    "import IPython\n",
    "from IPython.display import display"
   ]
  },
  {
   "cell_type": "code",
   "execution_count": null,
   "id": "55d5e403",
   "metadata": {},
   "outputs": [],
   "source": [
    "def extract_sound(label, test_day):\n",
    "    list_start = [] # 正常音の開始時間(s)\n",
    "    list_duration = []# 正常音の時間長(s)\n",
    "    search= 1 if label.iloc[0, 0]==0 else 0 \n",
    "    start = 0\n",
    "    for num in range(len(label)):\n",
    "        if num!=len(test_v)-1:\n",
    "            if search==1 and (label.iloc[num, 0]==search): \n",
    "                start=num\n",
    "                search=0\n",
    "            elif search==0 and label.iloc[num, 0]==search:\n",
    "                stop=num-1\n",
    "                duration = (stop-start+1)*0.2\n",
    "                list_start.append(start*0.2)\n",
    "                list_duration.append(duration)\n",
    "                search=1\n",
    "        elif search==0 and label.loc[num, 0]!=search:\n",
    "            stop=num\n",
    "            duration = (stop-start+1)*0.2\n",
    "            list_start.append(start*0.2)\n",
    "            list_duration.append(duration)\n",
    "            \n",
    "    sound_dir_path=os.path.join('..', 'データ類', '16000hz騒音データとスタートを合わせた音データ')\n",
    "    sound_file_magic=os.path.join(sound_dir_path,'2109*.wav')\n",
    "    sound_file_list=glob.glob(sound_file_magic)\n",
    "    for i in test_day:\n",
    "        print(f'{i}日目の音源（0日目スタート）')\n",
    "        sound_file=sound_file_list[i]\n",
    "        print(f'ファイル名：{sound_file}')\n",
    "\n",
    "        for offset, length in zip(list_start, list_duration):\n",
    "            print(f'異常音開始：{offset/60}分')\n",
    "            print(f'長さ{length}秒')\n",
    "            y, sr = lb.load(sound_file, sr = None, offset=offset, duration=length)\n",
    "            display(IPython.display.Audio(y, rate=sr))"
   ]
  },
  {
   "cell_type": "code",
   "execution_count": null,
   "id": "fd8367ca",
   "metadata": {},
   "outputs": [],
   "source": []
  }
 ],
 "metadata": {
  "kernelspec": {
   "display_name": "Python 3 (ipykernel)",
   "language": "python",
   "name": "python3"
  },
  "language_info": {
   "codemirror_mode": {
    "name": "ipython",
    "version": 3
   },
   "file_extension": ".py",
   "mimetype": "text/x-python",
   "name": "python",
   "nbconvert_exporter": "python",
   "pygments_lexer": "ipython3",
   "version": "3.9.7"
  }
 },
 "nbformat": 4,
 "nbformat_minor": 5
}
