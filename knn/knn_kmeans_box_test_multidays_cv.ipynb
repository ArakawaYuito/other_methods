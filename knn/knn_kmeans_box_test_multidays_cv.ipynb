{
 "cells": [
  {
   "cell_type": "code",
   "execution_count": 98,
   "id": "cdc48f36",
   "metadata": {},
   "outputs": [],
   "source": [
    "import numpy as np\n",
    "import matplotlib.pyplot as plt\n",
    "from sklearn.neighbors import NearestNeighbors\n",
    "from sklearn.metrics import precision_score\n",
    "import pandas as pd\n",
    "import seaborn as sns\n",
    "from statsmodels import api as sm\n",
    "from matplotlib import pyplot as plt\n",
    "from pandas.plotting import register_matplotlib_converters\n",
    "import os\n",
    "import numpy as np\n",
    "import math\n",
    "import validate\n",
    "from sklearn.preprocessing import StandardScaler\n",
    "from sklearn.decomposition import PCA\n",
    "import PR_curve\n",
    "from sklearn.cluster import KMeans"
   ]
  },
  {
   "cell_type": "code",
   "execution_count": 99,
   "id": "16d92fbe",
   "metadata": {
    "scrolled": true
   },
   "outputs": [
    {
     "data": {
      "text/html": [
       "<div>\n",
       "<style scoped>\n",
       "    .dataframe tbody tr th:only-of-type {\n",
       "        vertical-align: middle;\n",
       "    }\n",
       "\n",
       "    .dataframe tbody tr th {\n",
       "        vertical-align: top;\n",
       "    }\n",
       "\n",
       "    .dataframe thead th {\n",
       "        text-align: right;\n",
       "    }\n",
       "</style>\n",
       "<table border=\"1\" class=\"dataframe\">\n",
       "  <thead>\n",
       "    <tr style=\"text-align: right;\">\n",
       "      <th></th>\n",
       "      <th>original</th>\n",
       "      <th>label</th>\n",
       "      <th>time</th>\n",
       "      <th>day</th>\n",
       "    </tr>\n",
       "  </thead>\n",
       "  <tbody>\n",
       "    <tr>\n",
       "      <th>0</th>\n",
       "      <td>53.4</td>\n",
       "      <td>0</td>\n",
       "      <td>15</td>\n",
       "      <td>0</td>\n",
       "    </tr>\n",
       "    <tr>\n",
       "      <th>1</th>\n",
       "      <td>52.8</td>\n",
       "      <td>0</td>\n",
       "      <td>15</td>\n",
       "      <td>0</td>\n",
       "    </tr>\n",
       "    <tr>\n",
       "      <th>2</th>\n",
       "      <td>52.8</td>\n",
       "      <td>0</td>\n",
       "      <td>15</td>\n",
       "      <td>0</td>\n",
       "    </tr>\n",
       "    <tr>\n",
       "      <th>3</th>\n",
       "      <td>53.2</td>\n",
       "      <td>0</td>\n",
       "      <td>15</td>\n",
       "      <td>0</td>\n",
       "    </tr>\n",
       "    <tr>\n",
       "      <th>4</th>\n",
       "      <td>53.6</td>\n",
       "      <td>0</td>\n",
       "      <td>15</td>\n",
       "      <td>0</td>\n",
       "    </tr>\n",
       "    <tr>\n",
       "      <th>...</th>\n",
       "      <td>...</td>\n",
       "      <td>...</td>\n",
       "      <td>...</td>\n",
       "      <td>...</td>\n",
       "    </tr>\n",
       "    <tr>\n",
       "      <th>3995345</th>\n",
       "      <td>45.9</td>\n",
       "      <td>0</td>\n",
       "      <td>5</td>\n",
       "      <td>9</td>\n",
       "    </tr>\n",
       "    <tr>\n",
       "      <th>3995346</th>\n",
       "      <td>45.6</td>\n",
       "      <td>0</td>\n",
       "      <td>5</td>\n",
       "      <td>9</td>\n",
       "    </tr>\n",
       "    <tr>\n",
       "      <th>3995347</th>\n",
       "      <td>45.8</td>\n",
       "      <td>0</td>\n",
       "      <td>5</td>\n",
       "      <td>9</td>\n",
       "    </tr>\n",
       "    <tr>\n",
       "      <th>3995348</th>\n",
       "      <td>45.7</td>\n",
       "      <td>0</td>\n",
       "      <td>5</td>\n",
       "      <td>9</td>\n",
       "    </tr>\n",
       "    <tr>\n",
       "      <th>3995349</th>\n",
       "      <td>45.9</td>\n",
       "      <td>0</td>\n",
       "      <td>5</td>\n",
       "      <td>9</td>\n",
       "    </tr>\n",
       "  </tbody>\n",
       "</table>\n",
       "<p>3995350 rows × 4 columns</p>\n",
       "</div>"
      ],
      "text/plain": [
       "         original  label  time  day\n",
       "0            53.4      0    15    0\n",
       "1            52.8      0    15    0\n",
       "2            52.8      0    15    0\n",
       "3            53.2      0    15    0\n",
       "4            53.6      0    15    0\n",
       "...           ...    ...   ...  ...\n",
       "3995345      45.9      0     5    9\n",
       "3995346      45.6      0     5    9\n",
       "3995347      45.8      0     5    9\n",
       "3995348      45.7      0     5    9\n",
       "3995349      45.9      0     5    9\n",
       "\n",
       "[3995350 rows x 4 columns]"
      ]
     },
     "execution_count": 99,
     "metadata": {},
     "output_type": "execute_result"
    }
   ],
   "source": [
    "data_dir='fixed_csv_label_ver2'\n",
    "original = pd.read_csv( os.path.join(data_dir, 'learning_data_10.csv') )\n",
    "df = pd.read_csv( os.path.join(data_dir, 'learning_data_10.csv') )\n",
    "df=df[df['day']<=9]\n",
    "df"
   ]
  },
  {
   "cell_type": "code",
   "execution_count": 100,
   "id": "cf857e04",
   "metadata": {
    "scrolled": true
   },
   "outputs": [
    {
     "data": {
      "text/html": [
       "<div>\n",
       "<style scoped>\n",
       "    .dataframe tbody tr th:only-of-type {\n",
       "        vertical-align: middle;\n",
       "    }\n",
       "\n",
       "    .dataframe tbody tr th {\n",
       "        vertical-align: top;\n",
       "    }\n",
       "\n",
       "    .dataframe thead th {\n",
       "        text-align: right;\n",
       "    }\n",
       "</style>\n",
       "<table border=\"1\" class=\"dataframe\">\n",
       "  <thead>\n",
       "    <tr style=\"text-align: right;\">\n",
       "      <th></th>\n",
       "      <th>original</th>\n",
       "      <th>original_lag1</th>\n",
       "      <th>original_lag2</th>\n",
       "      <th>original_lag3</th>\n",
       "      <th>original_lag4</th>\n",
       "      <th>day</th>\n",
       "      <th>d</th>\n",
       "      <th>z</th>\n",
       "    </tr>\n",
       "  </thead>\n",
       "  <tbody>\n",
       "    <tr>\n",
       "      <th>0</th>\n",
       "      <td>53.6</td>\n",
       "      <td>53.2</td>\n",
       "      <td>52.8</td>\n",
       "      <td>52.8</td>\n",
       "      <td>53.4</td>\n",
       "      <td>0</td>\n",
       "      <td>0</td>\n",
       "      <td>0</td>\n",
       "    </tr>\n",
       "    <tr>\n",
       "      <th>1</th>\n",
       "      <td>54.0</td>\n",
       "      <td>53.6</td>\n",
       "      <td>53.2</td>\n",
       "      <td>52.8</td>\n",
       "      <td>52.8</td>\n",
       "      <td>0</td>\n",
       "      <td>0</td>\n",
       "      <td>0</td>\n",
       "    </tr>\n",
       "    <tr>\n",
       "      <th>2</th>\n",
       "      <td>54.7</td>\n",
       "      <td>54.0</td>\n",
       "      <td>53.6</td>\n",
       "      <td>53.2</td>\n",
       "      <td>52.8</td>\n",
       "      <td>0</td>\n",
       "      <td>0</td>\n",
       "      <td>0</td>\n",
       "    </tr>\n",
       "    <tr>\n",
       "      <th>3</th>\n",
       "      <td>55.7</td>\n",
       "      <td>54.7</td>\n",
       "      <td>54.0</td>\n",
       "      <td>53.6</td>\n",
       "      <td>53.2</td>\n",
       "      <td>0</td>\n",
       "      <td>0</td>\n",
       "      <td>0</td>\n",
       "    </tr>\n",
       "    <tr>\n",
       "      <th>4</th>\n",
       "      <td>55.5</td>\n",
       "      <td>55.7</td>\n",
       "      <td>54.7</td>\n",
       "      <td>54.0</td>\n",
       "      <td>53.6</td>\n",
       "      <td>0</td>\n",
       "      <td>0</td>\n",
       "      <td>0</td>\n",
       "    </tr>\n",
       "    <tr>\n",
       "      <th>...</th>\n",
       "      <td>...</td>\n",
       "      <td>...</td>\n",
       "      <td>...</td>\n",
       "      <td>...</td>\n",
       "      <td>...</td>\n",
       "      <td>...</td>\n",
       "      <td>...</td>\n",
       "      <td>...</td>\n",
       "    </tr>\n",
       "    <tr>\n",
       "      <th>3995305</th>\n",
       "      <td>45.9</td>\n",
       "      <td>45.6</td>\n",
       "      <td>45.4</td>\n",
       "      <td>45.9</td>\n",
       "      <td>46.0</td>\n",
       "      <td>9</td>\n",
       "      <td>0</td>\n",
       "      <td>0</td>\n",
       "    </tr>\n",
       "    <tr>\n",
       "      <th>3995306</th>\n",
       "      <td>45.6</td>\n",
       "      <td>45.9</td>\n",
       "      <td>45.6</td>\n",
       "      <td>45.4</td>\n",
       "      <td>45.9</td>\n",
       "      <td>9</td>\n",
       "      <td>0</td>\n",
       "      <td>0</td>\n",
       "    </tr>\n",
       "    <tr>\n",
       "      <th>3995307</th>\n",
       "      <td>45.8</td>\n",
       "      <td>45.6</td>\n",
       "      <td>45.9</td>\n",
       "      <td>45.6</td>\n",
       "      <td>45.4</td>\n",
       "      <td>9</td>\n",
       "      <td>0</td>\n",
       "      <td>0</td>\n",
       "    </tr>\n",
       "    <tr>\n",
       "      <th>3995308</th>\n",
       "      <td>45.7</td>\n",
       "      <td>45.8</td>\n",
       "      <td>45.6</td>\n",
       "      <td>45.9</td>\n",
       "      <td>45.6</td>\n",
       "      <td>9</td>\n",
       "      <td>0</td>\n",
       "      <td>0</td>\n",
       "    </tr>\n",
       "    <tr>\n",
       "      <th>3995309</th>\n",
       "      <td>45.9</td>\n",
       "      <td>45.7</td>\n",
       "      <td>45.8</td>\n",
       "      <td>45.6</td>\n",
       "      <td>45.9</td>\n",
       "      <td>9</td>\n",
       "      <td>0</td>\n",
       "      <td>0</td>\n",
       "    </tr>\n",
       "  </tbody>\n",
       "</table>\n",
       "<p>3995310 rows × 8 columns</p>\n",
       "</div>"
      ],
      "text/plain": [
       "         original  original_lag1  original_lag2  original_lag3  original_lag4  \\\n",
       "0            53.6           53.2           52.8           52.8           53.4   \n",
       "1            54.0           53.6           53.2           52.8           52.8   \n",
       "2            54.7           54.0           53.6           53.2           52.8   \n",
       "3            55.7           54.7           54.0           53.6           53.2   \n",
       "4            55.5           55.7           54.7           54.0           53.6   \n",
       "...           ...            ...            ...            ...            ...   \n",
       "3995305      45.9           45.6           45.4           45.9           46.0   \n",
       "3995306      45.6           45.9           45.6           45.4           45.9   \n",
       "3995307      45.8           45.6           45.9           45.6           45.4   \n",
       "3995308      45.7           45.8           45.6           45.9           45.6   \n",
       "3995309      45.9           45.7           45.8           45.6           45.9   \n",
       "\n",
       "         day  d  z  \n",
       "0          0  0  0  \n",
       "1          0  0  0  \n",
       "2          0  0  0  \n",
       "3          0  0  0  \n",
       "4          0  0  0  \n",
       "...      ... .. ..  \n",
       "3995305    9  0  0  \n",
       "3995306    9  0  0  \n",
       "3995307    9  0  0  \n",
       "3995308    9  0  0  \n",
       "3995309    9  0  0  \n",
       "\n",
       "[3995310 rows x 8 columns]"
      ]
     },
     "execution_count": 100,
     "metadata": {},
     "output_type": "execute_result"
    }
   ],
   "source": [
    "def make_data(x, str,w):\n",
    "    x=pd.DataFrame(x)\n",
    "    window=w\n",
    "    for i in range(1, window):\n",
    "        column=f'{str}_lag{i}'\n",
    "        x[column]=x[str].shift(i)\n",
    "    return x\n",
    "\n",
    "def make_label(x, w):\n",
    "    window=w\n",
    "    x['label_all']=x['label']\n",
    "    for i in range(1, window):\n",
    "        x.loc[(x['label_all']==1)|(x['label'].shift(i)==1), 'label_all']=1\n",
    "        x.loc[(x['label_all']==0)&(x['label'].shift(i)==0), 'label_all']=0\n",
    "    \n",
    "    x['label']=x['label_all']\n",
    "    return x[['label']]\n",
    "\n",
    "df_list=[]\n",
    "for i in set(df['day']):\n",
    "    lag=[] \n",
    "    window=5\n",
    "    lag.append(make_data(df.loc[df['day']==i, ['original']], 'original', window))\n",
    "    lag.append(df.loc[df['day']==i, ['day']])\n",
    "    df_add_lag=pd.concat(lag, axis=1)\n",
    "    df_list.append(df_add_lag)\n",
    "df=pd.concat(df_list)\n",
    "df=df.dropna().reset_index(drop=True)\n",
    "df['d']=0\n",
    "df['z']=0\n",
    "df"
   ]
  },
  {
   "cell_type": "markdown",
   "id": "7f45b0ab",
   "metadata": {},
   "source": [
    "## クロスバリデーション（パラメータチューニング）"
   ]
  },
  {
   "cell_type": "code",
   "execution_count": 113,
   "id": "932936b1",
   "metadata": {},
   "outputs": [],
   "source": [
    "cv_data_list=df['day'].unique().tolist()\n",
    "#テストデータ\n",
    "test_notvalid=[]"
   ]
  },
  {
   "cell_type": "code",
   "execution_count": 114,
   "id": "5bc91f5a",
   "metadata": {},
   "outputs": [
    {
     "data": {
      "text/plain": [
       "[0, 1, 2, 3, 4, 6, 7, 8, 9]"
      ]
     },
     "execution_count": 114,
     "metadata": {},
     "output_type": "execute_result"
    }
   ],
   "source": [
    "for i in range(len(test_notvalid)):\n",
    "    #検証データ＋訓練データ\n",
    "    cv_data_list.remove(test_notvalid[i])\n",
    "cv_data_list"
   ]
  },
  {
   "cell_type": "code",
   "execution_count": 117,
   "id": "d158aa15",
   "metadata": {
    "scrolled": false
   },
   "outputs": [
    {
     "name": "stdout",
     "output_type": "stream",
     "text": [
      "訓練データ：[1, 2, 3, 4, 6, 7, 8, 9]\n",
      "検証データ：[0]日目\n",
      "閾値0.18399800943804479\n",
      "適合率：0.8210526315789474\n",
      "再現率：0.8717948717948718\n",
      "f値：0.8456632653061225\n",
      "-----------------------------------------------\n",
      "訓練データ：[0, 2, 3, 4, 6, 7, 8, 9]\n",
      "検証データ：[1]日目\n",
      "閾値0.2759354048671766\n",
      "適合率：0.994535519125683\n",
      "再現率：0.7209302325581395\n",
      "f値：0.8359137713904733\n",
      "-----------------------------------------------\n",
      "訓練データ：[0, 1, 3, 4, 6, 7, 8, 9]\n",
      "検証データ：[2]日目\n",
      "閾値0.10425170742364852\n",
      "適合率：0.7954040029651593\n",
      "再現率：0.8958333333333334\n",
      "f値：0.8426368127402726\n",
      "-----------------------------------------------\n",
      "訓練データ：[0, 1, 2, 4, 6, 7, 8, 9]\n",
      "検証データ：[3]日目\n",
      "閾値0.3685601917390289\n",
      "適合率：0.934984520123839\n",
      "再現率：0.5517241379310345\n",
      "f値：0.6939537555651301\n",
      "-----------------------------------------------\n",
      "訓練データ：[0, 1, 2, 3, 6, 7, 8, 9]\n",
      "検証データ：[4]日目\n",
      "閾値0.1292905094208483\n",
      "適合率：0.9223085460599334\n",
      "再現率：0.890625\n",
      "f値：0.9061899159181565\n",
      "-----------------------------------------------\n",
      "訓練データ：[0, 1, 2, 3, 4, 7, 8, 9]\n",
      "検証データ：[6]日目\n",
      "閾値0.17972859388772028\n",
      "適合率：0.8037383177570093\n",
      "再現率：0.8055555555555556\n",
      "f値：0.8046459106307469\n",
      "-----------------------------------------------\n",
      "訓練データ：[0, 1, 2, 3, 4, 6, 8, 9]\n",
      "検証データ：[7]日目\n",
      "閾値0.11924514174204626\n",
      "適合率：0.9923539049699618\n",
      "再現率：0.86\n",
      "f値：0.9214484942476545\n",
      "-----------------------------------------------\n",
      "訓練データ：[0, 1, 2, 3, 4, 6, 7, 9]\n",
      "検証データ：[8]日目\n",
      "閾値0.18716023966506456\n",
      "適合率：0.9681851048445409\n",
      "再現率：0.8076923076923077\n",
      "f値：0.880686533974349\n",
      "-----------------------------------------------\n",
      "訓練データ：[0, 1, 2, 3, 4, 6, 7, 8]\n",
      "検証データ：[9]日目\n",
      "閾値0.18908709618230535\n",
      "適合率：0.967849223946785\n",
      "再現率：0.9838709677419355\n",
      "f値：0.9757943342983839\n",
      "-----------------------------------------------\n",
      "f値平均：0.8563258660079209\n"
     ]
    }
   ],
   "source": [
    "f_score_sum=0\n",
    "#検証データを何日にするか\n",
    "valid_daynum=1\n",
    "cv_comb=np.array(cv_data_list).reshape((-1, valid_daynum)).tolist()\n",
    "for i in cv_comb:\n",
    "    print(f'訓練データ：{[k for k in cv_data_list if k not in i]}')\n",
    "    print(f'検証データ：{i}日目')\n",
    "\n",
    "    test_day=i\n",
    "    train=df[(~df['day'].isin(test_day))][df.columns[:-3]].reset_index(drop=True)\n",
    "    test=df[(df['day'].isin(test_day))][df.columns[:-3]].reset_index(drop=True)\n",
    "\n",
    "    nk = 21\n",
    "    neigh = NearestNeighbors(n_neighbors=nk)\n",
    "    neigh.fit(train)\n",
    "    d = neigh.kneighbors(test)[0]\n",
    "    d = np.mean(d, axis=1)\n",
    "    mx = np.max(d)\n",
    "    d = d / mx\n",
    "    df.loc[(df['day'].isin(test_day)), 'd']=d\n",
    "    \n",
    "    test_v=original[original['day'].isin(test_day)][['original', 'label', 'day']].reset_index(drop=True)\n",
    "    test_v['d']=d[0]\n",
    "    for day in test_day:\n",
    "        tmp=test_v.loc[test_v['day']==day,  'd']\n",
    "        tmp[window-1:]=df.loc[(df['day']==day), 'd'].values\n",
    "        test_v.loc[test_v['day']==day,  'd']=tmp\n",
    " \n",
    "    #kmeans\n",
    "    n_clusters=2\n",
    "    model = KMeans(n_clusters=n_clusters)  \n",
    "    model.fit(d.reshape((-1, 1)))\n",
    "    clusters = model.predict(d.reshape((-1, 1)))  \n",
    "    result=pd.DataFrame({'d':d, 'cluster':clusters})\n",
    "    thr_list=[]\n",
    "    for j in range(n_clusters):\n",
    "        thr_list.append(result.loc[result['cluster']==j, 'd'].max())\n",
    "    thr_min=sorted(thr_list)[-2]\n",
    "    thr_max=sorted(thr_list)[-1]\n",
    "    thr_range=result.loc[(result['d']>thr_min)&(result['d']<=thr_max), ['d']]\n",
    "    Q1 = thr_range.quantile(0.25)\n",
    "    Q3 = thr_range.quantile(0.75)\n",
    "    IQR = Q3 - Q1\n",
    "    thr = min(float(Q3 + 1.5 * IQR), thr_max)\n",
    "    print(f'閾値{thr}')\n",
    "    \n",
    "    d_test=test_v['d'].values\n",
    "    precision, recall=validate.validate(test_v, d_test, thr)\n",
    "    f_score=(2*precision*recall)/(precision+recall)\n",
    "    print(f'適合率：{precision}')\n",
    "    print(f'再現率：{recall}')\n",
    "    print(f'f値：{f_score}')\n",
    "    f_score_sum+=f_score\n",
    "\n",
    "    z=np.where(d>=thr, 1, 0)\n",
    "    df.loc[(df['day'].isin(test_day)), 'z']=z\n",
    "    print('-----------------------------------------------')\n",
    "f_mean=f_score_sum/len(cv_comb)\n",
    "print(f'f値平均：{f_mean}')"
   ]
  },
  {
   "cell_type": "markdown",
   "id": "d0bdf0c2",
   "metadata": {},
   "source": [
    "## テストデータの評価"
   ]
  },
  {
   "cell_type": "code",
   "execution_count": 116,
   "id": "3dc29cc7",
   "metadata": {},
   "outputs": [
    {
     "name": "stdout",
     "output_type": "stream",
     "text": [
      "訓練データ：[0, 1, 2, 3, 4, 6, 7, 8, 9]\n",
      "テストデータ：[5]日目\n",
      "閾値0.24125745632719642\n",
      "適合率：0.9314586994727593\n",
      "再現率：0.9285714285714286\n",
      "f値：0.9300128231085916\n"
     ]
    }
   ],
   "source": [
    "print(f'訓練データ：{cv_data_list}')\n",
    "print(f'テストデータ：{test_notvalid}日目')\n",
    "\n",
    "train=df[(df['day'].isin(cv_data_list))][df.columns[:-3]].reset_index(drop=True)\n",
    "test=df[(df['day'].isin(test_notvalid))][df.columns[:-3]].reset_index(drop=True)\n",
    "\n",
    "neigh = NearestNeighbors(n_neighbors=nk)\n",
    "neigh.fit(train)\n",
    "d = neigh.kneighbors(test)[0]\n",
    "d = np.mean(d, axis=1)\n",
    "mx = np.max(d)\n",
    "d = d / mx\n",
    "\n",
    "test_v=original[original['day'].isin(test_notvalid)][['original', 'label']].reset_index(drop=True)\n",
    "test_v['d']=d[0]\n",
    "test_v.loc[window-1:, 'd']=d\n",
    "\n",
    "#kmeans\n",
    "n_clusters=2\n",
    "model = KMeans(n_clusters=n_clusters)  \n",
    "model.fit(d.reshape((-1, 1)))\n",
    "clusters = model.predict(d.reshape((-1, 1)))  \n",
    "result=pd.DataFrame({'d':d, 'cluster':clusters})\n",
    "thr_list=[]\n",
    "for j in range(n_clusters):\n",
    "    thr_list.append(result.loc[result['cluster']==j, 'd'].max())\n",
    "thr_min=sorted(thr_list)[-2]\n",
    "thr_max=sorted(thr_list)[-1]\n",
    "thr_range=result.loc[(result['d']>thr_min)&(result['d']<=thr_max), ['d']]\n",
    "Q1 = thr_range.quantile(0.25)\n",
    "Q3 = thr_range.quantile(0.75)\n",
    "IQR = Q3 - Q1\n",
    "thr = min(float(Q3 + 1.5 * IQR), thr_max)\n",
    "print(f'閾値{thr}')\n",
    "\n",
    "d_test=test_v['d'].values\n",
    "precision, recall=validate.validate(test_v, d_test, thr)\n",
    "f_score=(2*precision*recall)/(precision+recall)\n",
    "print(f'適合率：{precision}')\n",
    "print(f'再現率：{recall}')\n",
    "print(f'f値：{f_score}')"
   ]
  },
  {
   "cell_type": "code",
   "execution_count": null,
   "id": "de0a522c",
   "metadata": {},
   "outputs": [],
   "source": []
  },
  {
   "cell_type": "code",
   "execution_count": null,
   "id": "e683cca2",
   "metadata": {},
   "outputs": [],
   "source": []
  },
  {
   "cell_type": "markdown",
   "id": "cebd083f",
   "metadata": {},
   "source": [
    "# kmeansによる閾値"
   ]
  },
  {
   "cell_type": "code",
   "execution_count": 5,
   "id": "c1b6a5bd",
   "metadata": {
    "scrolled": true
   },
   "outputs": [
    {
     "name": "stdout",
     "output_type": "stream",
     "text": [
      "0日目閾値0.22280878743579904\n",
      "1日目閾値0.22135304729424793\n",
      "2日目閾値0.12028423034351117\n",
      "3日目閾値0.20344710895437346\n",
      "4日目閾値0.12859112365954584\n",
      "5日目閾値0.2021276472771629\n",
      "6日目閾値0.16386467997083498\n",
      "7日目閾値0.1391221999294059\n",
      "8日目閾値0.15028568388767186\n",
      "9日目閾値0.18130753970147157\n"
     ]
    }
   ],
   "source": [
    "from sklearn.cluster import KMeans\n",
    "n_clusters=4\n",
    "for i in df['day'].unique():\n",
    "    day=i\n",
    "    model = KMeans(n_clusters=n_clusters, random_state=0)  # initを省略すると、k-means++法が適応される(randomではk-means法が適応)\n",
    "    model.fit(df.loc[df['day']==day, ['d']].values)\n",
    "    clusters = model.predict(df.loc[df['day']==0, ['d']].values)  \n",
    "    result=pd.DataFrame({'d':df.loc[df['day']==0, 'd'].values, 'cluster':clusters})\n",
    "    thr_list=[]\n",
    "    for j in range(n_clusters):\n",
    "        thr_list.append(result.loc[result['cluster']==j, 'd'].min())\n",
    "    thr=sorted(thr_list)[-1]\n",
    "    print(f'{i}日目閾値{thr}')"
   ]
  },
  {
   "cell_type": "markdown",
   "id": "6128c8c8",
   "metadata": {},
   "source": [
    "## kmeans+箱ひげ"
   ]
  },
  {
   "cell_type": "code",
   "execution_count": null,
   "id": "2946449d",
   "metadata": {},
   "outputs": [],
   "source": [
    "from sklearn.cluster import KMeans\n",
    "n_clusters=4\n",
    "for i in df['day'].unique():\n",
    "    day=i\n",
    "    model = KMeans(n_clusters=n_clusters, random_state=0)  # initを省略すると、k-means++法が適応される(randomではk-means法が適応)\n",
    "    model.fit(df.loc[df['day']==day, ['d']].values)\n",
    "    clusters = model.predict(df.loc[df['day']==day, ['d']].values)  \n",
    "    result=pd.DataFrame({'d':df.loc[df['day']==day, 'd'].values, 'cluster':clusters})\n",
    "    thr_list=[]\n",
    "    for j in range(n_clusters):\n",
    "        thr_list.append(result.loc[result['cluster']==j, 'd'].min())\n",
    "    thr_min=sorted(thr_list)[-2]\n",
    "    thr_max=sorted(thr_list)[-1]\n",
    "    thr_range=result.loc[(result['d']>=thr_min)&(result['d']<=thr_max), ['d']]\n",
    "    Q1 = thr_range.quantile(0.25)\n",
    "    Q3 = thr_range.quantile(0.75)\n",
    "    IQR = Q3 - Q1\n",
    "    thr = min(float(Q3 + 1.5 * IQR), thr_max)\n",
    "    print(f'{i}日目閾値{thr}')\n",
    "    "
   ]
  },
  {
   "cell_type": "code",
   "execution_count": 41,
   "id": "f2c28aa3",
   "metadata": {},
   "outputs": [
    {
     "name": "stdout",
     "output_type": "stream",
     "text": [
      "0日目閾値0.1840128249319682\n",
      "1日目閾値0.27588573915951703\n",
      "2日目閾値0.10466075684503923\n",
      "3日目閾値0.3686089933648027\n",
      "4日目閾値0.12928793405509179\n",
      "5日目閾値0.24128218833661597\n",
      "6日目閾値0.1797361431959139\n",
      "7日目閾値0.11924332250442238\n",
      "8日目閾値0.18702655748155242\n",
      "9日目閾値0.18834728592856656\n"
     ]
    }
   ],
   "source": [
    "n_clusters=2\n",
    "for i in df['day'].unique():\n",
    "    day=i\n",
    "    model = KMeans(n_clusters=n_clusters, random_state=0)  # initを省略すると、k-means++法が適応される(randomではk-means法が適応)\n",
    "    model.fit(df.loc[df['day']==day, ['d']].values)\n",
    "    clusters = model.predict(df.loc[df['day']==day, ['d']].values)  \n",
    "    result=pd.DataFrame({'d':df.loc[df['day']==day, 'd'].values, 'cluster':clusters})\n",
    "    thr_list=[]\n",
    "    for j in range(n_clusters):\n",
    "        thr_list.append(result.loc[result['cluster']==j, 'd'].max())\n",
    "    thr_min=sorted(thr_list)[-2]\n",
    "    thr_max=sorted(thr_list)[-1]\n",
    "    thr_range=result.loc[(result['d']>=thr_min)&(result['d']<=thr_max), ['d']]\n",
    "    Q1 = thr_range.quantile(0.25)\n",
    "    Q3 = thr_range.quantile(0.75)\n",
    "    IQR = Q3 - Q1\n",
    "    thr = min(float(Q3 + 1.5 * IQR), thr_max)\n",
    "    print(f'{i}日目閾値{thr}')"
   ]
  },
  {
   "cell_type": "code",
   "execution_count": 16,
   "id": "979b6310",
   "metadata": {},
   "outputs": [
    {
     "name": "stdout",
     "output_type": "stream",
     "text": [
      "0日目閾値0.20854295602918146\n",
      "1日目閾値0.21577954684350503\n",
      "2日目閾値0.16562507803088566\n",
      "3日目閾値0.2058708131357629\n",
      "4日目閾値0.10427529919006852\n",
      "5日目閾値0.17364869792720278\n",
      "6日目閾値0.14298064196623061\n",
      "7日目閾値0.1019576066681937\n",
      "8日目閾値0.13405828391912197\n",
      "9日目閾値0.16571633397199975\n"
     ]
    }
   ],
   "source": [
    "from sklearn.cluster import KMeans\n",
    "n_clusters=4\n",
    "for i in df['day'].unique():\n",
    "    day=i\n",
    "    d_df=df.loc[df['day']==day, ['d']].copy()\n",
    "    d_sample=d_df.sample(n=54000)\n",
    "    model = KMeans(n_clusters=n_clusters, random_state=0)  # initを省略すると、k-means++法が適応される(randomではk-means法が適応)\n",
    "    model.fit(d_sample.values)\n",
    "    clusters = model.predict(d_sample.values)  \n",
    "    result=pd.DataFrame({'d':d_sample.values.flatten(), 'cluster':clusters})\n",
    "    thr_list=[]\n",
    "    for j in range(n_clusters):\n",
    "        thr_list.append(result.loc[result['cluster']==j, 'd'].min())\n",
    "        \n",
    "    thr_min=sorted(thr_list)[-2]\n",
    "    thr_max=sorted(thr_list)[-1]\n",
    "    thr_range=result.loc[(result['d']>=thr_min)&(result['d']<=thr_max), ['d']]\n",
    "    Q1 = thr_range.quantile(0.25)\n",
    "    Q3 = thr_range.quantile(0.75)\n",
    "    IQR = Q3 - Q1\n",
    "    thr = min(float(Q3 + 1.5 * IQR), thr_max)\n",
    "    print(f'{i}日目閾値{thr}')"
   ]
  },
  {
   "cell_type": "code",
   "execution_count": 43,
   "id": "a30878b9",
   "metadata": {},
   "outputs": [
    {
     "name": "stdout",
     "output_type": "stream",
     "text": [
      "0日目閾値0.1838018713759464\n",
      "1日目閾値0.27787843623252106\n",
      "2日目閾値0.10409830689922026\n",
      "3日目閾値0.37821948800909916\n",
      "4日目閾値0.12924045060045392\n",
      "5日目閾値0.2330172498205525\n",
      "6日目閾値0.1854500145674602\n",
      "7日目閾値0.11770960068912677\n",
      "8日目閾値0.18666520033144263\n",
      "9日目閾値0.18607729283152727\n"
     ]
    }
   ],
   "source": [
    "n_clusters=2\n",
    "for i in df['day'].unique():\n",
    "    day=i\n",
    "    d_df=df.loc[df['day']==day, ['d']].copy()\n",
    "    d_sample=d_df.sample(n=len(d_df)-100000)\n",
    "    model = KMeans(n_clusters=n_clusters, random_state=0)  # initを省略すると、k-means++法が適応される(randomではk-means法が適応)\n",
    "    model.fit(d_sample.values)\n",
    "    clusters = model.predict(d_sample.values)  \n",
    "    result=pd.DataFrame({'d':d_sample.values.flatten(), 'cluster':clusters})\n",
    "    thr_list=[]\n",
    "    for j in range(n_clusters):\n",
    "        thr_list.append(result.loc[result['cluster']==j, 'd'].max())\n",
    "        \n",
    "    thr_min=sorted(thr_list)[-2]\n",
    "    thr_max=sorted(thr_list)[-1]\n",
    "    thr_range=result.loc[(result['d']>thr_min)&(result['d']<=thr_max), ['d']]\n",
    "    Q1 = thr_range.quantile(0.25)\n",
    "    Q3 = thr_range.quantile(0.75)\n",
    "    IQR = Q3 - Q1\n",
    "    thr = min(float(Q3 + 1.5 * IQR), thr_max)\n",
    "    print(f'{i}日目閾値{thr}')"
   ]
  },
  {
   "cell_type": "code",
   "execution_count": 12,
   "id": "1171047b",
   "metadata": {
    "scrolled": true
   },
   "outputs": [
    {
     "name": "stdout",
     "output_type": "stream",
     "text": [
      "0日目閾値0.07454517735882954\n",
      "1日目閾値0.09334841031588292\n",
      "2日目閾値0.046483945040940264\n",
      "3日目閾値0.07390186171050056\n",
      "4日目閾値0.06610643272367576\n",
      "5日目閾値0.07697039545717205\n",
      "6日目閾値0.05609783562207154\n",
      "7日目閾値0.047633715679566195\n",
      "8日目閾値0.08666598994300821\n",
      "9日目閾値0.06891307413068218\n"
     ]
    }
   ],
   "source": [
    "from sklearn.cluster import KMeans\n",
    "n_clusters=4\n",
    "for i in df['day'].unique():\n",
    "    day=i\n",
    "    d_df=df.loc[df['day']==day, ['d']].copy()\n",
    "    d_sample=d_df.sample(n=54000)\n",
    "    model = KMeans(n_clusters=n_clusters, random_state=0)  # initを省略すると、k-means++法が適応される(randomではk-means法が適応)\n",
    "    model.fit(d_sample.values)\n",
    "    clusters = model.predict(d_sample.values)  \n",
    "    result=pd.DataFrame({'d':d_sample.values.flatten(), 'cluster':clusters})\n",
    "    thr_list=[]\n",
    "    for j in range(n_clusters):\n",
    "        thr_list.append(result.loc[result['cluster']==j, 'd'].min())\n",
    "    print(f'{i}日目閾値{sorted(thr_list)[-2]}')"
   ]
  },
  {
   "cell_type": "code",
   "execution_count": null,
   "id": "b5cf4beb",
   "metadata": {},
   "outputs": [],
   "source": []
  },
  {
   "cell_type": "code",
   "execution_count": 21,
   "id": "514df8ad",
   "metadata": {},
   "outputs": [
    {
     "data": {
      "text/plain": [
       "(0.0, 100.0)"
      ]
     },
     "execution_count": 21,
     "metadata": {},
     "output_type": "execute_result"
    },
    {
     "data": {
      "image/png": "[encoded data removed]",
      "text/plain": [
       "<Figure size 432x288 with 1 Axes>"
      ]
     },
     "metadata": {
      "needs_background": "light"
     },
     "output_type": "display_data"
    }
   ],
   "source": [
    "d_df.hist(bins=1000)\n",
    "plt.ylim(0, 100)"
   ]
  },
  {
   "cell_type": "code",
   "execution_count": 10,
   "id": "af517612",
   "metadata": {},
   "outputs": [
    {
     "name": "stdout",
     "output_type": "stream",
     "text": [
      "2クラスタ\n"
     ]
    },
    {
     "data": {
      "image/png": "[encoded data removed]",
      "text/plain": [
       "<Figure size 432x288 with 1 Axes>"
      ]
     },
     "metadata": {
      "needs_background": "light"
     },
     "output_type": "display_data"
    },
    {
     "name": "stdout",
     "output_type": "stream",
     "text": [
      "3クラスタ\n"
     ]
    },
    {
     "data": {
      "image/png": "[encoded data removed]",
      "text/plain": [
       "<Figure size 432x288 with 1 Axes>"
      ]
     },
     "metadata": {
      "needs_background": "light"
     },
     "output_type": "display_data"
    },
    {
     "name": "stdout",
     "output_type": "stream",
     "text": [
      "4クラスタ\n"
     ]
    },
    {
     "data": {
      "image/png": "[encoded data removed]",
      "text/plain": [
       "<Figure size 432x288 with 1 Axes>"
      ]
     },
     "metadata": {
      "needs_background": "light"
     },
     "output_type": "display_data"
    },
    {
     "name": "stdout",
     "output_type": "stream",
     "text": [
      "5クラスタ\n"
     ]
    },
    {
     "data": {
      "image/png": "[encoded data removed]",
      "text/plain": [
       "<Figure size 432x288 with 1 Axes>"
      ]
     },
     "metadata": {
      "needs_background": "light"
     },
     "output_type": "display_data"
    },
    {
     "name": "stdout",
     "output_type": "stream",
     "text": [
      "6クラスタ\n"
     ]
    },
    {
     "data": {
      "image/png": "[encoded data removed]",
      "text/plain": [
       "<Figure size 432x288 with 1 Axes>"
      ]
     },
     "metadata": {
      "needs_background": "light"
     },
     "output_type": "display_data"
    },
    {
     "name": "stdout",
     "output_type": "stream",
     "text": [
      "7クラスタ\n"
     ]
    },
    {
     "data": {
      "image/png": "[encoded data removed]",
      "text/plain": [
       "<Figure size 432x288 with 1 Axes>"
      ]
     },
     "metadata": {
      "needs_background": "light"
     },
     "output_type": "display_data"
    }
   ],
   "source": [
    "day=1\n",
    "for j  in range(2,8):  \n",
    "    print(f'{j}クラスタ')\n",
    "    model = KMeans(n_clusters=j, random_state=0)  # initを省略すると、k-means++法が適応される(randomではk-means法が適応)\n",
    "    model.fit(df.loc[df['day']==day, ['d']].values)\n",
    "    clusters = model.predict(df.loc[df['day']==0, ['d']].values)  \n",
    "    result=pd.DataFrame({'d':df.loc[df['day']==0, 'd'].values, 'cluster':clusters})\n",
    "    thr_list=[]\n",
    "    for j in range(j):\n",
    "        thr_list.append(result.loc[result['cluster']==j, 'd'].min())\n",
    "    plt.hist(df.loc[df['day']==day, 'd'], bins=500)\n",
    "    plt.xticks([0, 0.1, 0.2, 0.3, 0.5, sorted(thr_list)[-1]], [\"0\", \"0.1\", \"0.2\", \"0.3\", \"0.5\", \"thr\"])\n",
    "    plt.xlim(0, 0.5)\n",
    "    plt.show()"
   ]
  },
  {
   "cell_type": "code",
   "execution_count": 11,
   "id": "bcc7ad89",
   "metadata": {
    "scrolled": false
   },
   "outputs": [
    {
     "name": "stdout",
     "output_type": "stream",
     "text": [
      "0日目\n"
     ]
    },
    {
     "data": {
      "image/png": "[encoded data removed]",
      "text/plain": [
       "<Figure size 432x288 with 1 Axes>"
      ]
     },
     "metadata": {
      "needs_background": "light"
     },
     "output_type": "display_data"
    },
    {
     "name": "stdout",
     "output_type": "stream",
     "text": [
      "1日目\n"
     ]
    },
    {
     "ename": "KeyboardInterrupt",
     "evalue": "",
     "output_type": "error",
     "traceback": [
      "\u001b[1;31m---------------------------------------------------------------------------\u001b[0m",
      "\u001b[1;31mKeyboardInterrupt\u001b[0m                         Traceback (most recent call last)",
      "\u001b[1;32m~\\AppData\\Local\\Temp/ipykernel_20052/1572830533.py\u001b[0m in \u001b[0;36m<module>\u001b[1;34m\u001b[0m\n\u001b[0;32m      5\u001b[0m     \u001b[1;32mfor\u001b[0m \u001b[0mj\u001b[0m  \u001b[1;32min\u001b[0m \u001b[0mrange\u001b[0m\u001b[1;33m(\u001b[0m\u001b[1;36m2\u001b[0m\u001b[1;33m,\u001b[0m\u001b[1;36m8\u001b[0m\u001b[1;33m)\u001b[0m\u001b[1;33m:\u001b[0m\u001b[1;33m\u001b[0m\u001b[1;33m\u001b[0m\u001b[0m\n\u001b[0;32m      6\u001b[0m         \u001b[0mmodel\u001b[0m \u001b[1;33m=\u001b[0m \u001b[0mKMeans\u001b[0m\u001b[1;33m(\u001b[0m\u001b[0mn_clusters\u001b[0m\u001b[1;33m=\u001b[0m\u001b[0mj\u001b[0m\u001b[1;33m,\u001b[0m \u001b[0mrandom_state\u001b[0m\u001b[1;33m=\u001b[0m\u001b[1;36m0\u001b[0m\u001b[1;33m)\u001b[0m  \u001b[1;31m# initを省略すると、k-means++法が適応される(randomではk-means法が適応)\u001b[0m\u001b[1;33m\u001b[0m\u001b[1;33m\u001b[0m\u001b[0m\n\u001b[1;32m----> 7\u001b[1;33m         \u001b[0mmodel\u001b[0m\u001b[1;33m.\u001b[0m\u001b[0mfit\u001b[0m\u001b[1;33m(\u001b[0m\u001b[0mdf\u001b[0m\u001b[1;33m.\u001b[0m\u001b[0mloc\u001b[0m\u001b[1;33m[\u001b[0m\u001b[0mdf\u001b[0m\u001b[1;33m[\u001b[0m\u001b[1;34m'day'\u001b[0m\u001b[1;33m]\u001b[0m\u001b[1;33m==\u001b[0m\u001b[0mday\u001b[0m\u001b[1;33m,\u001b[0m \u001b[1;33m[\u001b[0m\u001b[1;34m'd'\u001b[0m\u001b[1;33m]\u001b[0m\u001b[1;33m]\u001b[0m\u001b[1;33m.\u001b[0m\u001b[0mvalues\u001b[0m\u001b[1;33m)\u001b[0m\u001b[1;33m\u001b[0m\u001b[1;33m\u001b[0m\u001b[0m\n\u001b[0m\u001b[0;32m      8\u001b[0m         \u001b[0mdistortions\u001b[0m\u001b[1;33m.\u001b[0m\u001b[0mappend\u001b[0m\u001b[1;33m(\u001b[0m\u001b[0mmodel\u001b[0m\u001b[1;33m.\u001b[0m\u001b[0minertia_\u001b[0m\u001b[1;33m)\u001b[0m\u001b[1;33m\u001b[0m\u001b[1;33m\u001b[0m\u001b[0m\n\u001b[0;32m      9\u001b[0m     \u001b[0mplt\u001b[0m\u001b[1;33m.\u001b[0m\u001b[0mplot\u001b[0m\u001b[1;33m(\u001b[0m\u001b[0mrange\u001b[0m\u001b[1;33m(\u001b[0m\u001b[1;36m2\u001b[0m\u001b[1;33m,\u001b[0m\u001b[1;36m8\u001b[0m\u001b[1;33m)\u001b[0m\u001b[1;33m,\u001b[0m\u001b[0mdistortions\u001b[0m\u001b[1;33m,\u001b[0m\u001b[0mmarker\u001b[0m\u001b[1;33m=\u001b[0m\u001b[1;34m'o'\u001b[0m\u001b[1;33m)\u001b[0m\u001b[1;33m\u001b[0m\u001b[1;33m\u001b[0m\u001b[0m\n",
      "\u001b[1;32m~\\anaconda3\\lib\\site-packages\\sklearn\\cluster\\_kmeans.py\u001b[0m in \u001b[0;36mfit\u001b[1;34m(self, X, y, sample_weight)\u001b[0m\n\u001b[0;32m   1021\u001b[0m \u001b[1;33m\u001b[0m\u001b[0m\n\u001b[0;32m   1022\u001b[0m             \u001b[1;31m# run a k-means once\u001b[0m\u001b[1;33m\u001b[0m\u001b[1;33m\u001b[0m\u001b[0m\n\u001b[1;32m-> 1023\u001b[1;33m             labels, inertia, centers, n_iter_ = kmeans_single(\n\u001b[0m\u001b[0;32m   1024\u001b[0m                 \u001b[0mX\u001b[0m\u001b[1;33m,\u001b[0m \u001b[0msample_weight\u001b[0m\u001b[1;33m,\u001b[0m \u001b[0mcenters_init\u001b[0m\u001b[1;33m,\u001b[0m \u001b[0mmax_iter\u001b[0m\u001b[1;33m=\u001b[0m\u001b[0mself\u001b[0m\u001b[1;33m.\u001b[0m\u001b[0mmax_iter\u001b[0m\u001b[1;33m,\u001b[0m\u001b[1;33m\u001b[0m\u001b[1;33m\u001b[0m\u001b[0m\n\u001b[0;32m   1025\u001b[0m                 \u001b[0mverbose\u001b[0m\u001b[1;33m=\u001b[0m\u001b[0mself\u001b[0m\u001b[1;33m.\u001b[0m\u001b[0mverbose\u001b[0m\u001b[1;33m,\u001b[0m \u001b[0mtol\u001b[0m\u001b[1;33m=\u001b[0m\u001b[0mself\u001b[0m\u001b[1;33m.\u001b[0m\u001b[0m_tol\u001b[0m\u001b[1;33m,\u001b[0m\u001b[1;33m\u001b[0m\u001b[1;33m\u001b[0m\u001b[0m\n",
      "\u001b[1;32m~\\anaconda3\\lib\\site-packages\\sklearn\\cluster\\_kmeans.py\u001b[0m in \u001b[0;36m_kmeans_single_elkan\u001b[1;34m(X, sample_weight, centers_init, max_iter, verbose, x_squared_norms, tol, n_threads)\u001b[0m\n\u001b[0;32m    391\u001b[0m         \u001b[1;31m# center of each center for next iterations\u001b[0m\u001b[1;33m\u001b[0m\u001b[1;33m\u001b[0m\u001b[0m\n\u001b[0;32m    392\u001b[0m         \u001b[0mcenter_half_distances\u001b[0m \u001b[1;33m=\u001b[0m \u001b[0meuclidean_distances\u001b[0m\u001b[1;33m(\u001b[0m\u001b[0mcenters_new\u001b[0m\u001b[1;33m)\u001b[0m \u001b[1;33m/\u001b[0m \u001b[1;36m2\u001b[0m\u001b[1;33m\u001b[0m\u001b[1;33m\u001b[0m\u001b[0m\n\u001b[1;32m--> 393\u001b[1;33m         distance_next_center = np.partition(\n\u001b[0m\u001b[0;32m    394\u001b[0m             np.asarray(center_half_distances), kth=1, axis=0)[1]\n\u001b[0;32m    395\u001b[0m \u001b[1;33m\u001b[0m\u001b[0m\n",
      "\u001b[1;32m<__array_function__ internals>\u001b[0m in \u001b[0;36mpartition\u001b[1;34m(*args, **kwargs)\u001b[0m\n",
      "\u001b[1;32m~\\anaconda3\\lib\\site-packages\\numpy\\core\\fromnumeric.py\u001b[0m in \u001b[0;36mpartition\u001b[1;34m(a, kth, axis, kind, order)\u001b[0m\n\u001b[0;32m    750\u001b[0m         \u001b[0maxis\u001b[0m \u001b[1;33m=\u001b[0m \u001b[1;33m-\u001b[0m\u001b[1;36m1\u001b[0m\u001b[1;33m\u001b[0m\u001b[1;33m\u001b[0m\u001b[0m\n\u001b[0;32m    751\u001b[0m     \u001b[1;32melse\u001b[0m\u001b[1;33m:\u001b[0m\u001b[1;33m\u001b[0m\u001b[1;33m\u001b[0m\u001b[0m\n\u001b[1;32m--> 752\u001b[1;33m         \u001b[0ma\u001b[0m \u001b[1;33m=\u001b[0m \u001b[0masanyarray\u001b[0m\u001b[1;33m(\u001b[0m\u001b[0ma\u001b[0m\u001b[1;33m)\u001b[0m\u001b[1;33m.\u001b[0m\u001b[0mcopy\u001b[0m\u001b[1;33m(\u001b[0m\u001b[0morder\u001b[0m\u001b[1;33m=\u001b[0m\u001b[1;34m\"K\"\u001b[0m\u001b[1;33m)\u001b[0m\u001b[1;33m\u001b[0m\u001b[1;33m\u001b[0m\u001b[0m\n\u001b[0m\u001b[0;32m    753\u001b[0m     \u001b[0ma\u001b[0m\u001b[1;33m.\u001b[0m\u001b[0mpartition\u001b[0m\u001b[1;33m(\u001b[0m\u001b[0mkth\u001b[0m\u001b[1;33m,\u001b[0m \u001b[0maxis\u001b[0m\u001b[1;33m=\u001b[0m\u001b[0maxis\u001b[0m\u001b[1;33m,\u001b[0m \u001b[0mkind\u001b[0m\u001b[1;33m=\u001b[0m\u001b[0mkind\u001b[0m\u001b[1;33m,\u001b[0m \u001b[0morder\u001b[0m\u001b[1;33m=\u001b[0m\u001b[0morder\u001b[0m\u001b[1;33m)\u001b[0m\u001b[1;33m\u001b[0m\u001b[1;33m\u001b[0m\u001b[0m\n\u001b[0;32m    754\u001b[0m     \u001b[1;32mreturn\u001b[0m \u001b[0ma\u001b[0m\u001b[1;33m\u001b[0m\u001b[1;33m\u001b[0m\u001b[0m\n",
      "\u001b[1;31mKeyboardInterrupt\u001b[0m: "
     ]
    }
   ],
   "source": [
    "for i in df['day'].unique():\n",
    "    day=i\n",
    "    distortions = []\n",
    "    print(f'{i}日目')\n",
    "    for j  in range(2,8):  \n",
    "        model = KMeans(n_clusters=j, random_state=0)  # initを省略すると、k-means++法が適応される(randomではk-means法が適応)\n",
    "        model.fit(df.loc[df['day']==day, ['d']].values)\n",
    "        distortions.append(model.inertia_)\n",
    "    plt.plot(range(2,8),distortions,marker='o')\n",
    "    plt.xlabel('Number of clusters')\n",
    "    plt.ylabel('Distortion')\n",
    "    plt.show()\n",
    "        "
   ]
  },
  {
   "cell_type": "code",
   "execution_count": null,
   "id": "d2af6e97",
   "metadata": {},
   "outputs": [],
   "source": [
    "distortions = []\n",
    "\n",
    "for i  in range(1,11):                # 1~10クラスタまで一気に計算 \n",
    "    km = KMeans(n_clusters=i,\n",
    "                init='k-means++')    # k-means++法によりクラスタ中心を選択\n",
    "\n",
    "    km.fit(X)                         # クラスタリングの計算を実行\n",
    "    distortions.append(km.inertia_)   # km.fitするとkm.inertia_が得られる\n",
    "\n",
    "plt.plot(range(1,11),distortions,marker='o')\n",
    "plt.xlabel('Number of clusters')\n",
    "plt.ylabel('Distortion')\n",
    "plt.show()"
   ]
  },
  {
   "cell_type": "code",
   "execution_count": null,
   "id": "56888a19",
   "metadata": {},
   "outputs": [],
   "source": []
  },
  {
   "cell_type": "code",
   "execution_count": null,
   "id": "a83f3dbc",
   "metadata": {},
   "outputs": [],
   "source": [
    "from sklearn.cluster import KMeans\n",
    "n_clusters=8\n",
    "for i in df['day'].unique():\n",
    "    day=i\n",
    "    model = KMeans(n_clusters=n_clusters, random_state=0)  # initを省略すると、k-means++法が適応される(randomではk-means法が適応)\n",
    "    model.fit(df.loc[df['day']==day, ['d']].values)\n",
    "    clusters = model.predict(df.loc[df['day']==0, ['d']].values)  \n",
    "    result=pd.DataFrame({'d':df.loc[df['day']==0, 'd'].values, 'cluster':clusters})\n",
    "    thr_list=[]\n",
    "    for j in range(n_clusters):\n",
    "        thr_list.append(result.loc[result['cluster']==j, 'd'].max())\n",
    "    print(f'{i}日目閾値\\n{sorted(thr_list)}')"
   ]
  },
  {
   "cell_type": "code",
   "execution_count": null,
   "id": "6e25d5cd",
   "metadata": {},
   "outputs": [],
   "source": []
  }
 ],
 "metadata": {
  "kernelspec": {
   "display_name": "Python 3 (ipykernel)",
   "language": "python",
   "name": "python3"
  },
  "language_info": {
   "codemirror_mode": {
    "name": "ipython",
    "version": 3
   },
   "file_extension": ".py",
   "mimetype": "text/x-python",
   "name": "python",
   "nbconvert_exporter": "python",
   "pygments_lexer": "ipython3",
   "version": "3.9.7"
  }
 },
 "nbformat": 4,
 "nbformat_minor": 5
}
