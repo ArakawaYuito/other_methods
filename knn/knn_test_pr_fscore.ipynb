{
 "cells": [
  {
   "cell_type": "code",
   "execution_count": 1,
   "id": "cdc48f36",
   "metadata": {},
   "outputs": [],
   "source": [
    "import numpy as np\n",
    "import matplotlib.pyplot as plt\n",
    "from sklearn.neighbors import NearestNeighbors\n",
    "from sklearn.metrics import precision_score\n",
    "import pandas as pd\n",
    "import seaborn as sns\n",
    "from statsmodels import api as sm\n",
    "from matplotlib import pyplot as plt\n",
    "from pandas.plotting import register_matplotlib_converters\n",
    "import os\n",
    "import numpy as np\n",
    "import math\n",
    "import validate\n",
    "from sklearn.preprocessing import StandardScaler\n",
    "from sklearn.decomposition import PCA\n",
    "import PR_curve\n",
    "from sklearn.cluster import KMeans"
   ]
  },
  {
   "cell_type": "code",
   "execution_count": 2,
   "id": "16d92fbe",
   "metadata": {
    "scrolled": true
   },
   "outputs": [
    {
     "data": {
      "text/html": [
       "<div>\n",
       "<style scoped>\n",
       "    .dataframe tbody tr th:only-of-type {\n",
       "        vertical-align: middle;\n",
       "    }\n",
       "\n",
       "    .dataframe tbody tr th {\n",
       "        vertical-align: top;\n",
       "    }\n",
       "\n",
       "    .dataframe thead th {\n",
       "        text-align: right;\n",
       "    }\n",
       "</style>\n",
       "<table border=\"1\" class=\"dataframe\">\n",
       "  <thead>\n",
       "    <tr style=\"text-align: right;\">\n",
       "      <th></th>\n",
       "      <th>original</th>\n",
       "      <th>label</th>\n",
       "      <th>time</th>\n",
       "      <th>day</th>\n",
       "    </tr>\n",
       "  </thead>\n",
       "  <tbody>\n",
       "    <tr>\n",
       "      <th>0</th>\n",
       "      <td>53.4</td>\n",
       "      <td>0</td>\n",
       "      <td>15</td>\n",
       "      <td>0</td>\n",
       "    </tr>\n",
       "    <tr>\n",
       "      <th>1</th>\n",
       "      <td>52.8</td>\n",
       "      <td>0</td>\n",
       "      <td>15</td>\n",
       "      <td>0</td>\n",
       "    </tr>\n",
       "    <tr>\n",
       "      <th>2</th>\n",
       "      <td>52.8</td>\n",
       "      <td>0</td>\n",
       "      <td>15</td>\n",
       "      <td>0</td>\n",
       "    </tr>\n",
       "    <tr>\n",
       "      <th>3</th>\n",
       "      <td>53.2</td>\n",
       "      <td>0</td>\n",
       "      <td>15</td>\n",
       "      <td>0</td>\n",
       "    </tr>\n",
       "    <tr>\n",
       "      <th>4</th>\n",
       "      <td>53.6</td>\n",
       "      <td>0</td>\n",
       "      <td>15</td>\n",
       "      <td>0</td>\n",
       "    </tr>\n",
       "    <tr>\n",
       "      <th>...</th>\n",
       "      <td>...</td>\n",
       "      <td>...</td>\n",
       "      <td>...</td>\n",
       "      <td>...</td>\n",
       "    </tr>\n",
       "    <tr>\n",
       "      <th>3995345</th>\n",
       "      <td>45.9</td>\n",
       "      <td>0</td>\n",
       "      <td>5</td>\n",
       "      <td>9</td>\n",
       "    </tr>\n",
       "    <tr>\n",
       "      <th>3995346</th>\n",
       "      <td>45.6</td>\n",
       "      <td>0</td>\n",
       "      <td>5</td>\n",
       "      <td>9</td>\n",
       "    </tr>\n",
       "    <tr>\n",
       "      <th>3995347</th>\n",
       "      <td>45.8</td>\n",
       "      <td>0</td>\n",
       "      <td>5</td>\n",
       "      <td>9</td>\n",
       "    </tr>\n",
       "    <tr>\n",
       "      <th>3995348</th>\n",
       "      <td>45.7</td>\n",
       "      <td>0</td>\n",
       "      <td>5</td>\n",
       "      <td>9</td>\n",
       "    </tr>\n",
       "    <tr>\n",
       "      <th>3995349</th>\n",
       "      <td>45.9</td>\n",
       "      <td>0</td>\n",
       "      <td>5</td>\n",
       "      <td>9</td>\n",
       "    </tr>\n",
       "  </tbody>\n",
       "</table>\n",
       "<p>3995350 rows × 4 columns</p>\n",
       "</div>"
      ],
      "text/plain": [
       "         original  label  time  day\n",
       "0            53.4      0    15    0\n",
       "1            52.8      0    15    0\n",
       "2            52.8      0    15    0\n",
       "3            53.2      0    15    0\n",
       "4            53.6      0    15    0\n",
       "...           ...    ...   ...  ...\n",
       "3995345      45.9      0     5    9\n",
       "3995346      45.6      0     5    9\n",
       "3995347      45.8      0     5    9\n",
       "3995348      45.7      0     5    9\n",
       "3995349      45.9      0     5    9\n",
       "\n",
       "[3995350 rows x 4 columns]"
      ]
     },
     "execution_count": 2,
     "metadata": {},
     "output_type": "execute_result"
    }
   ],
   "source": [
    "data_dir='fixed_csv_label_ver2'\n",
    "original = pd.read_csv( os.path.join(data_dir, 'learning_data_10.csv') )\n",
    "df = pd.read_csv( os.path.join(data_dir, 'learning_data_10.csv') )\n",
    "df=df[df['day']<=9]\n",
    "df"
   ]
  },
  {
   "cell_type": "code",
   "execution_count": 3,
   "id": "cf857e04",
   "metadata": {
    "scrolled": true
   },
   "outputs": [
    {
     "data": {
      "text/html": [
       "<div>\n",
       "<style scoped>\n",
       "    .dataframe tbody tr th:only-of-type {\n",
       "        vertical-align: middle;\n",
       "    }\n",
       "\n",
       "    .dataframe tbody tr th {\n",
       "        vertical-align: top;\n",
       "    }\n",
       "\n",
       "    .dataframe thead th {\n",
       "        text-align: right;\n",
       "    }\n",
       "</style>\n",
       "<table border=\"1\" class=\"dataframe\">\n",
       "  <thead>\n",
       "    <tr style=\"text-align: right;\">\n",
       "      <th></th>\n",
       "      <th>original</th>\n",
       "      <th>original_lag1</th>\n",
       "      <th>original_lag2</th>\n",
       "      <th>original_lag3</th>\n",
       "      <th>original_lag4</th>\n",
       "      <th>day</th>\n",
       "      <th>d</th>\n",
       "      <th>z</th>\n",
       "    </tr>\n",
       "  </thead>\n",
       "  <tbody>\n",
       "    <tr>\n",
       "      <th>0</th>\n",
       "      <td>53.6</td>\n",
       "      <td>53.2</td>\n",
       "      <td>52.8</td>\n",
       "      <td>52.8</td>\n",
       "      <td>53.4</td>\n",
       "      <td>0</td>\n",
       "      <td>0</td>\n",
       "      <td>0</td>\n",
       "    </tr>\n",
       "    <tr>\n",
       "      <th>1</th>\n",
       "      <td>54.0</td>\n",
       "      <td>53.6</td>\n",
       "      <td>53.2</td>\n",
       "      <td>52.8</td>\n",
       "      <td>52.8</td>\n",
       "      <td>0</td>\n",
       "      <td>0</td>\n",
       "      <td>0</td>\n",
       "    </tr>\n",
       "    <tr>\n",
       "      <th>2</th>\n",
       "      <td>54.7</td>\n",
       "      <td>54.0</td>\n",
       "      <td>53.6</td>\n",
       "      <td>53.2</td>\n",
       "      <td>52.8</td>\n",
       "      <td>0</td>\n",
       "      <td>0</td>\n",
       "      <td>0</td>\n",
       "    </tr>\n",
       "    <tr>\n",
       "      <th>3</th>\n",
       "      <td>55.7</td>\n",
       "      <td>54.7</td>\n",
       "      <td>54.0</td>\n",
       "      <td>53.6</td>\n",
       "      <td>53.2</td>\n",
       "      <td>0</td>\n",
       "      <td>0</td>\n",
       "      <td>0</td>\n",
       "    </tr>\n",
       "    <tr>\n",
       "      <th>4</th>\n",
       "      <td>55.5</td>\n",
       "      <td>55.7</td>\n",
       "      <td>54.7</td>\n",
       "      <td>54.0</td>\n",
       "      <td>53.6</td>\n",
       "      <td>0</td>\n",
       "      <td>0</td>\n",
       "      <td>0</td>\n",
       "    </tr>\n",
       "    <tr>\n",
       "      <th>...</th>\n",
       "      <td>...</td>\n",
       "      <td>...</td>\n",
       "      <td>...</td>\n",
       "      <td>...</td>\n",
       "      <td>...</td>\n",
       "      <td>...</td>\n",
       "      <td>...</td>\n",
       "      <td>...</td>\n",
       "    </tr>\n",
       "    <tr>\n",
       "      <th>3995305</th>\n",
       "      <td>45.9</td>\n",
       "      <td>45.6</td>\n",
       "      <td>45.4</td>\n",
       "      <td>45.9</td>\n",
       "      <td>46.0</td>\n",
       "      <td>9</td>\n",
       "      <td>0</td>\n",
       "      <td>0</td>\n",
       "    </tr>\n",
       "    <tr>\n",
       "      <th>3995306</th>\n",
       "      <td>45.6</td>\n",
       "      <td>45.9</td>\n",
       "      <td>45.6</td>\n",
       "      <td>45.4</td>\n",
       "      <td>45.9</td>\n",
       "      <td>9</td>\n",
       "      <td>0</td>\n",
       "      <td>0</td>\n",
       "    </tr>\n",
       "    <tr>\n",
       "      <th>3995307</th>\n",
       "      <td>45.8</td>\n",
       "      <td>45.6</td>\n",
       "      <td>45.9</td>\n",
       "      <td>45.6</td>\n",
       "      <td>45.4</td>\n",
       "      <td>9</td>\n",
       "      <td>0</td>\n",
       "      <td>0</td>\n",
       "    </tr>\n",
       "    <tr>\n",
       "      <th>3995308</th>\n",
       "      <td>45.7</td>\n",
       "      <td>45.8</td>\n",
       "      <td>45.6</td>\n",
       "      <td>45.9</td>\n",
       "      <td>45.6</td>\n",
       "      <td>9</td>\n",
       "      <td>0</td>\n",
       "      <td>0</td>\n",
       "    </tr>\n",
       "    <tr>\n",
       "      <th>3995309</th>\n",
       "      <td>45.9</td>\n",
       "      <td>45.7</td>\n",
       "      <td>45.8</td>\n",
       "      <td>45.6</td>\n",
       "      <td>45.9</td>\n",
       "      <td>9</td>\n",
       "      <td>0</td>\n",
       "      <td>0</td>\n",
       "    </tr>\n",
       "  </tbody>\n",
       "</table>\n",
       "<p>3995310 rows × 8 columns</p>\n",
       "</div>"
      ],
      "text/plain": [
       "         original  original_lag1  original_lag2  original_lag3  original_lag4  \\\n",
       "0            53.6           53.2           52.8           52.8           53.4   \n",
       "1            54.0           53.6           53.2           52.8           52.8   \n",
       "2            54.7           54.0           53.6           53.2           52.8   \n",
       "3            55.7           54.7           54.0           53.6           53.2   \n",
       "4            55.5           55.7           54.7           54.0           53.6   \n",
       "...           ...            ...            ...            ...            ...   \n",
       "3995305      45.9           45.6           45.4           45.9           46.0   \n",
       "3995306      45.6           45.9           45.6           45.4           45.9   \n",
       "3995307      45.8           45.6           45.9           45.6           45.4   \n",
       "3995308      45.7           45.8           45.6           45.9           45.6   \n",
       "3995309      45.9           45.7           45.8           45.6           45.9   \n",
       "\n",
       "         day  d  z  \n",
       "0          0  0  0  \n",
       "1          0  0  0  \n",
       "2          0  0  0  \n",
       "3          0  0  0  \n",
       "4          0  0  0  \n",
       "...      ... .. ..  \n",
       "3995305    9  0  0  \n",
       "3995306    9  0  0  \n",
       "3995307    9  0  0  \n",
       "3995308    9  0  0  \n",
       "3995309    9  0  0  \n",
       "\n",
       "[3995310 rows x 8 columns]"
      ]
     },
     "execution_count": 3,
     "metadata": {},
     "output_type": "execute_result"
    }
   ],
   "source": [
    "def make_data(x, str,w):\n",
    "    x=pd.DataFrame(x)\n",
    "    window=w\n",
    "    for i in range(1, window):\n",
    "        column=f'{str}_lag{i}'\n",
    "        x[column]=x[str].shift(i)\n",
    "    return x\n",
    "\n",
    "def make_label(x, w):\n",
    "    window=w\n",
    "    x['label_all']=x['label']\n",
    "    for i in range(1, window):\n",
    "        x.loc[(x['label_all']==1)|(x['label'].shift(i)==1), 'label_all']=1\n",
    "        x.loc[(x['label_all']==0)&(x['label'].shift(i)==0), 'label_all']=0\n",
    "    \n",
    "    x['label']=x['label_all']\n",
    "    return x[['label']]\n",
    "\n",
    "df_list=[]\n",
    "for i in set(df['day']):\n",
    "    lag=[] \n",
    "    window=5\n",
    "    lag.append(make_data(df.loc[df['day']==i, ['original']], 'original', window))\n",
    "    lag.append(df.loc[df['day']==i, ['day']])\n",
    "    df_add_lag=pd.concat(lag, axis=1)\n",
    "    df_list.append(df_add_lag)\n",
    "df=pd.concat(df_list)\n",
    "df=df.dropna().reset_index(drop=True)\n",
    "df['d']=0\n",
    "df['z']=0\n",
    "df"
   ]
  },
  {
   "cell_type": "markdown",
   "id": "7f45b0ab",
   "metadata": {},
   "source": [
    "## クロスバリデーション（パラメータチューニング）"
   ]
  },
  {
   "cell_type": "code",
   "execution_count": 4,
   "id": "f39b69ee",
   "metadata": {},
   "outputs": [],
   "source": [
    "cv_data_list=df['day'].unique().tolist()\n",
    "#テストデータ\n",
    "test_notvalid=[]"
   ]
  },
  {
   "cell_type": "code",
   "execution_count": 5,
   "id": "5bc91f5a",
   "metadata": {},
   "outputs": [
    {
     "data": {
      "text/plain": [
       "[0, 1, 2, 3, 4, 5, 6, 7, 8, 9]"
      ]
     },
     "execution_count": 5,
     "metadata": {},
     "output_type": "execute_result"
    }
   ],
   "source": [
    "for i in range(len(test_notvalid)):\n",
    "    #検証データ＋訓練データ\n",
    "    cv_data_list.remove(test_notvalid[i])\n",
    "cv_data_list"
   ]
  },
  {
   "cell_type": "code",
   "execution_count": 6,
   "id": "d158aa15",
   "metadata": {
    "scrolled": false
   },
   "outputs": [
    {
     "name": "stdout",
     "output_type": "stream",
     "text": [
      "訓練データ：[1, 2, 3, 4, 5, 6, 7, 8, 9]\n",
      "検証データ：[0]日目\n",
      "------------異常検知モデルの性能評価（PR曲線AUC）-------------\n"
     ]
    },
    {
     "data": {
      "image/png": "[encoded data removed]",
      "text/plain": [
       "<Figure size 432x288 with 1 Axes>"
      ]
     },
     "metadata": {
      "needs_background": "light"
     },
     "output_type": "display_data"
    },
    {
     "name": "stdout",
     "output_type": "stream",
     "text": [
      "\u001b[31mAUC：0.8915461102855934\u001b[0m\n",
      "理想の閾値：0.19946808510638298\n",
      "F値（最高）：0.8513473622063847\n",
      "適合率（最高）：0.865546218487395\n",
      "再現率（最高）：0.8376068376068376\n",
      "----------------閾値の妥当性評価（F値）------------------\n",
      "閾値0.18397530274444596\n",
      "\u001b[31mF値：0.8457539998552088\u001b[0m\n",
      "適合率：0.8212237093690249\n",
      "再現率：0.8717948717948718\n",
      "=====================================================================================\n",
      "\n",
      "訓練データ：[0, 2, 3, 4, 5, 6, 7, 8, 9]\n",
      "検証データ：[1]日目\n",
      "------------異常検知モデルの性能評価（PR曲線AUC）-------------\n"
     ]
    },
    {
     "data": {
      "image/png": "[encoded data removed]",
      "text/plain": [
       "<Figure size 432x288 with 1 Axes>"
      ]
     },
     "metadata": {
      "needs_background": "light"
     },
     "output_type": "display_data"
    },
    {
     "name": "stdout",
     "output_type": "stream",
     "text": [
      "\u001b[31mAUC：0.9432954360067101\u001b[0m\n",
      "理想の閾値：0.23138297872340424\n",
      "F値（最高）：0.9264326327841493\n",
      "適合率（最高）：0.9597523219814241\n",
      "再現率（最高）：0.8953488372093024\n",
      "----------------閾値の妥当性評価（F値）------------------\n",
      "閾値0.2759354048671766\n",
      "\u001b[31mF値：0.8359137713904733\u001b[0m\n",
      "適合率：0.994535519125683\n",
      "再現率：0.7209302325581395\n",
      "=====================================================================================\n",
      "\n",
      "訓練データ：[0, 1, 3, 4, 5, 6, 7, 8, 9]\n",
      "検証データ：[2]日目\n",
      "------------異常検知モデルの性能評価（PR曲線AUC）-------------\n"
     ]
    },
    {
     "data": {
      "image/png": "[encoded data removed]",
      "text/plain": [
       "<Figure size 432x288 with 1 Axes>"
      ]
     },
     "metadata": {
      "needs_background": "light"
     },
     "output_type": "display_data"
    },
    {
     "name": "stdout",
     "output_type": "stream",
     "text": [
      "\u001b[31mAUC：0.8984142418056424\u001b[0m\n",
      "理想の閾値：0.1276595744680851\n",
      "F値（最高）：0.8674054260603745\n",
      "適合率（最高）：0.9043824701195219\n",
      "再現率（最高）：0.8333333333333334\n",
      "----------------閾値の妥当性評価（F値）------------------\n",
      "閾値0.10466412536169532\n",
      "\u001b[31mF値：0.8432847501634272\u001b[0m\n",
      "適合率：0.7965594614809275\n",
      "再現率：0.8958333333333334\n",
      "=====================================================================================\n",
      "\n",
      "訓練データ：[0, 1, 2, 4, 5, 6, 7, 8, 9]\n",
      "検証データ：[3]日目\n",
      "------------異常検知モデルの性能評価（PR曲線AUC）-------------\n"
     ]
    },
    {
     "data": {
      "image/png": "[encoded data removed]",
      "text/plain": [
       "<Figure size 432x288 with 1 Axes>"
      ]
     },
     "metadata": {
      "needs_background": "light"
     },
     "output_type": "display_data"
    },
    {
     "name": "stdout",
     "output_type": "stream",
     "text": [
      "\u001b[31mAUC：0.9013294319395212\u001b[0m\n",
      "理想の閾値：0.26\n",
      "F値（最高）：0.9087245617570018\n",
      "適合率（最高）：0.8723404255319149\n",
      "再現率（最高）：0.9482758620689655\n",
      "----------------閾値の妥当性評価（F値）------------------\n",
      "閾値0.3685601917390289\n",
      "\u001b[31mF値：0.6939537555651301\u001b[0m\n",
      "適合率：0.934984520123839\n",
      "再現率：0.5517241379310345\n",
      "=====================================================================================\n",
      "\n",
      "訓練データ：[0, 1, 2, 3, 5, 6, 7, 8, 9]\n",
      "検証データ：[4]日目\n",
      "------------異常検知モデルの性能評価（PR曲線AUC）-------------\n"
     ]
    },
    {
     "data": {
      "image/png": "[encoded data removed]",
      "text/plain": [
       "<Figure size 432x288 with 1 Axes>"
      ]
     },
     "metadata": {
      "needs_background": "light"
     },
     "output_type": "display_data"
    },
    {
     "name": "stdout",
     "output_type": "stream",
     "text": [
      "\u001b[31mAUC：0.9533632580655527\u001b[0m\n",
      "理想の閾値：0.14627659574468085\n",
      "F値（最高）：0.9178096986715627\n",
      "適合率（最高）：0.9650238473767886\n",
      "再現率（最高）：0.875\n",
      "----------------閾値の妥当性評価（F値）------------------\n",
      "閾値0.1292905094208483\n",
      "\u001b[31mF値：0.9061899159181565\u001b[0m\n",
      "適合率：0.9223085460599334\n",
      "再現率：0.890625\n",
      "=====================================================================================\n",
      "\n",
      "訓練データ：[0, 1, 2, 3, 4, 6, 7, 8, 9]\n",
      "検証データ：[5]日目\n",
      "------------異常検知モデルの性能評価（PR曲線AUC）-------------\n"
     ]
    },
    {
     "data": {
      "image/png": "[encoded data removed]",
      "text/plain": [
       "<Figure size 432x288 with 1 Axes>"
      ]
     },
     "metadata": {
      "needs_background": "light"
     },
     "output_type": "display_data"
    },
    {
     "name": "stdout",
     "output_type": "stream",
     "text": [
      "\u001b[31mAUC：0.9638551391170129\u001b[0m\n",
      "理想の閾値：0.23138297872340424\n",
      "F値（最高）：0.940055155063138\n",
      "適合率（最高）：0.9235668789808917\n",
      "再現率（最高）：0.9571428571428572\n",
      "----------------閾値の妥当性評価（F値）------------------\n",
      "閾値0.24128530398474357\n",
      "\u001b[31mF値：0.9299526707234618\u001b[0m\n",
      "適合率：0.9313380281690141\n",
      "再現率：0.9285714285714286\n",
      "=====================================================================================\n",
      "\n",
      "訓練データ：[0, 1, 2, 3, 4, 5, 7, 8, 9]\n",
      "検証データ：[6]日目\n",
      "------------異常検知モデルの性能評価（PR曲線AUC）-------------\n"
     ]
    },
    {
     "data": {
      "image/png": "[encoded data removed]",
      "text/plain": [
       "<Figure size 432x288 with 1 Axes>"
      ]
     },
     "metadata": {
      "needs_background": "light"
     },
     "output_type": "display_data"
    },
    {
     "name": "stdout",
     "output_type": "stream",
     "text": [
      "\u001b[31mAUC：0.8720213493196357\u001b[0m\n",
      "理想の閾値：0.2074468085106383\n",
      "F値（最高）：0.8386370370370371\n",
      "適合率（最高）：0.8745519713261649\n",
      "再現率（最高）：0.8055555555555556\n",
      "----------------閾値の妥当性評価（F値）------------------\n",
      "閾値0.17972859388772028\n",
      "\u001b[31mF値：0.8046459106307469\u001b[0m\n",
      "適合率：0.8037383177570093\n",
      "再現率：0.8055555555555556\n",
      "=====================================================================================\n",
      "\n",
      "訓練データ：[0, 1, 2, 3, 4, 5, 6, 8, 9]\n",
      "検証データ：[7]日目\n",
      "------------異常検知モデルの性能評価（PR曲線AUC）-------------\n"
     ]
    },
    {
     "data": {
      "image/png": "[encoded data removed]",
      "text/plain": [
       "<Figure size 432x288 with 1 Axes>"
      ]
     },
     "metadata": {
      "needs_background": "light"
     },
     "output_type": "display_data"
    },
    {
     "name": "stdout",
     "output_type": "stream",
     "text": [
      "\u001b[31mAUC：0.9743153812609613\u001b[0m\n",
      "理想の閾値：0.09574468085106383\n",
      "F値（最高）：0.9787640860827468\n",
      "適合率（最高）：0.9775312855517634\n",
      "再現率（最高）：0.98\n",
      "----------------閾値の妥当性評価（F値）------------------\n",
      "閾値0.11924298107983088\n",
      "\u001b[31mF値：0.921450293500554\u001b[0m\n",
      "適合率：0.99235807860262\n",
      "再現率：0.86\n",
      "=====================================================================================\n",
      "\n",
      "訓練データ：[0, 1, 2, 3, 4, 5, 6, 7, 9]\n",
      "検証データ：[8]日目\n",
      "------------異常検知モデルの性能評価（PR曲線AUC）-------------\n"
     ]
    },
    {
     "data": {
      "image/png": "[encoded data removed]",
      "text/plain": [
       "<Figure size 432x288 with 1 Axes>"
      ]
     },
     "metadata": {
      "needs_background": "light"
     },
     "output_type": "display_data"
    },
    {
     "name": "stdout",
     "output_type": "stream",
     "text": [
      "\u001b[31mAUC：0.9632638660132163\u001b[0m\n",
      "理想の閾値：0.1595744680851064\n",
      "F値（最高）：0.9775033083370093\n",
      "適合率（最高）：0.9559965487489215\n",
      "再現率（最高）：1.0\n",
      "----------------閾値の妥当性評価（F値）------------------\n",
      "閾値0.18666863706842185\n",
      "\u001b[31mF値：0.9031451907838596\u001b[0m\n",
      "適合率：0.9683680805176133\n",
      "再現率：0.8461538461538461\n",
      "=====================================================================================\n",
      "\n",
      "訓練データ：[0, 1, 2, 3, 4, 5, 6, 7, 8]\n",
      "検証データ：[9]日目\n",
      "------------異常検知モデルの性能評価（PR曲線AUC）-------------\n"
     ]
    },
    {
     "data": {
      "image/png": "[encoded data removed]",
      "text/plain": [
       "<Figure size 432x288 with 1 Axes>"
      ]
     },
     "metadata": {
      "needs_background": "light"
     },
     "output_type": "display_data"
    },
    {
     "name": "stdout",
     "output_type": "stream",
     "text": [
      "\u001b[31mAUC：0.9758404362793579\u001b[0m\n",
      "理想の閾値：0.18085106382978722\n",
      "F値（最高）：0.9776662484316185\n",
      "適合率（最高）：0.9563082965144821\n",
      "再現率（最高）：1.0\n",
      "----------------閾値の妥当性評価（F値）------------------\n",
      "閾値0.1891221110856209\n",
      "\u001b[31mF値：0.9757852713213826\u001b[0m\n",
      "適合率：0.9678313921242374\n",
      "再現率：0.9838709677419355\n",
      "=====================================================================================\n",
      "\n",
      "----------------総合評価------------------\n",
      "・異常検知モデルの性能\n",
      "\tAUC平均：0.9337244650093203\n",
      "・閾値の妥当性\n",
      "\tf値平均：0.8660075529852399\n"
     ]
    }
   ],
   "source": [
    "auc_sum=0\n",
    "f_score_sum=0\n",
    "#検証データを何日にするか\n",
    "valid_daynum=1\n",
    "cv_comb=np.array(cv_data_list).reshape((-1, valid_daynum)).tolist()\n",
    "for i in cv_comb:\n",
    "    print(f'訓練データ：{[k for k in cv_data_list if k not in i]}')\n",
    "    print(f'検証データ：{i}日目')\n",
    "\n",
    "    test_day=i\n",
    "    train=df[(~df['day'].isin(test_day))][df.columns[:-3]].reset_index(drop=True)\n",
    "    test=df[(df['day'].isin(test_day))][df.columns[:-3]].reset_index(drop=True)\n",
    "\n",
    "    nk = 21\n",
    "    neigh = NearestNeighbors(n_neighbors=nk)\n",
    "    neigh.fit(train)\n",
    "    d = neigh.kneighbors(test)[0]\n",
    "    d = np.mean(d, axis=1)\n",
    "    mx = np.max(d)\n",
    "    d = d / mx\n",
    "    df.loc[(df['day'].isin(test_day)), 'd']=d\n",
    "    \n",
    "    test_v=original[original['day'].isin(test_day)][['original', 'label', 'day']].reset_index(drop=True)\n",
    "    test_v['d']=d[0]\n",
    "    for day in test_day:\n",
    "        tmp=test_v.loc[test_v['day']==day,  'd']\n",
    "        tmp[window-1:]=df.loc[(df['day']==day), 'd'].values\n",
    "        test_v.loc[test_v['day']==day,  'd']=tmp\n",
    "    \n",
    "    d_test=test_v['d'].values\n",
    "    print('------------異常検知モデルの性能評価（PR曲線AUC）-------------')\n",
    "    thr_bins=100\n",
    "    p_score, r_score, f_score, thresholds, thr, auc = PR_curve.fig_pr(test_v, d_test, thr_bins)\n",
    "    print('\\033[31m'+f'AUC：{auc}'+'\\033[0m')\n",
    "    print(f'理想の閾値：{thr}')\n",
    "    print(f'F値（最高）：{f_score.max()}')\n",
    "    print(f'適合率（最高）：{p_score[np.argmax(f_score)]}')\n",
    "    print(f'再現率（最高）：{r_score[np.argmax(f_score)]}')\n",
    "    auc_sum+=auc\n",
    "    print('----------------閾値の妥当性評価（F値）------------------')\n",
    " \n",
    "    #kmeans\n",
    "    n_clusters=2\n",
    "    model = KMeans(n_clusters=n_clusters)  \n",
    "    model.fit(d.reshape((-1, 1)))\n",
    "    clusters = model.predict(d.reshape((-1, 1)))  \n",
    "    result=pd.DataFrame({'d':d, 'cluster':clusters})\n",
    "    thr_list=[]\n",
    "    for j in range(n_clusters):\n",
    "        thr_list.append(result.loc[result['cluster']==j, 'd'].max())\n",
    "    thr_min=sorted(thr_list)[-2]\n",
    "    thr_max=sorted(thr_list)[-1]\n",
    "    thr_range=result.loc[(result['d']>thr_min)&(result['d']<=thr_max), ['d']]\n",
    "    Q1 = thr_range.quantile(0.25)\n",
    "    Q3 = thr_range.quantile(0.75)\n",
    "    IQR = Q3 - Q1\n",
    "    thr = min(float(Q3 + 1.5 * IQR), thr_max)\n",
    "    print(f'閾値{thr}')\n",
    "    \n",
    "    precision, recall=validate.validate(test_v, d_test, thr)\n",
    "    f_score=(2*precision*recall)/(precision+recall)\n",
    "    print('\\033[31m'+f'F値：{f_score}'+'\\033[0m')\n",
    "    print(f'適合率：{precision}')\n",
    "    print(f'再現率：{recall}')\n",
    "    f_score_sum+=f_score\n",
    "\n",
    "    z=np.where(d>=thr, 1, 0)\n",
    "    df.loc[(df['day'].isin(test_day)), 'z']=z\n",
    "    print('=====================================================================================\\n')\n",
    "auc_mean=auc_sum/len(cv_comb)\n",
    "f_mean=f_score_sum/len(cv_comb)\n",
    "print('----------------総合評価------------------')\n",
    "print('・異常検知モデルの性能')\n",
    "print(f'\\tAUC平均：{auc_mean}')\n",
    "print('・閾値の妥当性')\n",
    "print(f'\\tf値平均：{f_mean}')"
   ]
  },
  {
   "cell_type": "markdown",
   "id": "d0bdf0c2",
   "metadata": {},
   "source": [
    "## テストデータの評価"
   ]
  },
  {
   "cell_type": "code",
   "execution_count": 7,
   "id": "3dc29cc7",
   "metadata": {},
   "outputs": [
    {
     "name": "stdout",
     "output_type": "stream",
     "text": [
      "訓練データ：[0, 1, 2, 3, 4, 5, 6, 7, 8, 9]\n",
      "テストデータ：[]日目\n"
     ]
    },
    {
     "ename": "ValueError",
     "evalue": "Found array with 0 sample(s) (shape=(0, 5)) while a minimum of 1 is required.",
     "output_type": "error",
     "traceback": [
      "\u001b[1;31m---------------------------------------------------------------------------\u001b[0m",
      "\u001b[1;31mValueError\u001b[0m                                Traceback (most recent call last)",
      "\u001b[1;32m~\\AppData\\Local\\Temp/ipykernel_5400/1660651671.py\u001b[0m in \u001b[0;36m<module>\u001b[1;34m\u001b[0m\n\u001b[0;32m      7\u001b[0m \u001b[0mneigh\u001b[0m \u001b[1;33m=\u001b[0m \u001b[0mNearestNeighbors\u001b[0m\u001b[1;33m(\u001b[0m\u001b[0mn_neighbors\u001b[0m\u001b[1;33m=\u001b[0m\u001b[0mnk\u001b[0m\u001b[1;33m)\u001b[0m\u001b[1;33m\u001b[0m\u001b[1;33m\u001b[0m\u001b[0m\n\u001b[0;32m      8\u001b[0m \u001b[0mneigh\u001b[0m\u001b[1;33m.\u001b[0m\u001b[0mfit\u001b[0m\u001b[1;33m(\u001b[0m\u001b[0mtrain\u001b[0m\u001b[1;33m)\u001b[0m\u001b[1;33m\u001b[0m\u001b[1;33m\u001b[0m\u001b[0m\n\u001b[1;32m----> 9\u001b[1;33m \u001b[0md\u001b[0m \u001b[1;33m=\u001b[0m \u001b[0mneigh\u001b[0m\u001b[1;33m.\u001b[0m\u001b[0mkneighbors\u001b[0m\u001b[1;33m(\u001b[0m\u001b[0mtest\u001b[0m\u001b[1;33m)\u001b[0m\u001b[1;33m[\u001b[0m\u001b[1;36m0\u001b[0m\u001b[1;33m]\u001b[0m\u001b[1;33m\u001b[0m\u001b[1;33m\u001b[0m\u001b[0m\n\u001b[0m\u001b[0;32m     10\u001b[0m \u001b[0md\u001b[0m \u001b[1;33m=\u001b[0m \u001b[0mnp\u001b[0m\u001b[1;33m.\u001b[0m\u001b[0mmean\u001b[0m\u001b[1;33m(\u001b[0m\u001b[0md\u001b[0m\u001b[1;33m,\u001b[0m \u001b[0maxis\u001b[0m\u001b[1;33m=\u001b[0m\u001b[1;36m1\u001b[0m\u001b[1;33m)\u001b[0m\u001b[1;33m\u001b[0m\u001b[1;33m\u001b[0m\u001b[0m\n\u001b[0;32m     11\u001b[0m \u001b[0mmx\u001b[0m \u001b[1;33m=\u001b[0m \u001b[0mnp\u001b[0m\u001b[1;33m.\u001b[0m\u001b[0mmax\u001b[0m\u001b[1;33m(\u001b[0m\u001b[0md\u001b[0m\u001b[1;33m)\u001b[0m\u001b[1;33m\u001b[0m\u001b[1;33m\u001b[0m\u001b[0m\n",
      "\u001b[1;32m~\\anaconda3\\lib\\site-packages\\sklearn\\neighbors\\_base.py\u001b[0m in \u001b[0;36mkneighbors\u001b[1;34m(self, X, n_neighbors, return_distance)\u001b[0m\n\u001b[0;32m    668\u001b[0m                 \u001b[0mX\u001b[0m \u001b[1;33m=\u001b[0m \u001b[0m_check_precomputed\u001b[0m\u001b[1;33m(\u001b[0m\u001b[0mX\u001b[0m\u001b[1;33m)\u001b[0m\u001b[1;33m\u001b[0m\u001b[1;33m\u001b[0m\u001b[0m\n\u001b[0;32m    669\u001b[0m             \u001b[1;32melse\u001b[0m\u001b[1;33m:\u001b[0m\u001b[1;33m\u001b[0m\u001b[1;33m\u001b[0m\u001b[0m\n\u001b[1;32m--> 670\u001b[1;33m                 \u001b[0mX\u001b[0m \u001b[1;33m=\u001b[0m \u001b[0mcheck_array\u001b[0m\u001b[1;33m(\u001b[0m\u001b[0mX\u001b[0m\u001b[1;33m,\u001b[0m \u001b[0maccept_sparse\u001b[0m\u001b[1;33m=\u001b[0m\u001b[1;34m'csr'\u001b[0m\u001b[1;33m)\u001b[0m\u001b[1;33m\u001b[0m\u001b[1;33m\u001b[0m\u001b[0m\n\u001b[0m\u001b[0;32m    671\u001b[0m         \u001b[1;32melse\u001b[0m\u001b[1;33m:\u001b[0m\u001b[1;33m\u001b[0m\u001b[1;33m\u001b[0m\u001b[0m\n\u001b[0;32m    672\u001b[0m             \u001b[0mquery_is_train\u001b[0m \u001b[1;33m=\u001b[0m \u001b[1;32mTrue\u001b[0m\u001b[1;33m\u001b[0m\u001b[1;33m\u001b[0m\u001b[0m\n",
      "\u001b[1;32m~\\anaconda3\\lib\\site-packages\\sklearn\\utils\\validation.py\u001b[0m in \u001b[0;36minner_f\u001b[1;34m(*args, **kwargs)\u001b[0m\n\u001b[0;32m     61\u001b[0m             \u001b[0mextra_args\u001b[0m \u001b[1;33m=\u001b[0m \u001b[0mlen\u001b[0m\u001b[1;33m(\u001b[0m\u001b[0margs\u001b[0m\u001b[1;33m)\u001b[0m \u001b[1;33m-\u001b[0m \u001b[0mlen\u001b[0m\u001b[1;33m(\u001b[0m\u001b[0mall_args\u001b[0m\u001b[1;33m)\u001b[0m\u001b[1;33m\u001b[0m\u001b[1;33m\u001b[0m\u001b[0m\n\u001b[0;32m     62\u001b[0m             \u001b[1;32mif\u001b[0m \u001b[0mextra_args\u001b[0m \u001b[1;33m<=\u001b[0m \u001b[1;36m0\u001b[0m\u001b[1;33m:\u001b[0m\u001b[1;33m\u001b[0m\u001b[1;33m\u001b[0m\u001b[0m\n\u001b[1;32m---> 63\u001b[1;33m                 \u001b[1;32mreturn\u001b[0m \u001b[0mf\u001b[0m\u001b[1;33m(\u001b[0m\u001b[1;33m*\u001b[0m\u001b[0margs\u001b[0m\u001b[1;33m,\u001b[0m \u001b[1;33m**\u001b[0m\u001b[0mkwargs\u001b[0m\u001b[1;33m)\u001b[0m\u001b[1;33m\u001b[0m\u001b[1;33m\u001b[0m\u001b[0m\n\u001b[0m\u001b[0;32m     64\u001b[0m \u001b[1;33m\u001b[0m\u001b[0m\n\u001b[0;32m     65\u001b[0m             \u001b[1;31m# extra_args > 0\u001b[0m\u001b[1;33m\u001b[0m\u001b[1;33m\u001b[0m\u001b[0m\n",
      "\u001b[1;32m~\\anaconda3\\lib\\site-packages\\sklearn\\utils\\validation.py\u001b[0m in \u001b[0;36mcheck_array\u001b[1;34m(array, accept_sparse, accept_large_sparse, dtype, order, copy, force_all_finite, ensure_2d, allow_nd, ensure_min_samples, ensure_min_features, estimator)\u001b[0m\n\u001b[0;32m    724\u001b[0m         \u001b[0mn_samples\u001b[0m \u001b[1;33m=\u001b[0m \u001b[0m_num_samples\u001b[0m\u001b[1;33m(\u001b[0m\u001b[0marray\u001b[0m\u001b[1;33m)\u001b[0m\u001b[1;33m\u001b[0m\u001b[1;33m\u001b[0m\u001b[0m\n\u001b[0;32m    725\u001b[0m         \u001b[1;32mif\u001b[0m \u001b[0mn_samples\u001b[0m \u001b[1;33m<\u001b[0m \u001b[0mensure_min_samples\u001b[0m\u001b[1;33m:\u001b[0m\u001b[1;33m\u001b[0m\u001b[1;33m\u001b[0m\u001b[0m\n\u001b[1;32m--> 726\u001b[1;33m             raise ValueError(\"Found array with %d sample(s) (shape=%s) while a\"\n\u001b[0m\u001b[0;32m    727\u001b[0m                              \u001b[1;34m\" minimum of %d is required%s.\"\u001b[0m\u001b[1;33m\u001b[0m\u001b[1;33m\u001b[0m\u001b[0m\n\u001b[0;32m    728\u001b[0m                              % (n_samples, array.shape, ensure_min_samples,\n",
      "\u001b[1;31mValueError\u001b[0m: Found array with 0 sample(s) (shape=(0, 5)) while a minimum of 1 is required."
     ]
    }
   ],
   "source": [
    "print(f'訓練データ：{cv_data_list}')\n",
    "print(f'テストデータ：{test_notvalid}日目')\n",
    "\n",
    "train=df[(df['day'].isin(cv_data_list))][df.columns[:-3]].reset_index(drop=True)\n",
    "test=df[(df['day'].isin(test_notvalid))][df.columns[:-3]].reset_index(drop=True)\n",
    "\n",
    "neigh = NearestNeighbors(n_neighbors=nk)\n",
    "neigh.fit(train)\n",
    "d = neigh.kneighbors(test)[0]\n",
    "d = np.mean(d, axis=1)\n",
    "mx = np.max(d)\n",
    "d = d / mx\n",
    "\n",
    "test_v=original[original['day'].isin(test_notvalid)][['original', 'label']].reset_index(drop=True)\n",
    "test_v['d']=d[0]\n",
    "test_v.loc[window-1:, 'd']=d\n",
    "\n",
    "#kmeans\n",
    "n_clusters=2\n",
    "model = KMeans(n_clusters=n_clusters)  \n",
    "model.fit(d.reshape((-1, 1)))\n",
    "clusters = model.predict(d.reshape((-1, 1)))  \n",
    "result=pd.DataFrame({'d':d, 'cluster':clusters})\n",
    "thr_list=[]\n",
    "for j in range(n_clusters):\n",
    "    thr_list.append(result.loc[result['cluster']==j, 'd'].max())\n",
    "thr_min=sorted(thr_list)[-2]\n",
    "thr_max=sorted(thr_list)[-1]\n",
    "thr_range=result.loc[(result['d']>thr_min)&(result['d']<=thr_max), ['d']]\n",
    "Q1 = thr_range.quantile(0.25)\n",
    "Q3 = thr_range.quantile(0.75)\n",
    "IQR = Q3 - Q1\n",
    "thr = min(float(Q3 + 1.5 * IQR), thr_max)\n",
    "print(f'閾値{thr}')\n",
    "\n",
    "d_test=test_v['d'].values\n",
    "precision, recall=validate.validate(test_v, d_test, thr)\n",
    "f_score=(2*precision*recall)/(precision+recall)\n",
    "print(f'適合率：{precision}')\n",
    "print(f'再現率：{recall}')\n",
    "print(f'f値：{f_score}')"
   ]
  },
  {
   "cell_type": "code",
   "execution_count": null,
   "id": "de0a522c",
   "metadata": {},
   "outputs": [],
   "source": []
  }
 ],
 "metadata": {
  "kernelspec": {
   "display_name": "Python 3 (ipykernel)",
   "language": "python",
   "name": "python3"
  },
  "language_info": {
   "codemirror_mode": {
    "name": "ipython",
    "version": 3
   },
   "file_extension": ".py",
   "mimetype": "text/x-python",
   "name": "python",
   "nbconvert_exporter": "python",
   "pygments_lexer": "ipython3",
   "version": "3.9.7"
  }
 },
 "nbformat": 4,
 "nbformat_minor": 5
}
