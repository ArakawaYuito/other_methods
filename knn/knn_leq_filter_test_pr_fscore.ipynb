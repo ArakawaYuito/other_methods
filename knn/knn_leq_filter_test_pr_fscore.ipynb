{
 "cells": [
  {
   "cell_type": "code",
   "execution_count": 13,
   "id": "cdc48f36",
   "metadata": {},
   "outputs": [],
   "source": [
    "import numpy as np\n",
    "import matplotlib.pyplot as plt\n",
    "from sklearn.neighbors import NearestNeighbors\n",
    "from sklearn.metrics import precision_score\n",
    "import pandas as pd\n",
    "import seaborn as sns\n",
    "from statsmodels import api as sm\n",
    "from matplotlib import pyplot as plt\n",
    "from pandas.plotting import register_matplotlib_converters\n",
    "import os\n",
    "import numpy as np\n",
    "import math\n",
    "from sklearn.preprocessing import StandardScaler\n",
    "from sklearn.decomposition import PCA\n",
    "from sklearn.cluster import KMeans\n",
    "from sklearn.metrics import precision_score\n",
    "from pandas.plotting import register_matplotlib_converters\n",
    "import seaborn as sns\n",
    "from statsmodels import api as sm\n",
    "from sklearn import metrics"
   ]
  },
  {
   "cell_type": "code",
   "execution_count": 2,
   "id": "16d92fbe",
   "metadata": {
    "scrolled": true
   },
   "outputs": [
    {
     "data": {
      "text/html": [
       "<div>\n",
       "<style scoped>\n",
       "    .dataframe tbody tr th:only-of-type {\n",
       "        vertical-align: middle;\n",
       "    }\n",
       "\n",
       "    .dataframe tbody tr th {\n",
       "        vertical-align: top;\n",
       "    }\n",
       "\n",
       "    .dataframe thead th {\n",
       "        text-align: right;\n",
       "    }\n",
       "</style>\n",
       "<table border=\"1\" class=\"dataframe\">\n",
       "  <thead>\n",
       "    <tr style=\"text-align: right;\">\n",
       "      <th></th>\n",
       "      <th>original</th>\n",
       "      <th>label</th>\n",
       "      <th>time</th>\n",
       "      <th>day</th>\n",
       "    </tr>\n",
       "  </thead>\n",
       "  <tbody>\n",
       "    <tr>\n",
       "      <th>0</th>\n",
       "      <td>53.4</td>\n",
       "      <td>0</td>\n",
       "      <td>15</td>\n",
       "      <td>0</td>\n",
       "    </tr>\n",
       "    <tr>\n",
       "      <th>1</th>\n",
       "      <td>52.8</td>\n",
       "      <td>0</td>\n",
       "      <td>15</td>\n",
       "      <td>0</td>\n",
       "    </tr>\n",
       "    <tr>\n",
       "      <th>2</th>\n",
       "      <td>52.8</td>\n",
       "      <td>0</td>\n",
       "      <td>15</td>\n",
       "      <td>0</td>\n",
       "    </tr>\n",
       "    <tr>\n",
       "      <th>3</th>\n",
       "      <td>53.2</td>\n",
       "      <td>0</td>\n",
       "      <td>15</td>\n",
       "      <td>0</td>\n",
       "    </tr>\n",
       "    <tr>\n",
       "      <th>4</th>\n",
       "      <td>53.6</td>\n",
       "      <td>0</td>\n",
       "      <td>15</td>\n",
       "      <td>0</td>\n",
       "    </tr>\n",
       "    <tr>\n",
       "      <th>...</th>\n",
       "      <td>...</td>\n",
       "      <td>...</td>\n",
       "      <td>...</td>\n",
       "      <td>...</td>\n",
       "    </tr>\n",
       "    <tr>\n",
       "      <th>3995345</th>\n",
       "      <td>45.9</td>\n",
       "      <td>0</td>\n",
       "      <td>5</td>\n",
       "      <td>9</td>\n",
       "    </tr>\n",
       "    <tr>\n",
       "      <th>3995346</th>\n",
       "      <td>45.6</td>\n",
       "      <td>0</td>\n",
       "      <td>5</td>\n",
       "      <td>9</td>\n",
       "    </tr>\n",
       "    <tr>\n",
       "      <th>3995347</th>\n",
       "      <td>45.8</td>\n",
       "      <td>0</td>\n",
       "      <td>5</td>\n",
       "      <td>9</td>\n",
       "    </tr>\n",
       "    <tr>\n",
       "      <th>3995348</th>\n",
       "      <td>45.7</td>\n",
       "      <td>0</td>\n",
       "      <td>5</td>\n",
       "      <td>9</td>\n",
       "    </tr>\n",
       "    <tr>\n",
       "      <th>3995349</th>\n",
       "      <td>45.9</td>\n",
       "      <td>0</td>\n",
       "      <td>5</td>\n",
       "      <td>9</td>\n",
       "    </tr>\n",
       "  </tbody>\n",
       "</table>\n",
       "<p>3995350 rows × 4 columns</p>\n",
       "</div>"
      ],
      "text/plain": [
       "         original  label  time  day\n",
       "0            53.4      0    15    0\n",
       "1            52.8      0    15    0\n",
       "2            52.8      0    15    0\n",
       "3            53.2      0    15    0\n",
       "4            53.6      0    15    0\n",
       "...           ...    ...   ...  ...\n",
       "3995345      45.9      0     5    9\n",
       "3995346      45.6      0     5    9\n",
       "3995347      45.8      0     5    9\n",
       "3995348      45.7      0     5    9\n",
       "3995349      45.9      0     5    9\n",
       "\n",
       "[3995350 rows x 4 columns]"
      ]
     },
     "execution_count": 2,
     "metadata": {},
     "output_type": "execute_result"
    }
   ],
   "source": [
    "data_dir='filtered_csv_label'\n",
    "original = pd.read_csv( os.path.join(data_dir, 'learning_data_10.csv') )\n",
    "df = pd.read_csv( os.path.join(data_dir, 'learning_data_10.csv') )\n",
    "df=df[df['day']<=9]\n",
    "df"
   ]
  },
  {
   "cell_type": "code",
   "execution_count": 11,
   "id": "48e1102f",
   "metadata": {},
   "outputs": [],
   "source": [
    "def make_data(x, str,w):\n",
    "    x=pd.DataFrame(x)\n",
    "    window=w\n",
    "    for i in range(1, window):\n",
    "        column=f'{str}_lag{i}'\n",
    "        x[column]=x[str].shift(i)\n",
    "    return x\n",
    "\n",
    "def make_label(x, w):\n",
    "    window=w\n",
    "    x['label_all']=x['label']\n",
    "    for i in range(1, window):\n",
    "        x.loc[(x['label_all']==1)|(x['label'].shift(i)==1), 'label_all']=1\n",
    "        x.loc[(x['label_all']==0)&(x['label'].shift(i)==0), 'label_all']=0\n",
    "    \n",
    "    x['label']=x['label_all']\n",
    "    return x[['label']]\n",
    "\n",
    "def calc_leq(df, unit):\n",
    "    df.reset_index(inplace=True, drop=True)\n",
    "    for i in range(int(len(df)/unit)+1):\n",
    "        hour_df=df.loc[i*unit:(i+1)*unit, 'original'].copy()\n",
    "        N=len(hour_df)\n",
    "        Leq=10*np.log10(np.sum(np.power(10, hour_df/10)))-10*np.log10(N)\n",
    "        df.loc[i*unit:(i+1)*unit, 'leq']=Leq\n",
    "    return df\n",
    "\n",
    "def leq_filter(df):\n",
    "    df=calc_leq(df, 18000)\n",
    "    df.loc[(df['z']==1)&(df['original']<df['leq']), 'z']=0\n",
    "    return df\n",
    "\n",
    "def validate(test_v, anorm, thr):\n",
    "    test_v['z']=np.where(anorm>=thr, 1, 0)\n",
    "    test_v.reset_index(inplace=True, drop=True)\n",
    "    \n",
    "    #道路交通騒音に埋もれている異常音は正常とする\n",
    "    test_v=leq_filter(test_v)\n",
    "    \n",
    "    #     適合率\n",
    "    tp=test_v[(test_v['label']==1)&(test_v['z']==1)]\n",
    "    z_p=test_v[test_v['z']==1]\n",
    "    pre_score=len(tp)/len(z_p)\n",
    "\n",
    "    #     再現率\n",
    "    df_anorm=[]\n",
    "    search= 1 if test_v.loc[0, 'label']==0 else 0\n",
    "    for num in range(len(test_v)):\n",
    "        if search==1 and test_v.loc[num, 'label']==search:\n",
    "            start=num\n",
    "            search=0\n",
    "        elif search==0 and test_v.loc[num, 'label']==search:\n",
    "            stop=num-1\n",
    "            anorm_range=test_v.loc[start:stop].copy()\n",
    "            df_anorm.append(anorm_range)\n",
    "            search=1\n",
    "            \n",
    "    count=[]\n",
    "    for i in range(len(df_anorm)):\n",
    "        if len(df_anorm[i].loc[df_anorm[i]['z']==1])>=1:\n",
    "               count.append(i)    \n",
    "\n",
    "    re_score=len(count)/len(df_anorm)\n",
    "\n",
    "    return pre_score, re_score\n",
    "\n",
    "def figure(df_test, anorm, d, thr):\n",
    "    df_test['z']=np.where(d>=thr, 1, 0)\n",
    "    \n",
    "    #道路交通騒音に埋もれている異常音は正常とする\n",
    "    df_test=leq_filter(df_test)\n",
    "    \n",
    "    z=df_test['z'].values*100\n",
    "    test_plot=df_test['original'].values\n",
    "    num_ax=math.ceil(len(test_plot)/17999)\n",
    "    label=df_test['label'].values*100\n",
    "    label_index=range(len(label))\n",
    "    time_unit=60\n",
    "    time=[t*0.2/60 for t in range(len(anorm))]\n",
    "    plt.rcParams[\"font.size\"] = 30\n",
    "\n",
    "    fig, ax=plt.subplots(num_ax, 1, figsize=(35, 15*num_ax))\n",
    "    for i in range(num_ax):\n",
    "        ax[i].plot(time, anorm, '-r',linewidth = 1 )\n",
    "        ax[i].plot(time, test_plot, '-k',linewidth = 2)\n",
    "        ax[i].fill_between(time, label, facecolor='lime' )\n",
    "        ax[i].fill_between(time, z, facecolor='coral' )\n",
    "        ax[i].set_ylim(0, 90)\n",
    "        ax[i].set_xlim(i*time_unit, time_unit*(i+1))\n",
    "        ax[i].set_xticks(np.arange(60*i, 60*(i+1)))\n",
    "        ax[i].xaxis.set_tick_params(rotation=70)\n",
    "    plt.show()\n",
    "\n",
    "def fig_pr(test_v, d, bins):\n",
    "    thr_1=np.linspace(d.min(), 0.25, bins-5)\n",
    "    thr_2=np.linspace(0.26, d.max(), 5)\n",
    "    thresholds=np.concatenate([thr_1, thr_2])\n",
    "    precision=np.array([])\n",
    "    recall=np.array([])\n",
    "    for i in thresholds:\n",
    "        p, r=validate(test_v, d, i)\n",
    "        precision=np.append(precision, p)\n",
    "        recall=np.append(recall, r)\n",
    "\n",
    "    auc = metrics.auc(recall, precision)\n",
    "    f_score=(2*precision*recall)/(precision+recall)\n",
    "    thr=thresholds[np.argmax(f_score)]\n",
    "\n",
    "    plt.rcParams[\"font.size\"] = 10\n",
    "    plt.plot(recall, precision, marker='o', markevery=[np.argmax(f_score)], label='PR curve (AUC = %.2f)'%auc)\n",
    "    plt.legend()\n",
    "    plt.title('PR curve')\n",
    "    plt.xlabel('Recall')\n",
    "    plt.ylabel('Precision')\n",
    "    plt.grid(True)\n",
    "    plt.show()\n",
    "\n",
    "    return precision, recall, f_score, thresholds, thr, auc\n",
    "\n",
    "def fig_th_f(thresholds, f_score):\n",
    "    plt.plot(thresholds, f_score, marker=\"o\", markevery=[np.argmax(f_score)])\n",
    "    plt.xlabel('thresholds')\n",
    "    plt.ylabel('f_score')\n",
    "    plt.grid(True)\n",
    "    plt.show()\n",
    "    \n",
    "    return thresholds[np.argmax(f_score)], f_score.max()"
   ]
  },
  {
   "cell_type": "code",
   "execution_count": 4,
   "id": "cf857e04",
   "metadata": {
    "scrolled": true
   },
   "outputs": [
    {
     "data": {
      "text/html": [
       "<div>\n",
       "<style scoped>\n",
       "    .dataframe tbody tr th:only-of-type {\n",
       "        vertical-align: middle;\n",
       "    }\n",
       "\n",
       "    .dataframe tbody tr th {\n",
       "        vertical-align: top;\n",
       "    }\n",
       "\n",
       "    .dataframe thead th {\n",
       "        text-align: right;\n",
       "    }\n",
       "</style>\n",
       "<table border=\"1\" class=\"dataframe\">\n",
       "  <thead>\n",
       "    <tr style=\"text-align: right;\">\n",
       "      <th></th>\n",
       "      <th>original</th>\n",
       "      <th>original_lag1</th>\n",
       "      <th>original_lag2</th>\n",
       "      <th>original_lag3</th>\n",
       "      <th>original_lag4</th>\n",
       "      <th>day</th>\n",
       "      <th>d</th>\n",
       "      <th>z</th>\n",
       "    </tr>\n",
       "  </thead>\n",
       "  <tbody>\n",
       "    <tr>\n",
       "      <th>0</th>\n",
       "      <td>53.6</td>\n",
       "      <td>53.2</td>\n",
       "      <td>52.8</td>\n",
       "      <td>52.8</td>\n",
       "      <td>53.4</td>\n",
       "      <td>0</td>\n",
       "      <td>0</td>\n",
       "      <td>0</td>\n",
       "    </tr>\n",
       "    <tr>\n",
       "      <th>1</th>\n",
       "      <td>54.0</td>\n",
       "      <td>53.6</td>\n",
       "      <td>53.2</td>\n",
       "      <td>52.8</td>\n",
       "      <td>52.8</td>\n",
       "      <td>0</td>\n",
       "      <td>0</td>\n",
       "      <td>0</td>\n",
       "    </tr>\n",
       "    <tr>\n",
       "      <th>2</th>\n",
       "      <td>54.7</td>\n",
       "      <td>54.0</td>\n",
       "      <td>53.6</td>\n",
       "      <td>53.2</td>\n",
       "      <td>52.8</td>\n",
       "      <td>0</td>\n",
       "      <td>0</td>\n",
       "      <td>0</td>\n",
       "    </tr>\n",
       "    <tr>\n",
       "      <th>3</th>\n",
       "      <td>55.7</td>\n",
       "      <td>54.7</td>\n",
       "      <td>54.0</td>\n",
       "      <td>53.6</td>\n",
       "      <td>53.2</td>\n",
       "      <td>0</td>\n",
       "      <td>0</td>\n",
       "      <td>0</td>\n",
       "    </tr>\n",
       "    <tr>\n",
       "      <th>4</th>\n",
       "      <td>55.5</td>\n",
       "      <td>55.7</td>\n",
       "      <td>54.7</td>\n",
       "      <td>54.0</td>\n",
       "      <td>53.6</td>\n",
       "      <td>0</td>\n",
       "      <td>0</td>\n",
       "      <td>0</td>\n",
       "    </tr>\n",
       "    <tr>\n",
       "      <th>...</th>\n",
       "      <td>...</td>\n",
       "      <td>...</td>\n",
       "      <td>...</td>\n",
       "      <td>...</td>\n",
       "      <td>...</td>\n",
       "      <td>...</td>\n",
       "      <td>...</td>\n",
       "      <td>...</td>\n",
       "    </tr>\n",
       "    <tr>\n",
       "      <th>3995305</th>\n",
       "      <td>45.9</td>\n",
       "      <td>45.6</td>\n",
       "      <td>45.4</td>\n",
       "      <td>45.9</td>\n",
       "      <td>46.0</td>\n",
       "      <td>9</td>\n",
       "      <td>0</td>\n",
       "      <td>0</td>\n",
       "    </tr>\n",
       "    <tr>\n",
       "      <th>3995306</th>\n",
       "      <td>45.6</td>\n",
       "      <td>45.9</td>\n",
       "      <td>45.6</td>\n",
       "      <td>45.4</td>\n",
       "      <td>45.9</td>\n",
       "      <td>9</td>\n",
       "      <td>0</td>\n",
       "      <td>0</td>\n",
       "    </tr>\n",
       "    <tr>\n",
       "      <th>3995307</th>\n",
       "      <td>45.8</td>\n",
       "      <td>45.6</td>\n",
       "      <td>45.9</td>\n",
       "      <td>45.6</td>\n",
       "      <td>45.4</td>\n",
       "      <td>9</td>\n",
       "      <td>0</td>\n",
       "      <td>0</td>\n",
       "    </tr>\n",
       "    <tr>\n",
       "      <th>3995308</th>\n",
       "      <td>45.7</td>\n",
       "      <td>45.8</td>\n",
       "      <td>45.6</td>\n",
       "      <td>45.9</td>\n",
       "      <td>45.6</td>\n",
       "      <td>9</td>\n",
       "      <td>0</td>\n",
       "      <td>0</td>\n",
       "    </tr>\n",
       "    <tr>\n",
       "      <th>3995309</th>\n",
       "      <td>45.9</td>\n",
       "      <td>45.7</td>\n",
       "      <td>45.8</td>\n",
       "      <td>45.6</td>\n",
       "      <td>45.9</td>\n",
       "      <td>9</td>\n",
       "      <td>0</td>\n",
       "      <td>0</td>\n",
       "    </tr>\n",
       "  </tbody>\n",
       "</table>\n",
       "<p>3995310 rows × 8 columns</p>\n",
       "</div>"
      ],
      "text/plain": [
       "         original  original_lag1  original_lag2  original_lag3  original_lag4  \\\n",
       "0            53.6           53.2           52.8           52.8           53.4   \n",
       "1            54.0           53.6           53.2           52.8           52.8   \n",
       "2            54.7           54.0           53.6           53.2           52.8   \n",
       "3            55.7           54.7           54.0           53.6           53.2   \n",
       "4            55.5           55.7           54.7           54.0           53.6   \n",
       "...           ...            ...            ...            ...            ...   \n",
       "3995305      45.9           45.6           45.4           45.9           46.0   \n",
       "3995306      45.6           45.9           45.6           45.4           45.9   \n",
       "3995307      45.8           45.6           45.9           45.6           45.4   \n",
       "3995308      45.7           45.8           45.6           45.9           45.6   \n",
       "3995309      45.9           45.7           45.8           45.6           45.9   \n",
       "\n",
       "         day  d  z  \n",
       "0          0  0  0  \n",
       "1          0  0  0  \n",
       "2          0  0  0  \n",
       "3          0  0  0  \n",
       "4          0  0  0  \n",
       "...      ... .. ..  \n",
       "3995305    9  0  0  \n",
       "3995306    9  0  0  \n",
       "3995307    9  0  0  \n",
       "3995308    9  0  0  \n",
       "3995309    9  0  0  \n",
       "\n",
       "[3995310 rows x 8 columns]"
      ]
     },
     "execution_count": 4,
     "metadata": {},
     "output_type": "execute_result"
    }
   ],
   "source": [
    "df_list=[]\n",
    "for i in set(df['day']):\n",
    "    lag=[] \n",
    "    window=5\n",
    "    lag.append(make_data(df.loc[df['day']==i, ['original']], 'original', window))\n",
    "    lag.append(df.loc[df['day']==i, ['day']])\n",
    "    df_add_lag=pd.concat(lag, axis=1)\n",
    "    df_list.append(df_add_lag)\n",
    "df=pd.concat(df_list)\n",
    "df=df.dropna().reset_index(drop=True)\n",
    "df['d']=0\n",
    "df['z']=0\n",
    "df"
   ]
  },
  {
   "cell_type": "markdown",
   "id": "7f45b0ab",
   "metadata": {},
   "source": [
    "## クロスバリデーション（パラメータチューニング）"
   ]
  },
  {
   "cell_type": "code",
   "execution_count": 5,
   "id": "f39b69ee",
   "metadata": {},
   "outputs": [],
   "source": [
    "cv_data_list=df['day'].unique().tolist()\n",
    "#テストデータ\n",
    "test_notvalid=[]"
   ]
  },
  {
   "cell_type": "code",
   "execution_count": 6,
   "id": "5bc91f5a",
   "metadata": {},
   "outputs": [
    {
     "data": {
      "text/plain": [
       "[0, 1, 2, 3, 4, 5, 6, 7, 8, 9]"
      ]
     },
     "execution_count": 6,
     "metadata": {},
     "output_type": "execute_result"
    }
   ],
   "source": [
    "for i in range(len(test_notvalid)):\n",
    "    #検証データ＋訓練データ\n",
    "    cv_data_list.remove(test_notvalid[i])\n",
    "cv_data_list"
   ]
  },
  {
   "cell_type": "code",
   "execution_count": 14,
   "id": "d158aa15",
   "metadata": {
    "scrolled": false
   },
   "outputs": [
    {
     "name": "stdout",
     "output_type": "stream",
     "text": [
      "訓練データ：[1, 2, 3, 4, 5, 6, 7, 8, 9]\n",
      "検証データ：[0]日目\n",
      "------------異常検知モデルの性能評価（PR曲線AUC）-------------\n"
     ]
    },
    {
     "data": {
      "image/png": "[encoded data removed]",
      "text/plain": [
       "<Figure size 432x288 with 1 Axes>"
      ]
     },
     "metadata": {
      "needs_background": "light"
     },
     "output_type": "display_data"
    },
    {
     "name": "stdout",
     "output_type": "stream",
     "text": [
      "\u001b[31mAUC：0.8431126074534344\u001b[0m\n",
      "理想の閾値：0.17857142857142855\n",
      "F値（最高）：0.8167148885559736\n",
      "適合率（最高）：0.8544423440453687\n",
      "再現率（最高）：0.7821782178217822\n",
      "----------------閾値の妥当性評価（F値）------------------\n",
      "閾値0.1839909061264806\n",
      "\u001b[31mF値：0.8088625935764309\u001b[0m\n",
      "適合率：0.8613861386138614\n",
      "再現率：0.7623762376237624\n",
      "=====================================================================================\n",
      "\n",
      "訓練データ：[0, 2, 3, 4, 5, 6, 7, 8, 9]\n",
      "検証データ：[1]日目\n",
      "------------異常検知モデルの性能評価（PR曲線AUC）-------------\n"
     ]
    },
    {
     "data": {
      "image/png": "[encoded data removed]",
      "text/plain": [
       "<Figure size 432x288 with 1 Axes>"
      ]
     },
     "metadata": {
      "needs_background": "light"
     },
     "output_type": "display_data"
    },
    {
     "name": "stdout",
     "output_type": "stream",
     "text": [
      "\u001b[31mAUC：0.9607947644178938\u001b[0m\n",
      "理想の閾値：0.21428571428571427\n",
      "F値（最高）：0.9315382740476292\n",
      "適合率（最高）：0.9502164502164502\n",
      "再現率（最高）：0.9135802469135802\n",
      "----------------閾値の妥当性評価（F値）------------------\n",
      "閾値0.2759354048671766\n",
      "\u001b[31mF値：0.8420142714283293\u001b[0m\n",
      "適合率：0.9976303317535545\n",
      "再現率：0.7283950617283951\n",
      "=====================================================================================\n",
      "\n",
      "訓練データ：[0, 1, 3, 4, 5, 6, 7, 8, 9]\n",
      "検証データ：[2]日目\n",
      "------------異常検知モデルの性能評価（PR曲線AUC）-------------\n"
     ]
    },
    {
     "data": {
      "image/png": "[encoded data removed]",
      "text/plain": [
       "<Figure size 432x288 with 1 Axes>"
      ]
     },
     "metadata": {
      "needs_background": "light"
     },
     "output_type": "display_data"
    },
    {
     "name": "stdout",
     "output_type": "stream",
     "text": [
      "\u001b[31mAUC：0.8668636257424561\u001b[0m\n",
      "理想の閾値：0.10714285714285714\n",
      "F値（最高）：0.8350725030491937\n",
      "適合率（最高）：0.8297872340425532\n",
      "再現率（最高）：0.8404255319148937\n",
      "----------------閾値の妥当性評価（F値）------------------\n",
      "閾値0.10425170742364852\n",
      "\u001b[31mF値：0.8328422706737378\u001b[0m\n",
      "適合率：0.8153846153846154\n",
      "再現率：0.851063829787234\n",
      "=====================================================================================\n",
      "\n",
      "訓練データ：[0, 1, 2, 4, 5, 6, 7, 8, 9]\n",
      "検証データ：[3]日目\n",
      "------------異常検知モデルの性能評価（PR曲線AUC）-------------\n"
     ]
    },
    {
     "data": {
      "image/png": "[encoded data removed]",
      "text/plain": [
       "<Figure size 432x288 with 1 Axes>"
      ]
     },
     "metadata": {
      "needs_background": "light"
     },
     "output_type": "display_data"
    },
    {
     "name": "stdout",
     "output_type": "stream",
     "text": [
      "\u001b[31mAUC：0.8537250894054879\u001b[0m\n",
      "理想の閾値：0.26\n",
      "F値（最高）：0.8460642369778666\n",
      "適合率（最高）：0.8051948051948052\n",
      "再現率（最高）：0.8913043478260869\n",
      "----------------閾値の妥当性評価（F値）------------------\n",
      "閾値0.3685601917390289\n",
      "\u001b[31mF値：0.7122047244094489\u001b[0m\n",
      "適合率：0.9054054054054054\n",
      "再現率：0.5869565217391305\n",
      "=====================================================================================\n",
      "\n",
      "訓練データ：[0, 1, 2, 3, 5, 6, 7, 8, 9]\n",
      "検証データ：[4]日目\n",
      "------------異常検知モデルの性能評価（PR曲線AUC）-------------\n"
     ]
    },
    {
     "data": {
      "image/png": "[encoded data removed]",
      "text/plain": [
       "<Figure size 432x288 with 1 Axes>"
      ]
     },
     "metadata": {
      "needs_background": "light"
     },
     "output_type": "display_data"
    },
    {
     "name": "stdout",
     "output_type": "stream",
     "text": [
      "\u001b[31mAUC：0.958406966542892\u001b[0m\n",
      "理想の閾値：0.125\n",
      "F値（最高）：0.9104043343032006\n",
      "適合率（最高）：0.9587912087912088\n",
      "再現率（最高）：0.8666666666666667\n",
      "----------------閾値の妥当性評価（F値）------------------\n",
      "閾値0.12929899729782374\n",
      "\u001b[31mF値：0.9025579053373615\u001b[0m\n",
      "適合率：0.962043795620438\n",
      "再現率：0.85\n",
      "=====================================================================================\n",
      "\n",
      "訓練データ：[0, 1, 2, 3, 4, 6, 7, 8, 9]\n",
      "検証データ：[5]日目\n",
      "------------異常検知モデルの性能評価（PR曲線AUC）-------------\n"
     ]
    },
    {
     "data": {
      "image/png": "[encoded data removed]",
      "text/plain": [
       "<Figure size 432x288 with 1 Axes>"
      ]
     },
     "metadata": {
      "needs_background": "light"
     },
     "output_type": "display_data"
    },
    {
     "name": "stdout",
     "output_type": "stream",
     "text": [
      "\u001b[31mAUC：0.9480516200433748\u001b[0m\n",
      "理想の閾値：0.17857142857142855\n",
      "F値（最高）：0.914964234620887\n",
      "適合率（最高）：0.8943894389438944\n",
      "再現率（最高）：0.9365079365079365\n",
      "----------------閾値の妥当性評価（F値）------------------\n",
      "閾値0.24128530398474357\n",
      "\u001b[31mF値：0.8990817113349067\u001b[0m\n",
      "適合率：0.9654255319148937\n",
      "再現率：0.8412698412698413\n",
      "=====================================================================================\n",
      "\n",
      "訓練データ：[0, 1, 2, 3, 4, 5, 7, 8, 9]\n",
      "検証データ：[6]日目\n",
      "------------異常検知モデルの性能評価（PR曲線AUC）-------------\n"
     ]
    },
    {
     "data": {
      "image/png": "[encoded data removed]",
      "text/plain": [
       "<Figure size 432x288 with 1 Axes>"
      ]
     },
     "metadata": {
      "needs_background": "light"
     },
     "output_type": "display_data"
    },
    {
     "name": "stdout",
     "output_type": "stream",
     "text": [
      "\u001b[31mAUC：0.871534944110044\u001b[0m\n",
      "理想の閾値：0.19642857142857142\n",
      "F値（最高）：0.8565907522429261\n",
      "適合率（最高）：0.9145299145299145\n",
      "再現率（最高）：0.8055555555555556\n",
      "----------------閾値の妥当性評価（F値）------------------\n",
      "閾値0.17972859388772028\n",
      "\u001b[31mF値：0.8354492187500001\u001b[0m\n",
      "適合率：0.8676470588235294\n",
      "再現率：0.8055555555555556\n",
      "=====================================================================================\n",
      "\n",
      "訓練データ：[0, 1, 2, 3, 4, 5, 6, 8, 9]\n",
      "検証データ：[7]日目\n",
      "------------異常検知モデルの性能評価（PR曲線AUC）-------------\n"
     ]
    },
    {
     "data": {
      "image/png": "[encoded data removed]",
      "text/plain": [
       "<Figure size 432x288 with 1 Axes>"
      ]
     },
     "metadata": {
      "needs_background": "light"
     },
     "output_type": "display_data"
    },
    {
     "name": "stdout",
     "output_type": "stream",
     "text": [
      "\u001b[31mAUC：0.9417800489139769\u001b[0m\n",
      "理想の閾値：0.08928571428571427\n",
      "F値（最高）：0.9263759828448892\n",
      "適合率（最高）：0.9803328290468987\n",
      "再現率（最高）：0.8780487804878049\n",
      "----------------閾値の妥当性評価（F値）------------------\n",
      "閾値0.11876338667126322\n",
      "\u001b[31mF値：0.7924184387795535\u001b[0m\n",
      "適合率：0.9946284691136974\n",
      "再現率：0.6585365853658537\n",
      "=====================================================================================\n",
      "\n",
      "訓練データ：[0, 1, 2, 3, 4, 5, 6, 7, 9]\n",
      "検証データ：[8]日目\n",
      "------------異常検知モデルの性能評価（PR曲線AUC）-------------\n"
     ]
    },
    {
     "data": {
      "image/png": "[encoded data removed]",
      "text/plain": [
       "<Figure size 432x288 with 1 Axes>"
      ]
     },
     "metadata": {
      "needs_background": "light"
     },
     "output_type": "display_data"
    },
    {
     "name": "stdout",
     "output_type": "stream",
     "text": [
      "\u001b[31mAUC：0.9385983381965832\u001b[0m\n",
      "理想の閾値：0.125\n",
      "F値（最高）：0.9340077146719699\n",
      "適合率（最高）：0.9292881032011466\n",
      "再現率（最高）：0.9387755102040817\n",
      "----------------閾値の妥当性評価（F値）------------------\n",
      "閾値0.18694970654333234\n",
      "\u001b[31mF値：0.8197484862598976\u001b[0m\n",
      "適合率：0.9617486338797814\n",
      "再現率：0.7142857142857143\n",
      "=====================================================================================\n",
      "\n",
      "訓練データ：[0, 1, 2, 3, 4, 5, 6, 7, 8]\n",
      "検証データ：[9]日目\n",
      "------------異常検知モデルの性能評価（PR曲線AUC）-------------\n"
     ]
    },
    {
     "data": {
      "image/png": "[encoded data removed]",
      "text/plain": [
       "<Figure size 432x288 with 1 Axes>"
      ]
     },
     "metadata": {
      "needs_background": "light"
     },
     "output_type": "display_data"
    },
    {
     "name": "stdout",
     "output_type": "stream",
     "text": [
      "\u001b[31mAUC：0.9174979751928116\u001b[0m\n",
      "理想の閾値：0.1607142857142857\n",
      "F値（最高）：0.8805870580386924\n",
      "適合率（最高）：0.9375\n",
      "再現率（最高）：0.8301886792452831\n",
      "----------------閾値の妥当性評価（F値）------------------\n",
      "閾値0.18907520240738682\n",
      "\u001b[31mF値：0.8576787865989244\u001b[0m\n",
      "適合率：0.9622857142857143\n",
      "再現率：0.7735849056603774\n",
      "=====================================================================================\n",
      "\n",
      "----------------総合評価------------------\n",
      "・異常検知モデルの性能\n",
      "\tAUC平均：0.9100365980018953\n",
      "・閾値の妥当性\n",
      "\tf値平均：0.8302858407148591\n"
     ]
    }
   ],
   "source": [
    "auc_sum=0\n",
    "f_score_sum=0\n",
    "#検証データを何日にするか\n",
    "valid_daynum=1\n",
    "cv_comb=np.array(cv_data_list).reshape((-1, valid_daynum)).tolist()\n",
    "for i in cv_comb:\n",
    "    print(f'訓練データ：{[k for k in cv_data_list if k not in i]}')\n",
    "    print(f'検証データ：{i}日目')\n",
    "\n",
    "    test_day=i\n",
    "    train=df[(~df['day'].isin(test_day))][df.columns[:-3]].reset_index(drop=True)\n",
    "    test=df[(df['day'].isin(test_day))][df.columns[:-3]].reset_index(drop=True)\n",
    "\n",
    "    nk = 21\n",
    "    neigh = NearestNeighbors(n_neighbors=nk)\n",
    "    neigh.fit(train)\n",
    "    d = neigh.kneighbors(test)[0]\n",
    "    d = np.mean(d, axis=1)\n",
    "    mx = np.max(d)\n",
    "    d = d / mx\n",
    "    df.loc[(df['day'].isin(test_day)), 'd']=d\n",
    "    \n",
    "    test_v=original[original['day'].isin(test_day)][['original', 'label', 'day']].reset_index(drop=True)\n",
    "    test_v['d']=d[0]\n",
    "    for day in test_day:\n",
    "        tmp=test_v.loc[test_v['day']==day,  'd']\n",
    "        tmp[window-1:]=df.loc[(df['day']==day), 'd'].values\n",
    "        test_v.loc[test_v['day']==day,  'd']=tmp\n",
    "    \n",
    "    d_test=test_v['d'].values\n",
    "    print('------------異常検知モデルの性能評価（PR曲線AUC）-------------')\n",
    "    thr_bins=20\n",
    "    p_score, r_score, f_score, thresholds, thr, auc = fig_pr(test_v, d_test, thr_bins)\n",
    "    print('\\033[31m'+f'AUC：{auc}'+'\\033[0m')\n",
    "    print(f'理想の閾値：{thr}')\n",
    "    print(f'F値（最高）：{f_score.max()}')\n",
    "    print(f'適合率（最高）：{p_score[np.argmax(f_score)]}')\n",
    "    print(f'再現率（最高）：{r_score[np.argmax(f_score)]}')\n",
    "    auc_sum+=auc\n",
    "    print('----------------閾値の妥当性評価（F値）------------------')\n",
    " \n",
    "    #kmeans\n",
    "    n_clusters=2\n",
    "    model = KMeans(n_clusters=n_clusters)  \n",
    "    model.fit(d.reshape((-1, 1)))\n",
    "    clusters = model.predict(d.reshape((-1, 1)))  \n",
    "    result=pd.DataFrame({'d':d, 'cluster':clusters})\n",
    "    thr_list=[]\n",
    "    for j in range(n_clusters):\n",
    "        thr_list.append(result.loc[result['cluster']==j, 'd'].max())\n",
    "    thr_min=sorted(thr_list)[-2]\n",
    "    thr_max=sorted(thr_list)[-1]\n",
    "    thr_range=result.loc[(result['d']>thr_min)&(result['d']<=thr_max), ['d']]\n",
    "    Q1 = thr_range.quantile(0.25)\n",
    "    Q3 = thr_range.quantile(0.75)\n",
    "    IQR = Q3 - Q1\n",
    "    thr = min(float(Q3 + 1.5 * IQR), thr_max)\n",
    "    print(f'閾値{thr}')\n",
    "    \n",
    "    precision, recall=validate(test_v, d_test, thr)\n",
    "    f_score=(2*precision*recall)/(precision+recall)\n",
    "    print('\\033[31m'+f'F値：{f_score}'+'\\033[0m')\n",
    "    print(f'適合率：{precision}')\n",
    "    print(f'再現率：{recall}')\n",
    "    f_score_sum+=f_score\n",
    "\n",
    "    z=np.where(d>=thr, 1, 0)\n",
    "    df.loc[(df['day'].isin(test_day)), 'z']=z\n",
    "    print('=====================================================================================\\n')\n",
    "auc_mean=auc_sum/len(cv_comb)\n",
    "f_mean=f_score_sum/len(cv_comb)\n",
    "print('----------------総合評価------------------')\n",
    "print('・異常検知モデルの性能')\n",
    "print(f'\\tAUC平均：{auc_mean}')\n",
    "print('・閾値の妥当性')\n",
    "print(f'\\tf値平均：{f_mean}')"
   ]
  },
  {
   "cell_type": "markdown",
   "id": "d0bdf0c2",
   "metadata": {},
   "source": [
    "## テストデータの評価"
   ]
  },
  {
   "cell_type": "code",
   "execution_count": 7,
   "id": "3dc29cc7",
   "metadata": {},
   "outputs": [
    {
     "name": "stdout",
     "output_type": "stream",
     "text": [
      "訓練データ：[0, 1, 2, 3, 4, 5, 6, 7, 8, 9]\n",
      "テストデータ：[]日目\n"
     ]
    },
    {
     "ename": "ValueError",
     "evalue": "Found array with 0 sample(s) (shape=(0, 5)) while a minimum of 1 is required.",
     "output_type": "error",
     "traceback": [
      "\u001b[1;31m---------------------------------------------------------------------------\u001b[0m",
      "\u001b[1;31mValueError\u001b[0m                                Traceback (most recent call last)",
      "\u001b[1;32m~\\AppData\\Local\\Temp/ipykernel_5400/1660651671.py\u001b[0m in \u001b[0;36m<module>\u001b[1;34m\u001b[0m\n\u001b[0;32m      7\u001b[0m \u001b[0mneigh\u001b[0m \u001b[1;33m=\u001b[0m \u001b[0mNearestNeighbors\u001b[0m\u001b[1;33m(\u001b[0m\u001b[0mn_neighbors\u001b[0m\u001b[1;33m=\u001b[0m\u001b[0mnk\u001b[0m\u001b[1;33m)\u001b[0m\u001b[1;33m\u001b[0m\u001b[1;33m\u001b[0m\u001b[0m\n\u001b[0;32m      8\u001b[0m \u001b[0mneigh\u001b[0m\u001b[1;33m.\u001b[0m\u001b[0mfit\u001b[0m\u001b[1;33m(\u001b[0m\u001b[0mtrain\u001b[0m\u001b[1;33m)\u001b[0m\u001b[1;33m\u001b[0m\u001b[1;33m\u001b[0m\u001b[0m\n\u001b[1;32m----> 9\u001b[1;33m \u001b[0md\u001b[0m \u001b[1;33m=\u001b[0m \u001b[0mneigh\u001b[0m\u001b[1;33m.\u001b[0m\u001b[0mkneighbors\u001b[0m\u001b[1;33m(\u001b[0m\u001b[0mtest\u001b[0m\u001b[1;33m)\u001b[0m\u001b[1;33m[\u001b[0m\u001b[1;36m0\u001b[0m\u001b[1;33m]\u001b[0m\u001b[1;33m\u001b[0m\u001b[1;33m\u001b[0m\u001b[0m\n\u001b[0m\u001b[0;32m     10\u001b[0m \u001b[0md\u001b[0m \u001b[1;33m=\u001b[0m \u001b[0mnp\u001b[0m\u001b[1;33m.\u001b[0m\u001b[0mmean\u001b[0m\u001b[1;33m(\u001b[0m\u001b[0md\u001b[0m\u001b[1;33m,\u001b[0m \u001b[0maxis\u001b[0m\u001b[1;33m=\u001b[0m\u001b[1;36m1\u001b[0m\u001b[1;33m)\u001b[0m\u001b[1;33m\u001b[0m\u001b[1;33m\u001b[0m\u001b[0m\n\u001b[0;32m     11\u001b[0m \u001b[0mmx\u001b[0m \u001b[1;33m=\u001b[0m \u001b[0mnp\u001b[0m\u001b[1;33m.\u001b[0m\u001b[0mmax\u001b[0m\u001b[1;33m(\u001b[0m\u001b[0md\u001b[0m\u001b[1;33m)\u001b[0m\u001b[1;33m\u001b[0m\u001b[1;33m\u001b[0m\u001b[0m\n",
      "\u001b[1;32m~\\anaconda3\\lib\\site-packages\\sklearn\\neighbors\\_base.py\u001b[0m in \u001b[0;36mkneighbors\u001b[1;34m(self, X, n_neighbors, return_distance)\u001b[0m\n\u001b[0;32m    668\u001b[0m                 \u001b[0mX\u001b[0m \u001b[1;33m=\u001b[0m \u001b[0m_check_precomputed\u001b[0m\u001b[1;33m(\u001b[0m\u001b[0mX\u001b[0m\u001b[1;33m)\u001b[0m\u001b[1;33m\u001b[0m\u001b[1;33m\u001b[0m\u001b[0m\n\u001b[0;32m    669\u001b[0m             \u001b[1;32melse\u001b[0m\u001b[1;33m:\u001b[0m\u001b[1;33m\u001b[0m\u001b[1;33m\u001b[0m\u001b[0m\n\u001b[1;32m--> 670\u001b[1;33m                 \u001b[0mX\u001b[0m \u001b[1;33m=\u001b[0m \u001b[0mcheck_array\u001b[0m\u001b[1;33m(\u001b[0m\u001b[0mX\u001b[0m\u001b[1;33m,\u001b[0m \u001b[0maccept_sparse\u001b[0m\u001b[1;33m=\u001b[0m\u001b[1;34m'csr'\u001b[0m\u001b[1;33m)\u001b[0m\u001b[1;33m\u001b[0m\u001b[1;33m\u001b[0m\u001b[0m\n\u001b[0m\u001b[0;32m    671\u001b[0m         \u001b[1;32melse\u001b[0m\u001b[1;33m:\u001b[0m\u001b[1;33m\u001b[0m\u001b[1;33m\u001b[0m\u001b[0m\n\u001b[0;32m    672\u001b[0m             \u001b[0mquery_is_train\u001b[0m \u001b[1;33m=\u001b[0m \u001b[1;32mTrue\u001b[0m\u001b[1;33m\u001b[0m\u001b[1;33m\u001b[0m\u001b[0m\n",
      "\u001b[1;32m~\\anaconda3\\lib\\site-packages\\sklearn\\utils\\validation.py\u001b[0m in \u001b[0;36minner_f\u001b[1;34m(*args, **kwargs)\u001b[0m\n\u001b[0;32m     61\u001b[0m             \u001b[0mextra_args\u001b[0m \u001b[1;33m=\u001b[0m \u001b[0mlen\u001b[0m\u001b[1;33m(\u001b[0m\u001b[0margs\u001b[0m\u001b[1;33m)\u001b[0m \u001b[1;33m-\u001b[0m \u001b[0mlen\u001b[0m\u001b[1;33m(\u001b[0m\u001b[0mall_args\u001b[0m\u001b[1;33m)\u001b[0m\u001b[1;33m\u001b[0m\u001b[1;33m\u001b[0m\u001b[0m\n\u001b[0;32m     62\u001b[0m             \u001b[1;32mif\u001b[0m \u001b[0mextra_args\u001b[0m \u001b[1;33m<=\u001b[0m \u001b[1;36m0\u001b[0m\u001b[1;33m:\u001b[0m\u001b[1;33m\u001b[0m\u001b[1;33m\u001b[0m\u001b[0m\n\u001b[1;32m---> 63\u001b[1;33m                 \u001b[1;32mreturn\u001b[0m \u001b[0mf\u001b[0m\u001b[1;33m(\u001b[0m\u001b[1;33m*\u001b[0m\u001b[0margs\u001b[0m\u001b[1;33m,\u001b[0m \u001b[1;33m**\u001b[0m\u001b[0mkwargs\u001b[0m\u001b[1;33m)\u001b[0m\u001b[1;33m\u001b[0m\u001b[1;33m\u001b[0m\u001b[0m\n\u001b[0m\u001b[0;32m     64\u001b[0m \u001b[1;33m\u001b[0m\u001b[0m\n\u001b[0;32m     65\u001b[0m             \u001b[1;31m# extra_args > 0\u001b[0m\u001b[1;33m\u001b[0m\u001b[1;33m\u001b[0m\u001b[0m\n",
      "\u001b[1;32m~\\anaconda3\\lib\\site-packages\\sklearn\\utils\\validation.py\u001b[0m in \u001b[0;36mcheck_array\u001b[1;34m(array, accept_sparse, accept_large_sparse, dtype, order, copy, force_all_finite, ensure_2d, allow_nd, ensure_min_samples, ensure_min_features, estimator)\u001b[0m\n\u001b[0;32m    724\u001b[0m         \u001b[0mn_samples\u001b[0m \u001b[1;33m=\u001b[0m \u001b[0m_num_samples\u001b[0m\u001b[1;33m(\u001b[0m\u001b[0marray\u001b[0m\u001b[1;33m)\u001b[0m\u001b[1;33m\u001b[0m\u001b[1;33m\u001b[0m\u001b[0m\n\u001b[0;32m    725\u001b[0m         \u001b[1;32mif\u001b[0m \u001b[0mn_samples\u001b[0m \u001b[1;33m<\u001b[0m \u001b[0mensure_min_samples\u001b[0m\u001b[1;33m:\u001b[0m\u001b[1;33m\u001b[0m\u001b[1;33m\u001b[0m\u001b[0m\n\u001b[1;32m--> 726\u001b[1;33m             raise ValueError(\"Found array with %d sample(s) (shape=%s) while a\"\n\u001b[0m\u001b[0;32m    727\u001b[0m                              \u001b[1;34m\" minimum of %d is required%s.\"\u001b[0m\u001b[1;33m\u001b[0m\u001b[1;33m\u001b[0m\u001b[0m\n\u001b[0;32m    728\u001b[0m                              % (n_samples, array.shape, ensure_min_samples,\n",
      "\u001b[1;31mValueError\u001b[0m: Found array with 0 sample(s) (shape=(0, 5)) while a minimum of 1 is required."
     ]
    }
   ],
   "source": [
    "print(f'訓練データ：{cv_data_list}')\n",
    "print(f'テストデータ：{test_notvalid}日目')\n",
    "\n",
    "train=df[(df['day'].isin(cv_data_list))][df.columns[:-3]].reset_index(drop=True)\n",
    "test=df[(df['day'].isin(test_notvalid))][df.columns[:-3]].reset_index(drop=True)\n",
    "\n",
    "neigh = NearestNeighbors(n_neighbors=nk)\n",
    "neigh.fit(train)\n",
    "d = neigh.kneighbors(test)[0]\n",
    "d = np.mean(d, axis=1)\n",
    "mx = np.max(d)\n",
    "d = d / mx\n",
    "\n",
    "test_v=original[original['day'].isin(test_notvalid)][['original', 'label']].reset_index(drop=True)\n",
    "test_v['d']=d[0]\n",
    "test_v.loc[window-1:, 'd']=d\n",
    "\n",
    "#kmeans\n",
    "n_clusters=2\n",
    "model = KMeans(n_clusters=n_clusters)  \n",
    "model.fit(d.reshape((-1, 1)))\n",
    "clusters = model.predict(d.reshape((-1, 1)))  \n",
    "result=pd.DataFrame({'d':d, 'cluster':clusters})\n",
    "thr_list=[]\n",
    "for j in range(n_clusters):\n",
    "    thr_list.append(result.loc[result['cluster']==j, 'd'].max())\n",
    "thr_min=sorted(thr_list)[-2]\n",
    "thr_max=sorted(thr_list)[-1]\n",
    "thr_range=result.loc[(result['d']>thr_min)&(result['d']<=thr_max), ['d']]\n",
    "Q1 = thr_range.quantile(0.25)\n",
    "Q3 = thr_range.quantile(0.75)\n",
    "IQR = Q3 - Q1\n",
    "thr = min(float(Q3 + 1.5 * IQR), thr_max)\n",
    "print(f'閾値{thr}')\n",
    "\n",
    "d_test=test_v['d'].values\n",
    "precision, recall=validate.validate(test_v, d_test, thr)\n",
    "f_score=(2*precision*recall)/(precision+recall)\n",
    "print(f'適合率：{precision}')\n",
    "print(f'再現率：{recall}')\n",
    "print(f'f値：{f_score}')"
   ]
  },
  {
   "cell_type": "code",
   "execution_count": null,
   "id": "de0a522c",
   "metadata": {},
   "outputs": [],
   "source": []
  }
 ],
 "metadata": {
  "kernelspec": {
   "display_name": "Python 3 (ipykernel)",
   "language": "python",
   "name": "python3"
  },
  "language_info": {
   "codemirror_mode": {
    "name": "ipython",
    "version": 3
   },
   "file_extension": ".py",
   "mimetype": "text/x-python",
   "name": "python",
   "nbconvert_exporter": "python",
   "pygments_lexer": "ipython3",
   "version": "3.9.7"
  }
 },
 "nbformat": 4,
 "nbformat_minor": 5
}
