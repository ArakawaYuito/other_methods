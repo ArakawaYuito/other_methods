{
 "cells": [
  {
   "cell_type": "code",
   "execution_count": 1,
   "id": "cdc48f36",
   "metadata": {},
   "outputs": [],
   "source": [
    "import numpy as np\n",
    "import matplotlib.pyplot as plt\n",
    "from sklearn.metrics import precision_score\n",
    "import pandas as pd\n",
    "import seaborn as sns\n",
    "from matplotlib import pyplot as plt\n",
    "from pandas.plotting import register_matplotlib_converters\n",
    "import os\n",
    "import math\n",
    "import validate\n",
    "from sklearn import metrics"
   ]
  },
  {
   "cell_type": "markdown",
   "id": "04eb7df3",
   "metadata": {},
   "source": [
    "## PR曲線"
   ]
  },
  {
   "cell_type": "code",
   "execution_count": 10,
   "id": "e6f7cd86",
   "metadata": {
    "scrolled": true
   },
   "outputs": [
    {
     "name": "stdout",
     "output_type": "stream",
     "text": [
      "適合率：0.030794\n",
      "再現率：1.000000\n",
      "thr:0.0011283208890985742  Recall:1.0  Precision:0.030794090275623544\n",
      "適合率：0.252137\n",
      "再現率：0.988095\n",
      "thr:0.05370051452651444  Recall:0.9880952380952381  Precision:0.252136973527431\n",
      "適合率：0.553458\n",
      "再現率：0.940476\n",
      "thr:0.10627270816393031  Recall:0.9404761904761905  Precision:0.5534577387486279\n",
      "適合率：0.734252\n",
      "再現率：0.880952\n",
      "thr:0.15884490180134617  Recall:0.8809523809523809  Precision:0.734251968503937\n",
      "適合率：0.804368\n",
      "再現率：0.666667\n",
      "thr:0.21141709543876203  Recall:0.6666666666666666  Precision:0.8043676069153776\n",
      "適合率：0.803328\n",
      "再現率：0.452381\n",
      "thr:0.2639892890761779  Recall:0.4523809523809524  Precision:0.8033282904689864\n",
      "適合率：0.817967\n",
      "再現率：0.309524\n",
      "thr:0.3165614827135938  Recall:0.30952380952380953  Precision:0.817966903073286\n",
      "適合率：0.805461\n",
      "再現率：0.226190\n",
      "thr:0.36913367635100963  Recall:0.2261904761904762  Precision:0.8054607508532423\n",
      "適合率：0.821596\n",
      "再現率：0.166667\n",
      "thr:0.4217058699884255  Recall:0.16666666666666666  Precision:0.8215962441314554\n",
      "適合率：0.891026\n",
      "再現率：0.154762\n",
      "thr:0.4742780636258414  Recall:0.15476190476190477  Precision:0.8910256410256411\n",
      "適合率：0.973214\n",
      "再現率：0.154762\n",
      "thr:0.5268502572632572  Recall:0.15476190476190477  Precision:0.9732142857142857\n",
      "適合率：0.986111\n",
      "再現率：0.107143\n",
      "thr:0.579422450900673  Recall:0.10714285714285714  Precision:0.9861111111111112\n",
      "適合率：1.000000\n",
      "再現率：0.095238\n",
      "thr:0.631994644538089  Recall:0.09523809523809523  Precision:1.0\n",
      "適合率：1.000000\n",
      "再現率：0.071429\n",
      "thr:0.6845668381755048  Recall:0.07142857142857142  Precision:1.0\n",
      "適合率：1.000000\n",
      "再現率：0.059524\n",
      "thr:0.7371390318129206  Recall:0.05952380952380952  Precision:1.0\n",
      "適合率：1.000000\n",
      "再現率：0.035714\n",
      "thr:0.7897112254503366  Recall:0.03571428571428571  Precision:1.0\n",
      "適合率：1.000000\n",
      "再現率：0.011905\n",
      "thr:0.8422834190877524  Recall:0.011904761904761904  Precision:1.0\n",
      "適合率：1.000000\n",
      "再現率：0.011905\n",
      "thr:0.8948556127251682  Recall:0.011904761904761904  Precision:1.0\n",
      "適合率：1.000000\n",
      "再現率：0.011905\n",
      "thr:0.9474278063625842  Recall:0.011904761904761904  Precision:1.0\n",
      "適合率：1.000000\n",
      "再現率：0.011905\n",
      "thr:1.0  Recall:0.011904761904761904  Precision:1.0\n"
     ]
    }
   ],
   "source": [
    "def fig_pr(test_v, d):\n",
    "    thresholds=np.linspace(d.min(), d.max(), 20)\n",
    "    precision=np.array([])\n",
    "    recall=np.array([])\n",
    "    for i in thresholds:\n",
    "        p, r=validate.validate(test_v, d, i)\n",
    "        precision=np.append(precision, p)\n",
    "        recall=np.append(recall, r)\n",
    "\n",
    "    auc = metrics.auc(recall, precision)\n",
    "    f_score=(2*precision*recall)/(precision+recall)\n",
    "\n",
    "\n",
    "    plt.plot(recall, precision, marker='o', markevery=[np.argmax(f_score)], label='PR curve (area = %.2f)'%auc)\n",
    "    plt.legend()\n",
    "    plt.title('PR curve')\n",
    "    plt.xlabel('Recall')\n",
    "    plt.ylabel('Precision')\n",
    "    plt.grid(True)\n",
    "    plt.show()\n",
    "\n",
    "    return precision, recall, f_score, thresholds"
   ]
  },
  {
   "cell_type": "code",
   "execution_count": null,
   "id": "a18d06b8",
   "metadata": {},
   "outputs": [],
   "source": [
    "def fig_th_f(thresholds, f_score):\n",
    "    plt.plot(thresholds, f_score, marker=\"o\", markevery=[np.argmax(f_score)])\n",
    "    plt.xlabel('thresholds')\n",
    "    plt.ylabel('f_score')\n",
    "    plt.grid(True)\n",
    "    plt.show()"
   ]
  },
  {
   "cell_type": "code",
   "execution_count": null,
   "id": "cbda02e1",
   "metadata": {},
   "outputs": [],
   "source": []
  }
 ],
 "metadata": {
  "kernelspec": {
   "display_name": "Python 3 (ipykernel)",
   "language": "python",
   "name": "python3"
  },
  "language_info": {
   "codemirror_mode": {
    "name": "ipython",
    "version": 3
   },
   "file_extension": ".py",
   "mimetype": "text/x-python",
   "name": "python",
   "nbconvert_exporter": "python",
   "pygments_lexer": "ipython3",
   "version": "3.9.7"
  }
 },
 "nbformat": 4,
 "nbformat_minor": 5
}
