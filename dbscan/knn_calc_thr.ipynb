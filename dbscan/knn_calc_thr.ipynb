{
 "cells": [
  {
   "cell_type": "code",
   "execution_count": 1,
   "id": "cdc48f36",
   "metadata": {},
   "outputs": [],
   "source": [
    "import numpy as np\n",
    "import matplotlib.pyplot as plt\n",
    "from sklearn.neighbors import NearestNeighbors\n",
    "from sklearn.metrics import precision_score\n",
    "import pandas as pd\n",
    "import seaborn as sns\n",
    "from statsmodels import api as sm\n",
    "from matplotlib import pyplot as plt\n",
    "from pandas.plotting import register_matplotlib_converters\n",
    "import os\n",
    "import numpy as np\n",
    "import math\n",
    "import validate\n",
    "from sklearn.preprocessing import StandardScaler\n",
    "from sklearn.decomposition import PCA\n",
    "import PR_curve"
   ]
  },
  {
   "cell_type": "code",
   "execution_count": 2,
   "id": "3a4ff43d",
   "metadata": {
    "scrolled": true
   },
   "outputs": [
    {
     "data": {
      "text/html": [
       "<div>\n",
       "<style scoped>\n",
       "    .dataframe tbody tr th:only-of-type {\n",
       "        vertical-align: middle;\n",
       "    }\n",
       "\n",
       "    .dataframe tbody tr th {\n",
       "        vertical-align: top;\n",
       "    }\n",
       "\n",
       "    .dataframe thead th {\n",
       "        text-align: right;\n",
       "    }\n",
       "</style>\n",
       "<table border=\"1\" class=\"dataframe\">\n",
       "  <thead>\n",
       "    <tr style=\"text-align: right;\">\n",
       "      <th></th>\n",
       "      <th>original</th>\n",
       "      <th>label</th>\n",
       "      <th>time</th>\n",
       "      <th>day</th>\n",
       "    </tr>\n",
       "  </thead>\n",
       "  <tbody>\n",
       "    <tr>\n",
       "      <th>0</th>\n",
       "      <td>53.4</td>\n",
       "      <td>0</td>\n",
       "      <td>15</td>\n",
       "      <td>0</td>\n",
       "    </tr>\n",
       "    <tr>\n",
       "      <th>1</th>\n",
       "      <td>52.8</td>\n",
       "      <td>0</td>\n",
       "      <td>15</td>\n",
       "      <td>0</td>\n",
       "    </tr>\n",
       "    <tr>\n",
       "      <th>2</th>\n",
       "      <td>52.8</td>\n",
       "      <td>0</td>\n",
       "      <td>15</td>\n",
       "      <td>0</td>\n",
       "    </tr>\n",
       "    <tr>\n",
       "      <th>3</th>\n",
       "      <td>53.2</td>\n",
       "      <td>0</td>\n",
       "      <td>15</td>\n",
       "      <td>0</td>\n",
       "    </tr>\n",
       "    <tr>\n",
       "      <th>4</th>\n",
       "      <td>53.6</td>\n",
       "      <td>0</td>\n",
       "      <td>15</td>\n",
       "      <td>0</td>\n",
       "    </tr>\n",
       "    <tr>\n",
       "      <th>...</th>\n",
       "      <td>...</td>\n",
       "      <td>...</td>\n",
       "      <td>...</td>\n",
       "      <td>...</td>\n",
       "    </tr>\n",
       "    <tr>\n",
       "      <th>3995345</th>\n",
       "      <td>45.9</td>\n",
       "      <td>0</td>\n",
       "      <td>5</td>\n",
       "      <td>9</td>\n",
       "    </tr>\n",
       "    <tr>\n",
       "      <th>3995346</th>\n",
       "      <td>45.6</td>\n",
       "      <td>0</td>\n",
       "      <td>5</td>\n",
       "      <td>9</td>\n",
       "    </tr>\n",
       "    <tr>\n",
       "      <th>3995347</th>\n",
       "      <td>45.8</td>\n",
       "      <td>0</td>\n",
       "      <td>5</td>\n",
       "      <td>9</td>\n",
       "    </tr>\n",
       "    <tr>\n",
       "      <th>3995348</th>\n",
       "      <td>45.7</td>\n",
       "      <td>0</td>\n",
       "      <td>5</td>\n",
       "      <td>9</td>\n",
       "    </tr>\n",
       "    <tr>\n",
       "      <th>3995349</th>\n",
       "      <td>45.9</td>\n",
       "      <td>0</td>\n",
       "      <td>5</td>\n",
       "      <td>9</td>\n",
       "    </tr>\n",
       "  </tbody>\n",
       "</table>\n",
       "<p>3995350 rows × 4 columns</p>\n",
       "</div>"
      ],
      "text/plain": [
       "         original  label  time  day\n",
       "0            53.4      0    15    0\n",
       "1            52.8      0    15    0\n",
       "2            52.8      0    15    0\n",
       "3            53.2      0    15    0\n",
       "4            53.6      0    15    0\n",
       "...           ...    ...   ...  ...\n",
       "3995345      45.9      0     5    9\n",
       "3995346      45.6      0     5    9\n",
       "3995347      45.8      0     5    9\n",
       "3995348      45.7      0     5    9\n",
       "3995349      45.9      0     5    9\n",
       "\n",
       "[3995350 rows x 4 columns]"
      ]
     },
     "execution_count": 2,
     "metadata": {},
     "output_type": "execute_result"
    }
   ],
   "source": [
    "data_dir='fixed_csv_label_ver2'\n",
    "df = pd.read_csv( os.path.join(data_dir, 'learning_data_10.csv') )\n",
    "df=df[df['day']<=9]\n",
    "df"
   ]
  },
  {
   "cell_type": "code",
   "execution_count": 3,
   "id": "cf857e04",
   "metadata": {
    "scrolled": true
   },
   "outputs": [
    {
     "data": {
      "text/html": [
       "<div>\n",
       "<style scoped>\n",
       "    .dataframe tbody tr th:only-of-type {\n",
       "        vertical-align: middle;\n",
       "    }\n",
       "\n",
       "    .dataframe tbody tr th {\n",
       "        vertical-align: top;\n",
       "    }\n",
       "\n",
       "    .dataframe thead th {\n",
       "        text-align: right;\n",
       "    }\n",
       "</style>\n",
       "<table border=\"1\" class=\"dataframe\">\n",
       "  <thead>\n",
       "    <tr style=\"text-align: right;\">\n",
       "      <th></th>\n",
       "      <th>original</th>\n",
       "      <th>original_lag1</th>\n",
       "      <th>original_lag2</th>\n",
       "      <th>original_lag3</th>\n",
       "      <th>original_lag4</th>\n",
       "      <th>day</th>\n",
       "      <th>label</th>\n",
       "    </tr>\n",
       "  </thead>\n",
       "  <tbody>\n",
       "    <tr>\n",
       "      <th>0</th>\n",
       "      <td>53.6</td>\n",
       "      <td>53.2</td>\n",
       "      <td>52.8</td>\n",
       "      <td>52.8</td>\n",
       "      <td>53.4</td>\n",
       "      <td>0</td>\n",
       "      <td>0</td>\n",
       "    </tr>\n",
       "    <tr>\n",
       "      <th>1</th>\n",
       "      <td>54.0</td>\n",
       "      <td>53.6</td>\n",
       "      <td>53.2</td>\n",
       "      <td>52.8</td>\n",
       "      <td>52.8</td>\n",
       "      <td>0</td>\n",
       "      <td>0</td>\n",
       "    </tr>\n",
       "    <tr>\n",
       "      <th>2</th>\n",
       "      <td>54.7</td>\n",
       "      <td>54.0</td>\n",
       "      <td>53.6</td>\n",
       "      <td>53.2</td>\n",
       "      <td>52.8</td>\n",
       "      <td>0</td>\n",
       "      <td>0</td>\n",
       "    </tr>\n",
       "    <tr>\n",
       "      <th>3</th>\n",
       "      <td>55.7</td>\n",
       "      <td>54.7</td>\n",
       "      <td>54.0</td>\n",
       "      <td>53.6</td>\n",
       "      <td>53.2</td>\n",
       "      <td>0</td>\n",
       "      <td>0</td>\n",
       "    </tr>\n",
       "    <tr>\n",
       "      <th>4</th>\n",
       "      <td>55.5</td>\n",
       "      <td>55.7</td>\n",
       "      <td>54.7</td>\n",
       "      <td>54.0</td>\n",
       "      <td>53.6</td>\n",
       "      <td>0</td>\n",
       "      <td>0</td>\n",
       "    </tr>\n",
       "    <tr>\n",
       "      <th>...</th>\n",
       "      <td>...</td>\n",
       "      <td>...</td>\n",
       "      <td>...</td>\n",
       "      <td>...</td>\n",
       "      <td>...</td>\n",
       "      <td>...</td>\n",
       "      <td>...</td>\n",
       "    </tr>\n",
       "    <tr>\n",
       "      <th>3995305</th>\n",
       "      <td>45.9</td>\n",
       "      <td>45.6</td>\n",
       "      <td>45.4</td>\n",
       "      <td>45.9</td>\n",
       "      <td>46.0</td>\n",
       "      <td>9</td>\n",
       "      <td>0</td>\n",
       "    </tr>\n",
       "    <tr>\n",
       "      <th>3995306</th>\n",
       "      <td>45.6</td>\n",
       "      <td>45.9</td>\n",
       "      <td>45.6</td>\n",
       "      <td>45.4</td>\n",
       "      <td>45.9</td>\n",
       "      <td>9</td>\n",
       "      <td>0</td>\n",
       "    </tr>\n",
       "    <tr>\n",
       "      <th>3995307</th>\n",
       "      <td>45.8</td>\n",
       "      <td>45.6</td>\n",
       "      <td>45.9</td>\n",
       "      <td>45.6</td>\n",
       "      <td>45.4</td>\n",
       "      <td>9</td>\n",
       "      <td>0</td>\n",
       "    </tr>\n",
       "    <tr>\n",
       "      <th>3995308</th>\n",
       "      <td>45.7</td>\n",
       "      <td>45.8</td>\n",
       "      <td>45.6</td>\n",
       "      <td>45.9</td>\n",
       "      <td>45.6</td>\n",
       "      <td>9</td>\n",
       "      <td>0</td>\n",
       "    </tr>\n",
       "    <tr>\n",
       "      <th>3995309</th>\n",
       "      <td>45.9</td>\n",
       "      <td>45.7</td>\n",
       "      <td>45.8</td>\n",
       "      <td>45.6</td>\n",
       "      <td>45.9</td>\n",
       "      <td>9</td>\n",
       "      <td>0</td>\n",
       "    </tr>\n",
       "  </tbody>\n",
       "</table>\n",
       "<p>3995310 rows × 7 columns</p>\n",
       "</div>"
      ],
      "text/plain": [
       "         original  original_lag1  original_lag2  original_lag3  original_lag4  \\\n",
       "0            53.6           53.2           52.8           52.8           53.4   \n",
       "1            54.0           53.6           53.2           52.8           52.8   \n",
       "2            54.7           54.0           53.6           53.2           52.8   \n",
       "3            55.7           54.7           54.0           53.6           53.2   \n",
       "4            55.5           55.7           54.7           54.0           53.6   \n",
       "...           ...            ...            ...            ...            ...   \n",
       "3995305      45.9           45.6           45.4           45.9           46.0   \n",
       "3995306      45.6           45.9           45.6           45.4           45.9   \n",
       "3995307      45.8           45.6           45.9           45.6           45.4   \n",
       "3995308      45.7           45.8           45.6           45.9           45.6   \n",
       "3995309      45.9           45.7           45.8           45.6           45.9   \n",
       "\n",
       "         day  label  \n",
       "0          0      0  \n",
       "1          0      0  \n",
       "2          0      0  \n",
       "3          0      0  \n",
       "4          0      0  \n",
       "...      ...    ...  \n",
       "3995305    9      0  \n",
       "3995306    9      0  \n",
       "3995307    9      0  \n",
       "3995308    9      0  \n",
       "3995309    9      0  \n",
       "\n",
       "[3995310 rows x 7 columns]"
      ]
     },
     "execution_count": 3,
     "metadata": {},
     "output_type": "execute_result"
    }
   ],
   "source": [
    "def make_data(x, str,w):\n",
    "    x=pd.DataFrame(x)\n",
    "    window=w\n",
    "    for i in range(1, window):\n",
    "        column=f'{str}_lag{i}'\n",
    "        x[column]=x[str].shift(i)\n",
    "    return x\n",
    "\n",
    "def make_label(x, w):\n",
    "    window=w\n",
    "    x['label_all']=x['label']\n",
    "    for i in range(1, window):\n",
    "        x.loc[(x['label_all']==1)|(x['label'].shift(i)==1), 'label_all']=1\n",
    "        x.loc[(x['label_all']==0)&(x['label'].shift(i)==0), 'label_all']=0\n",
    "    \n",
    "    x['label']=x['label_all']\n",
    "    return x[['label']]\n",
    "\n",
    "df_list=[]\n",
    "for i in set(df['day']):\n",
    "    lag=[] \n",
    "    window=5\n",
    "    lag.append(make_data(df.loc[df['day']==i, ['original']], 'original', window))\n",
    "    lag.append(df.loc[df['day']==i, ['day']])\n",
    "    lag.append(make_label(df.loc[df['day']==i, ['label']], window))\n",
    "    df_add_lag=pd.concat(lag, axis=1)\n",
    "    df_list.append(df_add_lag)\n",
    "df=pd.concat(df_list)\n",
    "df=df.dropna().reset_index(drop=True)\n",
    "df"
   ]
  },
  {
   "cell_type": "markdown",
   "id": "8019ee85",
   "metadata": {},
   "source": [
    "# PR曲線"
   ]
  },
  {
   "cell_type": "markdown",
   "id": "bd85ac97",
   "metadata": {},
   "source": [
    "## 閾値決定"
   ]
  },
  {
   "cell_type": "code",
   "execution_count": 4,
   "id": "71ec7ab0",
   "metadata": {
    "scrolled": false
   },
   "outputs": [
    {
     "name": "stdout",
     "output_type": "stream",
     "text": [
      "0日目\n"
     ]
    },
    {
     "data": {
      "image/png": "[encoded data removed]",
      "text/plain": [
       "<Figure size 432x288 with 1 Axes>"
      ]
     },
     "metadata": {
      "needs_background": "light"
     },
     "output_type": "display_data"
    },
    {
     "name": "stdout",
     "output_type": "stream",
     "text": [
      "AUC：0.8813972933311773\n",
      "閾値：0.10526315789473684\n",
      "F値：0.8549273596957724\n",
      "適合率：0.796148738379814\n",
      "再現率：0.9230769230769231\n",
      "-----------------------------------------------------------------------\n",
      "1日目\n"
     ]
    },
    {
     "data": {
      "image/png": "[encoded data removed]",
      "text/plain": [
       "<Figure size 432x288 with 1 Axes>"
      ]
     },
     "metadata": {
      "needs_background": "light"
     },
     "output_type": "display_data"
    },
    {
     "name": "stdout",
     "output_type": "stream",
     "text": [
      "AUC：0.9396702718872505\n",
      "閾値：0.15789473684210525\n",
      "F値：0.9121577153888528\n",
      "適合率：0.9296097934200459\n",
      "再現率：0.8953488372093024\n",
      "-----------------------------------------------------------------------\n",
      "2日目\n"
     ]
    },
    {
     "data": {
      "image/png": "[encoded data removed]",
      "text/plain": [
       "<Figure size 432x288 with 1 Axes>"
      ]
     },
     "metadata": {
      "needs_background": "light"
     },
     "output_type": "display_data"
    },
    {
     "name": "stdout",
     "output_type": "stream",
     "text": [
      "AUC：0.8181185801058071\n",
      "閾値：0.10526315789473684\n",
      "F値：0.7740840288583958\n",
      "適合率：0.8724489795918368\n",
      "再現率：0.6956521739130435\n",
      "-----------------------------------------------------------------------\n",
      "3日目\n"
     ]
    },
    {
     "data": {
      "image/png": "[encoded data removed]",
      "text/plain": [
       "<Figure size 432x288 with 1 Axes>"
      ]
     },
     "metadata": {
      "needs_background": "light"
     },
     "output_type": "display_data"
    },
    {
     "name": "stdout",
     "output_type": "stream",
     "text": [
      "AUC：0.8953577258108075\n",
      "閾値：0.15789473684210525\n",
      "F値：0.9043478260869565\n",
      "適合率：0.8504672897196262\n",
      "再現率：0.9655172413793104\n",
      "-----------------------------------------------------------------------\n",
      "4日目\n"
     ]
    },
    {
     "data": {
      "image/png": "[encoded data removed]",
      "text/plain": [
       "<Figure size 432x288 with 1 Axes>"
      ]
     },
     "metadata": {
      "needs_background": "light"
     },
     "output_type": "display_data"
    },
    {
     "name": "stdout",
     "output_type": "stream",
     "text": [
      "AUC：0.9552588577898343\n",
      "閾値：0.10526315789473684\n",
      "F値：0.9364267972209223\n",
      "適合率：0.968682505399568\n",
      "再現率：0.90625\n",
      "-----------------------------------------------------------------------\n",
      "5日目\n"
     ]
    },
    {
     "data": {
      "image/png": "[encoded data removed]",
      "text/plain": [
       "<Figure size 432x288 with 1 Axes>"
      ]
     },
     "metadata": {
      "needs_background": "light"
     },
     "output_type": "display_data"
    },
    {
     "name": "stdout",
     "output_type": "stream",
     "text": [
      "AUC：0.9694418328200141\n",
      "閾値：0.15789473684210525\n",
      "F値：0.9356916470708516\n",
      "適合率：0.9581239530988275\n",
      "再現率：0.9142857142857143\n",
      "-----------------------------------------------------------------------\n",
      "6日目\n"
     ]
    },
    {
     "data": {
      "image/png": "[encoded data removed]",
      "text/plain": [
       "<Figure size 432x288 with 1 Axes>"
      ]
     },
     "metadata": {
      "needs_background": "light"
     },
     "output_type": "display_data"
    },
    {
     "name": "stdout",
     "output_type": "stream",
     "text": [
      "AUC：0.8937362353453041\n",
      "閾値：0.15789473684210525\n",
      "F値：0.8555555555555555\n",
      "適合率：0.9506172839506173\n",
      "再現率：0.7777777777777778\n",
      "-----------------------------------------------------------------------\n",
      "7日目\n"
     ]
    },
    {
     "data": {
      "image/png": "[encoded data removed]",
      "text/plain": [
       "<Figure size 432x288 with 1 Axes>"
      ]
     },
     "metadata": {
      "needs_background": "light"
     },
     "output_type": "display_data"
    },
    {
     "name": "stdout",
     "output_type": "stream",
     "text": [
      "AUC：0.9668725735330316\n",
      "閾値：0.05263157894736842\n",
      "F値：0.9675710091701806\n",
      "適合率：0.955453334947343\n",
      "再現率：0.98\n",
      "-----------------------------------------------------------------------\n",
      "8日目\n"
     ]
    },
    {
     "data": {
      "image/png": "[encoded data removed]",
      "text/plain": [
       "<Figure size 432x288 with 1 Axes>"
      ]
     },
     "metadata": {
      "needs_background": "light"
     },
     "output_type": "display_data"
    },
    {
     "name": "stdout",
     "output_type": "stream",
     "text": [
      "AUC：0.9677449850896404\n",
      "閾値：0.05263157894736842\n",
      "F値：0.9583190198099163\n",
      "適合率：0.9199736176761569\n",
      "再現率：1.0\n",
      "-----------------------------------------------------------------------\n",
      "9日目\n"
     ]
    },
    {
     "data": {
      "image/png": "[encoded data removed]",
      "text/plain": [
       "<Figure size 432x288 with 1 Axes>"
      ]
     },
     "metadata": {
      "needs_background": "light"
     },
     "output_type": "display_data"
    },
    {
     "name": "stdout",
     "output_type": "stream",
     "text": [
      "AUC：0.9743926803902294\n",
      "閾値：0.10526315789473684\n",
      "F値：0.9793764988009592\n",
      "適合率：0.9595864661654135\n",
      "再現率：1.0\n",
      "-----------------------------------------------------------------------\n"
     ]
    }
   ],
   "source": [
    "thr_list=[]\n",
    "original = pd.read_csv( os.path.join(data_dir, 'learning_data_10.csv') )\n",
    "for i in set(df['day']):\n",
    "    print(f'{i}日目')\n",
    "    \n",
    "    test_day=[i]\n",
    "    train=df[(df['label']==0)&(~df['day'].isin(test_day))][df.columns[:-2]].reset_index(drop=True)\n",
    "    test=df[(df['day'].isin(test_day))][df.columns[:-2]].reset_index(drop=True)\n",
    "    \n",
    "    nk = 10\n",
    "    neigh = NearestNeighbors(n_neighbors=nk)\n",
    "    neigh.fit(train)\n",
    "    d = neigh.kneighbors(test)[0]\n",
    "    d = np.mean(d, axis=1)\n",
    "    mx = np.max(d)\n",
    "    d = d / mx\n",
    "    \n",
    "    test_v=original[original['day'].isin(test_day)][['original', 'label']].reset_index(drop=True)\n",
    "    test_v['d']=d[0]\n",
    "    test_v.loc[window-1:, 'd']=d\n",
    "    \n",
    "    d=test_v['d'].values\n",
    "    thr_bins=20\n",
    "    p_score, r_score, f_score, thresholds, thr, auc = PR_curve.fig_pr(test_v, d, thr_bins)\n",
    "    print(f'AUC：{auc}')\n",
    "    print(f'閾値：{thr}')\n",
    "    print(f'F値：{f_score.max()}')\n",
    "    print(f'適合率：{p_score[np.argmax(f_score)]}')\n",
    "    print(f'再現率：{r_score[np.argmax(f_score)]}')\n",
    "    thr_list.append(thr)\n",
    "    print('-----------------------------------------------------------------------')"
   ]
  },
  {
   "cell_type": "code",
   "execution_count": 5,
   "id": "e8f3c331",
   "metadata": {},
   "outputs": [],
   "source": [
    "thr_df=pd.DataFrame({'day':df['day'].unique(), \n",
    "                    'thr':thr_list})\n",
    "thr_df.to_csv('day_thr.csv', index=False)"
   ]
  },
  {
   "cell_type": "code",
   "execution_count": 6,
   "id": "dfc51557",
   "metadata": {},
   "outputs": [
    {
     "data": {
      "text/html": [
       "<div>\n",
       "<style scoped>\n",
       "    .dataframe tbody tr th:only-of-type {\n",
       "        vertical-align: middle;\n",
       "    }\n",
       "\n",
       "    .dataframe tbody tr th {\n",
       "        vertical-align: top;\n",
       "    }\n",
       "\n",
       "    .dataframe thead th {\n",
       "        text-align: right;\n",
       "    }\n",
       "</style>\n",
       "<table border=\"1\" class=\"dataframe\">\n",
       "  <thead>\n",
       "    <tr style=\"text-align: right;\">\n",
       "      <th></th>\n",
       "      <th>day</th>\n",
       "      <th>thr</th>\n",
       "    </tr>\n",
       "  </thead>\n",
       "  <tbody>\n",
       "    <tr>\n",
       "      <th>0</th>\n",
       "      <td>0</td>\n",
       "      <td>0.105263</td>\n",
       "    </tr>\n",
       "    <tr>\n",
       "      <th>1</th>\n",
       "      <td>1</td>\n",
       "      <td>0.157895</td>\n",
       "    </tr>\n",
       "    <tr>\n",
       "      <th>2</th>\n",
       "      <td>2</td>\n",
       "      <td>0.105263</td>\n",
       "    </tr>\n",
       "    <tr>\n",
       "      <th>3</th>\n",
       "      <td>3</td>\n",
       "      <td>0.157895</td>\n",
       "    </tr>\n",
       "    <tr>\n",
       "      <th>4</th>\n",
       "      <td>4</td>\n",
       "      <td>0.105263</td>\n",
       "    </tr>\n",
       "    <tr>\n",
       "      <th>5</th>\n",
       "      <td>5</td>\n",
       "      <td>0.157895</td>\n",
       "    </tr>\n",
       "    <tr>\n",
       "      <th>6</th>\n",
       "      <td>6</td>\n",
       "      <td>0.157895</td>\n",
       "    </tr>\n",
       "    <tr>\n",
       "      <th>7</th>\n",
       "      <td>7</td>\n",
       "      <td>0.052632</td>\n",
       "    </tr>\n",
       "    <tr>\n",
       "      <th>8</th>\n",
       "      <td>8</td>\n",
       "      <td>0.052632</td>\n",
       "    </tr>\n",
       "    <tr>\n",
       "      <th>9</th>\n",
       "      <td>9</td>\n",
       "      <td>0.105263</td>\n",
       "    </tr>\n",
       "  </tbody>\n",
       "</table>\n",
       "</div>"
      ],
      "text/plain": [
       "   day       thr\n",
       "0    0  0.105263\n",
       "1    1  0.157895\n",
       "2    2  0.105263\n",
       "3    3  0.157895\n",
       "4    4  0.105263\n",
       "5    5  0.157895\n",
       "6    6  0.157895\n",
       "7    7  0.052632\n",
       "8    8  0.052632\n",
       "9    9  0.105263"
      ]
     },
     "execution_count": 6,
     "metadata": {},
     "output_type": "execute_result"
    }
   ],
   "source": [
    "thr_df"
   ]
  },
  {
   "cell_type": "code",
   "execution_count": null,
   "id": "7f1b5c07",
   "metadata": {},
   "outputs": [],
   "source": []
  },
  {
   "cell_type": "code",
   "execution_count": null,
   "id": "83d731bb",
   "metadata": {},
   "outputs": [],
   "source": []
  }
 ],
 "metadata": {
  "kernelspec": {
   "display_name": "Python 3 (ipykernel)",
   "language": "python",
   "name": "python3"
  },
  "language_info": {
   "codemirror_mode": {
    "name": "ipython",
    "version": 3
   },
   "file_extension": ".py",
   "mimetype": "text/x-python",
   "name": "python",
   "nbconvert_exporter": "python",
   "pygments_lexer": "ipython3",
   "version": "3.9.7"
  }
 },
 "nbformat": 4,
 "nbformat_minor": 5
}
