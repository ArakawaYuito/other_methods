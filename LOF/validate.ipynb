{
 "cells": [
  {
   "cell_type": "code",
   "execution_count": 1,
   "id": "b76d4a5d",
   "metadata": {},
   "outputs": [],
   "source": [
    "import numpy as np\n",
    "import matplotlib.pyplot as plt\n",
    "from sklearn.neighbors import NearestNeighbors\n",
    "import pandas as pd\n",
    "import seaborn as sns\n",
    "from statsmodels import api as sm\n",
    "from matplotlib import pyplot as plt\n",
    "from pandas.plotting import register_matplotlib_converters\n",
    "import os\n",
    "import numpy as np\n",
    "from sklearn.metrics import precision_score\n",
    "import math"
   ]
  },
  {
   "cell_type": "code",
   "execution_count": null,
   "id": "fb2a4069",
   "metadata": {},
   "outputs": [],
   "source": [
    "def validate(test_v, anorm, thr):\n",
    "    test_v['z']=np.where(anorm>=thr, 1, 0)\n",
    "    test_v.reset_index(inplace=True, drop=True)\n",
    "#     適合率\n",
    "#     pre_score=precision_score(test_v['label'], test_v['z'])\n",
    "    tp=test_v[(test_v['label']==1)&(test_v['z']==1)]\n",
    "    z_p=test_v[test_v['z']==1]\n",
    "    pre_score=len(tp)/len(z_p)\n",
    "\n",
    "#     再現率\n",
    "    df_anorm=[]\n",
    "    search= 1 if test_v.loc[0, 'label']==0 else 0\n",
    "    for num in range(len(test_v)):\n",
    "        if search==1 and test_v.loc[num, 'label']==search:\n",
    "            start=num\n",
    "            search=0\n",
    "        elif search==0 and test_v.loc[num, 'label']==search:\n",
    "            stop=num-1\n",
    "            anorm_range=test_v.loc[start:stop].copy()\n",
    "            df_anorm.append(anorm_range)\n",
    "            search=1\n",
    "            \n",
    "    count=[]\n",
    "    for i in range(len(df_anorm)):\n",
    "        if len(df_anorm[i].loc[df_anorm[i]['z']==1])>=1:\n",
    "               count.append(i)    \n",
    "\n",
    "    re_score=len(count)/len(df_anorm)\n",
    "\n",
    "    print('適合率：%f'%pre_score )\n",
    "    print('再現率：%f'%re_score )"
   ]
  },
  {
   "cell_type": "code",
   "execution_count": null,
   "id": "dcd18d15",
   "metadata": {},
   "outputs": [],
   "source": [
    "def figure(df_test, anorm):\n",
    "    test_plot=df_test['original'].values\n",
    "    num_ax=math.ceil(len(test_plot)/17999)\n",
    "    label=df_test['label'].values*100\n",
    "    label_index=range(len(label))\n",
    "\n",
    "    fig, ax=plt.subplots(num_ax, 1, figsize=(35, 15*num_ax))\n",
    "    for i in range(num_ax):\n",
    "        ax[i].plot(anorm, '-r',linewidth = 1 )\n",
    "        ax[i].plot(test_for_plot, '-k',linewidth = 2)\n",
    "        ax[i].fill_between(label_index, label, facecolor='lime' )\n",
    "        ax[i].set_ylim(0, 90)\n",
    "        ax[i].set_xlim(i*17999, 17999*(i+1))\n",
    "    plt.show()"
   ]
  }
 ],
 "metadata": {
  "kernelspec": {
   "display_name": "Python 3 (ipykernel)",
   "language": "python",
   "name": "python3"
  },
  "language_info": {
   "codemirror_mode": {
    "name": "ipython",
    "version": 3
   },
   "file_extension": ".py",
   "mimetype": "text/x-python",
   "name": "python",
   "nbconvert_exporter": "python",
   "pygments_lexer": "ipython3",
   "version": "3.9.7"
  }
 },
 "nbformat": 4,
 "nbformat_minor": 5
}
