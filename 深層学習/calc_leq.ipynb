{
 "cells": [
  {
   "cell_type": "code",
   "execution_count": 10,
   "id": "0c6e5f52",
   "metadata": {},
   "outputs": [
    {
     "name": "stdout",
     "output_type": "stream",
     "text": [
      "異常音を除外して計算: 55.937306880554516\n",
      "異常音を含めたまま計算: 55.97561784403854\n"
     ]
    }
   ],
   "source": [
    "def calc_avg(x, y):\n",
    "    import pandas as pd\n",
    "    import os\n",
    "    df_x=pd.DataFrame(x)\n",
    "    df_y=pd.DataFrame(y)\n",
    "    df_x_raw=df_x[(df_x.shape[1]-1)/2]\n",
    "    raw_df=pd.concat([df_x_raw, df_y], axis=1)\n",
    "    raw_df.columns=range(raw_df.shape[1])\n",
    "    df_ex=raw_df.loc[raw_df[1]==0]\n",
    "    N=len(df_ex)\n",
    "    Leq=10*np.log10(np.sum(np.power(10, df_ex[0]/10)))-10*np.log10(N)\n",
    "    return Leq\n",
    "\n",
    "def calc_avg2(x, y):\n",
    "    import pandas as pd\n",
    "    import os\n",
    "    df_x=pd.DataFrame(x)\n",
    "    df_y=pd.DataFrame(y)\n",
    "    df_x_raw=df_x[(df_x.shape[1]-1)/2]\n",
    "    raw_df=pd.concat([df_x_raw, df_y], axis=1)\n",
    "    raw_df.columns=range(raw_df.shape[1])\n",
    "    df_ex=raw_df\n",
    "#     df_ex=raw_df.loc[raw_df[1]==0]\n",
    "    N=len(df_ex)\n",
    "    Leq=10*np.log10(np.sum(np.power(10, df_ex[0]/10)))-10*np.log10(N)\n",
    "    return Leq\n",
    "\n",
    "if __name__ == '__main__':\n",
    "    import pandas as pd\n",
    "    import os\n",
    "    import numpy as np\n",
    "    df = pd.read_csv( os.path.join('dataset', 'learning_data_431975.csv'), header=None  )\n",
    "    x = df[ df.columns[ :-1 ] ].values\n",
    "    y = df[ df.columns[ -1 ] ] .values\n",
    "    y_Leq=calc_avg(x, y)\n",
    "    y2_Leq=calc_avg2(x, y)\n",
    "    print('異常音を除外して計算:', y_Leq)\n",
    "    print('異常音を含めたまま計算:', y2_Leq)"
   ]
  },
  {
   "cell_type": "code",
   "execution_count": null,
   "id": "d7697763",
   "metadata": {},
   "outputs": [],
   "source": []
  }
 ],
 "metadata": {
  "kernelspec": {
   "display_name": "Python 3 (ipykernel)",
   "language": "python",
   "name": "python3"
  },
  "language_info": {
   "codemirror_mode": {
    "name": "ipython",
    "version": 3
   },
   "file_extension": ".py",
   "mimetype": "text/x-python",
   "name": "python",
   "nbconvert_exporter": "python",
   "pygments_lexer": "ipython3",
   "version": "3.9.7"
  }
 },
 "nbformat": 4,
 "nbformat_minor": 5
}
